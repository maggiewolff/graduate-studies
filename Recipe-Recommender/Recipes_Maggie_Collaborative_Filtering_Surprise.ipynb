{
 "cells": [
  {
   "cell_type": "markdown",
   "metadata": {},
   "source": [
    "Via https://www.kaggle.com/shuyangli94/food-com-recipes-and-user-interactions and https://aclanthology.org/D19-1613/"
   ]
  },
  {
   "cell_type": "code",
   "execution_count": 26,
   "metadata": {},
   "outputs": [],
   "source": [
    "import pandas as pd\n",
    "import numpy as np\n",
    "import sys\n",
    "\n",
    "from matplotlib import pyplot as plt\n",
    "import seaborn as sns\n",
    "%matplotlib inline"
   ]
  },
  {
   "cell_type": "code",
   "execution_count": 27,
   "metadata": {},
   "outputs": [
    {
     "data": {
      "text/plain": [
       "['.ipynb_checkpoints',\n",
       " 'CSC577 - Interim Report - MMohammed KRoy MWolff.pdf',\n",
       " 'Final Project- Content Recs - Kunal-Copy1.ipynb',\n",
       " 'Final Project- Content Recs - Kunal.ipynb',\n",
       " 'Group3-Eval.pdf',\n",
       " 'ingr_map.pkl',\n",
       " 'interactions_test.csv',\n",
       " 'interactions_train.csv',\n",
       " 'interactions_validation.csv',\n",
       " 'PP_recipes.csv',\n",
       " 'PP_users.csv',\n",
       " 'RAW_interactions.csv',\n",
       " 'RAW_recipes.csv',\n",
       " 'Recipes_Maggie_Collaborative_Filtering_Surprise.ipynb',\n",
       " 'Recipes_Maggie_Neighborhood_models.ipynb',\n",
       " 'recipe_meal_types.ipynb']"
      ]
     },
     "execution_count": 27,
     "metadata": {},
     "output_type": "execute_result"
    }
   ],
   "source": [
    "import os\n",
    "os.listdir()"
   ]
  },
  {
   "cell_type": "markdown",
   "metadata": {},
   "source": [
    "# Import Data"
   ]
  },
  {
   "cell_type": "code",
   "execution_count": 28,
   "metadata": {},
   "outputs": [
    {
     "name": "stdout",
     "output_type": "stream",
     "text": [
      "(25076, 6)\n",
      "25076\n"
     ]
    },
    {
     "data": {
      "text/html": [
       "<div>\n",
       "<style scoped>\n",
       "    .dataframe tbody tr th:only-of-type {\n",
       "        vertical-align: middle;\n",
       "    }\n",
       "\n",
       "    .dataframe tbody tr th {\n",
       "        vertical-align: top;\n",
       "    }\n",
       "\n",
       "    .dataframe thead th {\n",
       "        text-align: right;\n",
       "    }\n",
       "</style>\n",
       "<table border=\"1\" class=\"dataframe\">\n",
       "  <thead>\n",
       "    <tr style=\"text-align: right;\">\n",
       "      <th></th>\n",
       "      <th>u</th>\n",
       "      <th>techniques</th>\n",
       "      <th>items</th>\n",
       "      <th>n_items</th>\n",
       "      <th>ratings</th>\n",
       "      <th>n_ratings</th>\n",
       "    </tr>\n",
       "  </thead>\n",
       "  <tbody>\n",
       "    <tr>\n",
       "      <th>0</th>\n",
       "      <td>0</td>\n",
       "      <td>[8, 0, 0, 5, 6, 0, 0, 1, 0, 9, 1, 0, 0, 0, 1, ...</td>\n",
       "      <td>[1118, 27680, 32541, 137353, 16428, 28815, 658...</td>\n",
       "      <td>31</td>\n",
       "      <td>[5.0, 5.0, 5.0, 5.0, 5.0, 5.0, 5.0, 4.0, 4.0, ...</td>\n",
       "      <td>31</td>\n",
       "    </tr>\n",
       "    <tr>\n",
       "      <th>1</th>\n",
       "      <td>1</td>\n",
       "      <td>[11, 0, 0, 2, 12, 0, 0, 0, 0, 14, 5, 0, 0, 0, ...</td>\n",
       "      <td>[122140, 77036, 156817, 76957, 68818, 155600, ...</td>\n",
       "      <td>39</td>\n",
       "      <td>[5.0, 5.0, 5.0, 5.0, 5.0, 5.0, 5.0, 5.0, 5.0, ...</td>\n",
       "      <td>39</td>\n",
       "    </tr>\n",
       "    <tr>\n",
       "      <th>2</th>\n",
       "      <td>2</td>\n",
       "      <td>[13, 0, 0, 7, 5, 0, 1, 2, 1, 11, 0, 1, 0, 0, 1...</td>\n",
       "      <td>[168054, 87218, 35731, 1, 20475, 9039, 124834,...</td>\n",
       "      <td>27</td>\n",
       "      <td>[3.0, 4.0, 4.0, 4.0, 4.0, 4.0, 4.0, 4.0, 5.0, ...</td>\n",
       "      <td>27</td>\n",
       "    </tr>\n",
       "  </tbody>\n",
       "</table>\n",
       "</div>"
      ],
      "text/plain": [
       "   u                                         techniques  \\\n",
       "0  0  [8, 0, 0, 5, 6, 0, 0, 1, 0, 9, 1, 0, 0, 0, 1, ...   \n",
       "1  1  [11, 0, 0, 2, 12, 0, 0, 0, 0, 14, 5, 0, 0, 0, ...   \n",
       "2  2  [13, 0, 0, 7, 5, 0, 1, 2, 1, 11, 0, 1, 0, 0, 1...   \n",
       "\n",
       "                                               items  n_items  \\\n",
       "0  [1118, 27680, 32541, 137353, 16428, 28815, 658...       31   \n",
       "1  [122140, 77036, 156817, 76957, 68818, 155600, ...       39   \n",
       "2  [168054, 87218, 35731, 1, 20475, 9039, 124834,...       27   \n",
       "\n",
       "                                             ratings  n_ratings  \n",
       "0  [5.0, 5.0, 5.0, 5.0, 5.0, 5.0, 5.0, 4.0, 4.0, ...         31  \n",
       "1  [5.0, 5.0, 5.0, 5.0, 5.0, 5.0, 5.0, 5.0, 5.0, ...         39  \n",
       "2  [3.0, 4.0, 4.0, 4.0, 4.0, 4.0, 4.0, 4.0, 5.0, ...         27  "
      ]
     },
     "execution_count": 28,
     "metadata": {},
     "output_type": "execute_result"
    }
   ],
   "source": [
    "df_users = pd.read_csv('PP_users.csv')\n",
    "print(df_users.shape)\n",
    "print(df_users.u.nunique())\n",
    "df_users.head(3)"
   ]
  },
  {
   "cell_type": "code",
   "execution_count": 29,
   "metadata": {},
   "outputs": [
    {
     "name": "stdout",
     "output_type": "stream",
     "text": [
      "(178265, 8)\n",
      "178265\n"
     ]
    },
    {
     "data": {
      "text/html": [
       "<div>\n",
       "<style scoped>\n",
       "    .dataframe tbody tr th:only-of-type {\n",
       "        vertical-align: middle;\n",
       "    }\n",
       "\n",
       "    .dataframe tbody tr th {\n",
       "        vertical-align: top;\n",
       "    }\n",
       "\n",
       "    .dataframe thead th {\n",
       "        text-align: right;\n",
       "    }\n",
       "</style>\n",
       "<table border=\"1\" class=\"dataframe\">\n",
       "  <thead>\n",
       "    <tr style=\"text-align: right;\">\n",
       "      <th></th>\n",
       "      <th>id</th>\n",
       "      <th>i</th>\n",
       "      <th>name_tokens</th>\n",
       "      <th>ingredient_tokens</th>\n",
       "      <th>steps_tokens</th>\n",
       "      <th>techniques</th>\n",
       "      <th>calorie_level</th>\n",
       "      <th>ingredient_ids</th>\n",
       "    </tr>\n",
       "  </thead>\n",
       "  <tbody>\n",
       "    <tr>\n",
       "      <th>0</th>\n",
       "      <td>424415</td>\n",
       "      <td>23</td>\n",
       "      <td>[40480, 37229, 2911, 1019, 249, 6878, 6878, 28...</td>\n",
       "      <td>[[2911, 1019, 249, 6878], [1353], [6953], [153...</td>\n",
       "      <td>[40480, 40482, 21662, 481, 6878, 500, 246, 161...</td>\n",
       "      <td>[0, 0, 0, 0, 0, 0, 0, 0, 0, 1, 0, 0, 0, 0, 0, ...</td>\n",
       "      <td>0</td>\n",
       "      <td>[389, 7655, 6270, 1527, 3406]</td>\n",
       "    </tr>\n",
       "    <tr>\n",
       "      <th>1</th>\n",
       "      <td>146223</td>\n",
       "      <td>96900</td>\n",
       "      <td>[40480, 18376, 7056, 246, 1531, 2032, 40481]</td>\n",
       "      <td>[[17918], [25916], [2507, 6444], [8467, 1179],...</td>\n",
       "      <td>[40480, 40482, 729, 2525, 10906, 485, 43, 8393...</td>\n",
       "      <td>[1, 0, 0, 0, 0, 0, 0, 0, 0, 1, 0, 0, 0, 0, 0, ...</td>\n",
       "      <td>0</td>\n",
       "      <td>[2683, 4969, 800, 5298, 840, 2499, 6632, 7022,...</td>\n",
       "    </tr>\n",
       "    <tr>\n",
       "      <th>2</th>\n",
       "      <td>312329</td>\n",
       "      <td>120056</td>\n",
       "      <td>[40480, 21044, 16954, 8294, 556, 10837, 40481]</td>\n",
       "      <td>[[5867, 24176], [1353], [6953], [1301, 11332],...</td>\n",
       "      <td>[40480, 40482, 8240, 481, 24176, 296, 1353, 66...</td>\n",
       "      <td>[0, 0, 0, 0, 1, 0, 0, 0, 0, 0, 0, 1, 0, 0, 0, ...</td>\n",
       "      <td>1</td>\n",
       "      <td>[1257, 7655, 6270, 590, 5024, 1119, 4883, 6696...</td>\n",
       "    </tr>\n",
       "  </tbody>\n",
       "</table>\n",
       "</div>"
      ],
      "text/plain": [
       "       id       i                                        name_tokens  \\\n",
       "0  424415      23  [40480, 37229, 2911, 1019, 249, 6878, 6878, 28...   \n",
       "1  146223   96900       [40480, 18376, 7056, 246, 1531, 2032, 40481]   \n",
       "2  312329  120056     [40480, 21044, 16954, 8294, 556, 10837, 40481]   \n",
       "\n",
       "                                   ingredient_tokens  \\\n",
       "0  [[2911, 1019, 249, 6878], [1353], [6953], [153...   \n",
       "1  [[17918], [25916], [2507, 6444], [8467, 1179],...   \n",
       "2  [[5867, 24176], [1353], [6953], [1301, 11332],...   \n",
       "\n",
       "                                        steps_tokens  \\\n",
       "0  [40480, 40482, 21662, 481, 6878, 500, 246, 161...   \n",
       "1  [40480, 40482, 729, 2525, 10906, 485, 43, 8393...   \n",
       "2  [40480, 40482, 8240, 481, 24176, 296, 1353, 66...   \n",
       "\n",
       "                                          techniques  calorie_level  \\\n",
       "0  [0, 0, 0, 0, 0, 0, 0, 0, 0, 1, 0, 0, 0, 0, 0, ...              0   \n",
       "1  [1, 0, 0, 0, 0, 0, 0, 0, 0, 1, 0, 0, 0, 0, 0, ...              0   \n",
       "2  [0, 0, 0, 0, 1, 0, 0, 0, 0, 0, 0, 1, 0, 0, 0, ...              1   \n",
       "\n",
       "                                      ingredient_ids  \n",
       "0                      [389, 7655, 6270, 1527, 3406]  \n",
       "1  [2683, 4969, 800, 5298, 840, 2499, 6632, 7022,...  \n",
       "2  [1257, 7655, 6270, 590, 5024, 1119, 4883, 6696...  "
      ]
     },
     "execution_count": 29,
     "metadata": {},
     "output_type": "execute_result"
    }
   ],
   "source": [
    "df_recipes = pd.read_csv('PP_recipes.csv')\n",
    "print(df_recipes.shape)\n",
    "print(df_recipes.id.nunique())\n",
    "df_recipes.head(3)"
   ]
  },
  {
   "cell_type": "code",
   "execution_count": 30,
   "metadata": {},
   "outputs": [
    {
     "name": "stdout",
     "output_type": "stream",
     "text": [
      "(231637, 12)\n",
      "231637\n"
     ]
    },
    {
     "data": {
      "text/html": [
       "<div>\n",
       "<style scoped>\n",
       "    .dataframe tbody tr th:only-of-type {\n",
       "        vertical-align: middle;\n",
       "    }\n",
       "\n",
       "    .dataframe tbody tr th {\n",
       "        vertical-align: top;\n",
       "    }\n",
       "\n",
       "    .dataframe thead th {\n",
       "        text-align: right;\n",
       "    }\n",
       "</style>\n",
       "<table border=\"1\" class=\"dataframe\">\n",
       "  <thead>\n",
       "    <tr style=\"text-align: right;\">\n",
       "      <th></th>\n",
       "      <th>name</th>\n",
       "      <th>id</th>\n",
       "      <th>minutes</th>\n",
       "      <th>contributor_id</th>\n",
       "      <th>submitted</th>\n",
       "      <th>tags</th>\n",
       "      <th>nutrition</th>\n",
       "      <th>n_steps</th>\n",
       "      <th>steps</th>\n",
       "      <th>description</th>\n",
       "      <th>ingredients</th>\n",
       "      <th>n_ingredients</th>\n",
       "    </tr>\n",
       "  </thead>\n",
       "  <tbody>\n",
       "    <tr>\n",
       "      <th>0</th>\n",
       "      <td>arriba   baked winter squash mexican style</td>\n",
       "      <td>137739</td>\n",
       "      <td>55</td>\n",
       "      <td>47892</td>\n",
       "      <td>2005-09-16</td>\n",
       "      <td>['60-minutes-or-less', 'time-to-make', 'course...</td>\n",
       "      <td>[51.5, 0.0, 13.0, 0.0, 2.0, 0.0, 4.0]</td>\n",
       "      <td>11</td>\n",
       "      <td>['make a choice and proceed with recipe', 'dep...</td>\n",
       "      <td>autumn is my favorite time of year to cook! th...</td>\n",
       "      <td>['winter squash', 'mexican seasoning', 'mixed ...</td>\n",
       "      <td>7</td>\n",
       "    </tr>\n",
       "    <tr>\n",
       "      <th>1</th>\n",
       "      <td>a bit different  breakfast pizza</td>\n",
       "      <td>31490</td>\n",
       "      <td>30</td>\n",
       "      <td>26278</td>\n",
       "      <td>2002-06-17</td>\n",
       "      <td>['30-minutes-or-less', 'time-to-make', 'course...</td>\n",
       "      <td>[173.4, 18.0, 0.0, 17.0, 22.0, 35.0, 1.0]</td>\n",
       "      <td>9</td>\n",
       "      <td>['preheat oven to 425 degrees f', 'press dough...</td>\n",
       "      <td>this recipe calls for the crust to be prebaked...</td>\n",
       "      <td>['prepared pizza crust', 'sausage patty', 'egg...</td>\n",
       "      <td>6</td>\n",
       "    </tr>\n",
       "    <tr>\n",
       "      <th>2</th>\n",
       "      <td>all in the kitchen  chili</td>\n",
       "      <td>112140</td>\n",
       "      <td>130</td>\n",
       "      <td>196586</td>\n",
       "      <td>2005-02-25</td>\n",
       "      <td>['time-to-make', 'course', 'preparation', 'mai...</td>\n",
       "      <td>[269.8, 22.0, 32.0, 48.0, 39.0, 27.0, 5.0]</td>\n",
       "      <td>6</td>\n",
       "      <td>['brown ground beef in large pot', 'add choppe...</td>\n",
       "      <td>this modified version of 'mom's' chili was a h...</td>\n",
       "      <td>['ground beef', 'yellow onions', 'diced tomato...</td>\n",
       "      <td>13</td>\n",
       "    </tr>\n",
       "  </tbody>\n",
       "</table>\n",
       "</div>"
      ],
      "text/plain": [
       "                                         name      id  minutes  \\\n",
       "0  arriba   baked winter squash mexican style  137739       55   \n",
       "1            a bit different  breakfast pizza   31490       30   \n",
       "2                   all in the kitchen  chili  112140      130   \n",
       "\n",
       "   contributor_id   submitted  \\\n",
       "0           47892  2005-09-16   \n",
       "1           26278  2002-06-17   \n",
       "2          196586  2005-02-25   \n",
       "\n",
       "                                                tags  \\\n",
       "0  ['60-minutes-or-less', 'time-to-make', 'course...   \n",
       "1  ['30-minutes-or-less', 'time-to-make', 'course...   \n",
       "2  ['time-to-make', 'course', 'preparation', 'mai...   \n",
       "\n",
       "                                    nutrition  n_steps  \\\n",
       "0       [51.5, 0.0, 13.0, 0.0, 2.0, 0.0, 4.0]       11   \n",
       "1   [173.4, 18.0, 0.0, 17.0, 22.0, 35.0, 1.0]        9   \n",
       "2  [269.8, 22.0, 32.0, 48.0, 39.0, 27.0, 5.0]        6   \n",
       "\n",
       "                                               steps  \\\n",
       "0  ['make a choice and proceed with recipe', 'dep...   \n",
       "1  ['preheat oven to 425 degrees f', 'press dough...   \n",
       "2  ['brown ground beef in large pot', 'add choppe...   \n",
       "\n",
       "                                         description  \\\n",
       "0  autumn is my favorite time of year to cook! th...   \n",
       "1  this recipe calls for the crust to be prebaked...   \n",
       "2  this modified version of 'mom's' chili was a h...   \n",
       "\n",
       "                                         ingredients  n_ingredients  \n",
       "0  ['winter squash', 'mexican seasoning', 'mixed ...              7  \n",
       "1  ['prepared pizza crust', 'sausage patty', 'egg...              6  \n",
       "2  ['ground beef', 'yellow onions', 'diced tomato...             13  "
      ]
     },
     "execution_count": 30,
     "metadata": {},
     "output_type": "execute_result"
    }
   ],
   "source": [
    "df_raw_recipes = pd.read_csv('RAW_recipes.csv')\n",
    "print(df_raw_recipes.shape)\n",
    "print(df_raw_recipes.id.nunique())\n",
    "df_raw_recipes.head(3)"
   ]
  },
  {
   "cell_type": "code",
   "execution_count": 31,
   "metadata": {},
   "outputs": [
    {
     "name": "stdout",
     "output_type": "stream",
     "text": [
      "(1132367, 5)\n",
      "226570\n",
      "231637\n"
     ]
    },
    {
     "data": {
      "text/html": [
       "<div>\n",
       "<style scoped>\n",
       "    .dataframe tbody tr th:only-of-type {\n",
       "        vertical-align: middle;\n",
       "    }\n",
       "\n",
       "    .dataframe tbody tr th {\n",
       "        vertical-align: top;\n",
       "    }\n",
       "\n",
       "    .dataframe thead th {\n",
       "        text-align: right;\n",
       "    }\n",
       "</style>\n",
       "<table border=\"1\" class=\"dataframe\">\n",
       "  <thead>\n",
       "    <tr style=\"text-align: right;\">\n",
       "      <th></th>\n",
       "      <th>user_id</th>\n",
       "      <th>recipe_id</th>\n",
       "      <th>date</th>\n",
       "      <th>rating</th>\n",
       "      <th>review</th>\n",
       "    </tr>\n",
       "  </thead>\n",
       "  <tbody>\n",
       "    <tr>\n",
       "      <th>0</th>\n",
       "      <td>38094</td>\n",
       "      <td>40893</td>\n",
       "      <td>2003-02-17</td>\n",
       "      <td>4</td>\n",
       "      <td>Great with a salad. Cooked on top of stove for...</td>\n",
       "    </tr>\n",
       "    <tr>\n",
       "      <th>1</th>\n",
       "      <td>1293707</td>\n",
       "      <td>40893</td>\n",
       "      <td>2011-12-21</td>\n",
       "      <td>5</td>\n",
       "      <td>So simple, so delicious! Great for chilly fall...</td>\n",
       "    </tr>\n",
       "    <tr>\n",
       "      <th>2</th>\n",
       "      <td>8937</td>\n",
       "      <td>44394</td>\n",
       "      <td>2002-12-01</td>\n",
       "      <td>4</td>\n",
       "      <td>This worked very well and is EASY.  I used not...</td>\n",
       "    </tr>\n",
       "  </tbody>\n",
       "</table>\n",
       "</div>"
      ],
      "text/plain": [
       "   user_id  recipe_id        date  rating  \\\n",
       "0    38094      40893  2003-02-17       4   \n",
       "1  1293707      40893  2011-12-21       5   \n",
       "2     8937      44394  2002-12-01       4   \n",
       "\n",
       "                                              review  \n",
       "0  Great with a salad. Cooked on top of stove for...  \n",
       "1  So simple, so delicious! Great for chilly fall...  \n",
       "2  This worked very well and is EASY.  I used not...  "
      ]
     },
     "execution_count": 31,
     "metadata": {},
     "output_type": "execute_result"
    }
   ],
   "source": [
    "df_interactions = pd.read_csv('RAW_interactions.csv')\n",
    "print(df_interactions.shape)\n",
    "print(df_interactions.user_id.nunique())\n",
    "print(df_interactions.recipe_id.nunique())\n",
    "df_interactions.head(3)"
   ]
  },
  {
   "cell_type": "code",
   "execution_count": 32,
   "metadata": {},
   "outputs": [
    {
     "name": "stdout",
     "output_type": "stream",
     "text": [
      "(11659, 7)\n",
      "8023\n"
     ]
    },
    {
     "data": {
      "text/html": [
       "<div>\n",
       "<style scoped>\n",
       "    .dataframe tbody tr th:only-of-type {\n",
       "        vertical-align: middle;\n",
       "    }\n",
       "\n",
       "    .dataframe tbody tr th {\n",
       "        vertical-align: top;\n",
       "    }\n",
       "\n",
       "    .dataframe thead th {\n",
       "        text-align: right;\n",
       "    }\n",
       "</style>\n",
       "<table border=\"1\" class=\"dataframe\">\n",
       "  <thead>\n",
       "    <tr style=\"text-align: right;\">\n",
       "      <th></th>\n",
       "      <th>raw_ingr</th>\n",
       "      <th>raw_words</th>\n",
       "      <th>processed</th>\n",
       "      <th>len_proc</th>\n",
       "      <th>replaced</th>\n",
       "      <th>count</th>\n",
       "      <th>id</th>\n",
       "    </tr>\n",
       "  </thead>\n",
       "  <tbody>\n",
       "    <tr>\n",
       "      <th>0</th>\n",
       "      <td>medium heads bibb or red leaf lettuce, washed,...</td>\n",
       "      <td>13</td>\n",
       "      <td>medium heads bibb or red leaf lettuce, washed,...</td>\n",
       "      <td>73</td>\n",
       "      <td>lettuce</td>\n",
       "      <td>4507</td>\n",
       "      <td>4308</td>\n",
       "    </tr>\n",
       "    <tr>\n",
       "      <th>1</th>\n",
       "      <td>mixed baby lettuces and spring greens</td>\n",
       "      <td>6</td>\n",
       "      <td>mixed baby lettuces and spring green</td>\n",
       "      <td>36</td>\n",
       "      <td>lettuce</td>\n",
       "      <td>4507</td>\n",
       "      <td>4308</td>\n",
       "    </tr>\n",
       "    <tr>\n",
       "      <th>2</th>\n",
       "      <td>romaine lettuce leaf</td>\n",
       "      <td>3</td>\n",
       "      <td>romaine lettuce leaf</td>\n",
       "      <td>20</td>\n",
       "      <td>lettuce</td>\n",
       "      <td>4507</td>\n",
       "      <td>4308</td>\n",
       "    </tr>\n",
       "  </tbody>\n",
       "</table>\n",
       "</div>"
      ],
      "text/plain": [
       "                                            raw_ingr  raw_words  \\\n",
       "0  medium heads bibb or red leaf lettuce, washed,...         13   \n",
       "1              mixed baby lettuces and spring greens          6   \n",
       "2                               romaine lettuce leaf          3   \n",
       "\n",
       "                                           processed  len_proc replaced  \\\n",
       "0  medium heads bibb or red leaf lettuce, washed,...        73  lettuce   \n",
       "1               mixed baby lettuces and spring green        36  lettuce   \n",
       "2                               romaine lettuce leaf        20  lettuce   \n",
       "\n",
       "   count    id  \n",
       "0   4507  4308  \n",
       "1   4507  4308  \n",
       "2   4507  4308  "
      ]
     },
     "execution_count": 32,
     "metadata": {},
     "output_type": "execute_result"
    }
   ],
   "source": [
    "pickle = pd.read_pickle('ingr_map.pkl')\n",
    "print(pickle.shape)\n",
    "print(pickle.id.nunique())\n",
    "pickle.head(3)"
   ]
  },
  {
   "cell_type": "code",
   "execution_count": null,
   "metadata": {},
   "outputs": [],
   "source": []
  },
  {
   "cell_type": "markdown",
   "metadata": {},
   "source": [
    "# Exploratory Data Analysis"
   ]
  },
  {
   "cell_type": "code",
   "execution_count": 33,
   "metadata": {},
   "outputs": [
    {
     "name": "stdout",
     "output_type": "stream",
     "text": [
      "(25076, 6)\n"
     ]
    },
    {
     "data": {
      "text/plain": [
       "25076"
      ]
     },
     "execution_count": 33,
     "metadata": {},
     "output_type": "execute_result"
    }
   ],
   "source": [
    "print(df_users.shape)\n",
    "df_users.u.nunique()"
   ]
  },
  {
   "cell_type": "code",
   "execution_count": 34,
   "metadata": {},
   "outputs": [
    {
     "name": "stdout",
     "output_type": "stream",
     "text": [
      "(178265, 8)\n"
     ]
    },
    {
     "data": {
      "text/plain": [
       "178265"
      ]
     },
     "execution_count": 34,
     "metadata": {},
     "output_type": "execute_result"
    }
   ],
   "source": [
    "print(df_recipes.shape)\n",
    "df_recipes.id.nunique()"
   ]
  },
  {
   "cell_type": "code",
   "execution_count": 35,
   "metadata": {},
   "outputs": [
    {
     "name": "stdout",
     "output_type": "stream",
     "text": [
      "(231637, 12)\n"
     ]
    },
    {
     "data": {
      "text/plain": [
       "231637"
      ]
     },
     "execution_count": 35,
     "metadata": {},
     "output_type": "execute_result"
    }
   ],
   "source": [
    "print(df_raw_recipes.shape)\n",
    "df_raw_recipes.id.nunique()"
   ]
  },
  {
   "cell_type": "code",
   "execution_count": 36,
   "metadata": {},
   "outputs": [
    {
     "name": "stdout",
     "output_type": "stream",
     "text": [
      "(1132367, 5)\n",
      "226570\n",
      "231637\n"
     ]
    }
   ],
   "source": [
    "print(df_interactions.shape)\n",
    "print(df_interactions.user_id.nunique())\n",
    "print(df_interactions.recipe_id.nunique())"
   ]
  },
  {
   "cell_type": "code",
   "execution_count": 37,
   "metadata": {},
   "outputs": [
    {
     "name": "stdout",
     "output_type": "stream",
     "text": [
      "(11659, 7)\n"
     ]
    },
    {
     "data": {
      "text/plain": [
       "8023"
      ]
     },
     "execution_count": 37,
     "metadata": {},
     "output_type": "execute_result"
    }
   ],
   "source": [
    "print(pickle.shape)\n",
    "pickle.id.nunique()"
   ]
  },
  {
   "cell_type": "markdown",
   "metadata": {},
   "source": [
    "## EDA Users"
   ]
  },
  {
   "cell_type": "code",
   "execution_count": 38,
   "metadata": {},
   "outputs": [
    {
     "data": {
      "image/png": "[encoded data removed]",
      "text/plain": [
       "<Figure size 432x288 with 1 Axes>"
      ]
     },
     "metadata": {
      "needs_background": "light"
     },
     "output_type": "display_data"
    }
   ],
   "source": [
    "plt.boxplot(df_users['n_ratings'], showfliers=False);\n",
    "plt.title('Number of items rated by user');"
   ]
  },
  {
   "cell_type": "code",
   "execution_count": 39,
   "metadata": {},
   "outputs": [
    {
     "data": {
      "text/html": [
       "<div>\n",
       "<style scoped>\n",
       "    .dataframe tbody tr th:only-of-type {\n",
       "        vertical-align: middle;\n",
       "    }\n",
       "\n",
       "    .dataframe tbody tr th {\n",
       "        vertical-align: top;\n",
       "    }\n",
       "\n",
       "    .dataframe thead th {\n",
       "        text-align: right;\n",
       "    }\n",
       "</style>\n",
       "<table border=\"1\" class=\"dataframe\">\n",
       "  <thead>\n",
       "    <tr style=\"text-align: right;\">\n",
       "      <th></th>\n",
       "      <th>u</th>\n",
       "      <th>n_items</th>\n",
       "      <th>n_ratings</th>\n",
       "    </tr>\n",
       "  </thead>\n",
       "  <tbody>\n",
       "    <tr>\n",
       "      <th>count</th>\n",
       "      <td>25076.000000</td>\n",
       "      <td>25076.000000</td>\n",
       "      <td>25076.000000</td>\n",
       "    </tr>\n",
       "    <tr>\n",
       "      <th>mean</th>\n",
       "      <td>12537.500000</td>\n",
       "      <td>27.871311</td>\n",
       "      <td>27.871311</td>\n",
       "    </tr>\n",
       "    <tr>\n",
       "      <th>std</th>\n",
       "      <td>7238.962011</td>\n",
       "      <td>122.729039</td>\n",
       "      <td>122.729039</td>\n",
       "    </tr>\n",
       "    <tr>\n",
       "      <th>min</th>\n",
       "      <td>0.000000</td>\n",
       "      <td>2.000000</td>\n",
       "      <td>2.000000</td>\n",
       "    </tr>\n",
       "    <tr>\n",
       "      <th>25%</th>\n",
       "      <td>6268.750000</td>\n",
       "      <td>3.000000</td>\n",
       "      <td>3.000000</td>\n",
       "    </tr>\n",
       "    <tr>\n",
       "      <th>50%</th>\n",
       "      <td>12537.500000</td>\n",
       "      <td>6.000000</td>\n",
       "      <td>6.000000</td>\n",
       "    </tr>\n",
       "    <tr>\n",
       "      <th>75%</th>\n",
       "      <td>18806.250000</td>\n",
       "      <td>16.000000</td>\n",
       "      <td>16.000000</td>\n",
       "    </tr>\n",
       "    <tr>\n",
       "      <th>max</th>\n",
       "      <td>25075.000000</td>\n",
       "      <td>6437.000000</td>\n",
       "      <td>6437.000000</td>\n",
       "    </tr>\n",
       "  </tbody>\n",
       "</table>\n",
       "</div>"
      ],
      "text/plain": [
       "                  u       n_items     n_ratings\n",
       "count  25076.000000  25076.000000  25076.000000\n",
       "mean   12537.500000     27.871311     27.871311\n",
       "std     7238.962011    122.729039    122.729039\n",
       "min        0.000000      2.000000      2.000000\n",
       "25%     6268.750000      3.000000      3.000000\n",
       "50%    12537.500000      6.000000      6.000000\n",
       "75%    18806.250000     16.000000     16.000000\n",
       "max    25075.000000   6437.000000   6437.000000"
      ]
     },
     "execution_count": 39,
     "metadata": {},
     "output_type": "execute_result"
    }
   ],
   "source": [
    "df_users.describe()"
   ]
  },
  {
   "cell_type": "code",
   "execution_count": null,
   "metadata": {},
   "outputs": [],
   "source": []
  },
  {
   "cell_type": "markdown",
   "metadata": {},
   "source": [
    "## EDA Interactions"
   ]
  },
  {
   "cell_type": "code",
   "execution_count": 40,
   "metadata": {},
   "outputs": [
    {
     "data": {
      "text/plain": [
       "5    72.093588\n",
       "4    16.545872\n",
       "0     5.373435\n",
       "3     3.607929\n",
       "2     1.247210\n",
       "1     1.131965\n",
       "Name: rating, dtype: float64"
      ]
     },
     "execution_count": 40,
     "metadata": {},
     "output_type": "execute_result"
    }
   ],
   "source": [
    "df_interactions['rating'].value_counts(normalize=True)*100"
   ]
  },
  {
   "cell_type": "code",
   "execution_count": 41,
   "metadata": {},
   "outputs": [
    {
     "data": {
      "text/plain": [
       "5    816364\n",
       "4    187360\n",
       "0     60847\n",
       "3     40855\n",
       "2     14123\n",
       "1     12818\n",
       "Name: rating, dtype: int64"
      ]
     },
     "execution_count": 41,
     "metadata": {},
     "output_type": "execute_result"
    }
   ],
   "source": [
    "df_interactions['rating'].value_counts(normalize=False)"
   ]
  },
  {
   "cell_type": "code",
   "execution_count": 42,
   "metadata": {},
   "outputs": [
    {
     "data": {
      "image/png": "[encoded data removed]",
      "text/plain": [
       "<Figure size 432x288 with 1 Axes>"
      ]
     },
     "metadata": {
      "needs_background": "light"
     },
     "output_type": "display_data"
    }
   ],
   "source": [
    "df_interactions['rating'].value_counts(sort=False).plot(kind='bar');\n",
    "plt.title('Count of Ratings');"
   ]
  },
  {
   "cell_type": "code",
   "execution_count": 43,
   "metadata": {},
   "outputs": [
    {
     "data": {
      "text/html": [
       "<div>\n",
       "<style scoped>\n",
       "    .dataframe tbody tr th:only-of-type {\n",
       "        vertical-align: middle;\n",
       "    }\n",
       "\n",
       "    .dataframe tbody tr th {\n",
       "        vertical-align: top;\n",
       "    }\n",
       "\n",
       "    .dataframe thead th {\n",
       "        text-align: right;\n",
       "    }\n",
       "</style>\n",
       "<table border=\"1\" class=\"dataframe\">\n",
       "  <thead>\n",
       "    <tr style=\"text-align: right;\">\n",
       "      <th></th>\n",
       "      <th>user_id</th>\n",
       "    </tr>\n",
       "  </thead>\n",
       "  <tbody>\n",
       "    <tr>\n",
       "      <th>count</th>\n",
       "      <td>226570.000000</td>\n",
       "    </tr>\n",
       "    <tr>\n",
       "      <th>mean</th>\n",
       "      <td>4.997868</td>\n",
       "    </tr>\n",
       "    <tr>\n",
       "      <th>std</th>\n",
       "      <td>49.663111</td>\n",
       "    </tr>\n",
       "    <tr>\n",
       "      <th>min</th>\n",
       "      <td>1.000000</td>\n",
       "    </tr>\n",
       "    <tr>\n",
       "      <th>25%</th>\n",
       "      <td>1.000000</td>\n",
       "    </tr>\n",
       "    <tr>\n",
       "      <th>50%</th>\n",
       "      <td>1.000000</td>\n",
       "    </tr>\n",
       "    <tr>\n",
       "      <th>75%</th>\n",
       "      <td>2.000000</td>\n",
       "    </tr>\n",
       "    <tr>\n",
       "      <th>max</th>\n",
       "      <td>7671.000000</td>\n",
       "    </tr>\n",
       "  </tbody>\n",
       "</table>\n",
       "</div>"
      ],
      "text/plain": [
       "             user_id\n",
       "count  226570.000000\n",
       "mean        4.997868\n",
       "std        49.663111\n",
       "min         1.000000\n",
       "25%         1.000000\n",
       "50%         1.000000\n",
       "75%         2.000000\n",
       "max      7671.000000"
      ]
     },
     "execution_count": 43,
     "metadata": {},
     "output_type": "execute_result"
    }
   ],
   "source": [
    "df_interactions['user_id'].value_counts().to_frame().describe()"
   ]
  },
  {
   "cell_type": "code",
   "execution_count": 44,
   "metadata": {},
   "outputs": [
    {
     "data": {
      "text/html": [
       "<div>\n",
       "<style scoped>\n",
       "    .dataframe tbody tr th:only-of-type {\n",
       "        vertical-align: middle;\n",
       "    }\n",
       "\n",
       "    .dataframe tbody tr th {\n",
       "        vertical-align: top;\n",
       "    }\n",
       "\n",
       "    .dataframe thead th {\n",
       "        text-align: right;\n",
       "    }\n",
       "</style>\n",
       "<table border=\"1\" class=\"dataframe\">\n",
       "  <thead>\n",
       "    <tr style=\"text-align: right;\">\n",
       "      <th></th>\n",
       "      <th>user_id</th>\n",
       "      <th>recipe_id</th>\n",
       "      <th>date</th>\n",
       "      <th>rating</th>\n",
       "      <th>review</th>\n",
       "    </tr>\n",
       "  </thead>\n",
       "  <tbody>\n",
       "    <tr>\n",
       "      <th>6</th>\n",
       "      <td>124416</td>\n",
       "      <td>120345</td>\n",
       "      <td>2011-08-06</td>\n",
       "      <td>0</td>\n",
       "      <td>Just an observation, so I will not rate.  I fo...</td>\n",
       "    </tr>\n",
       "    <tr>\n",
       "      <th>12</th>\n",
       "      <td>468945</td>\n",
       "      <td>134728</td>\n",
       "      <td>2008-02-20</td>\n",
       "      <td>0</td>\n",
       "      <td>Made my own buttermilk w/ vinegar and milk.  U...</td>\n",
       "    </tr>\n",
       "    <tr>\n",
       "      <th>23</th>\n",
       "      <td>681408</td>\n",
       "      <td>225241</td>\n",
       "      <td>2008-03-14</td>\n",
       "      <td>0</td>\n",
       "      <td>This is a very good recipe.  We also want to c...</td>\n",
       "    </tr>\n",
       "    <tr>\n",
       "      <th>39</th>\n",
       "      <td>2002068522</td>\n",
       "      <td>29093</td>\n",
       "      <td>2018-03-26</td>\n",
       "      <td>0</td>\n",
       "      <td>i made it and it was amazing</td>\n",
       "    </tr>\n",
       "    <tr>\n",
       "      <th>56</th>\n",
       "      <td>980899</td>\n",
       "      <td>79222</td>\n",
       "      <td>2010-10-18</td>\n",
       "      <td>0</td>\n",
       "      <td>I used half cream and half 1% milk, added anot...</td>\n",
       "    </tr>\n",
       "    <tr>\n",
       "      <th>...</th>\n",
       "      <td>...</td>\n",
       "      <td>...</td>\n",
       "      <td>...</td>\n",
       "      <td>...</td>\n",
       "      <td>...</td>\n",
       "    </tr>\n",
       "    <tr>\n",
       "      <th>1132318</th>\n",
       "      <td>1197076</td>\n",
       "      <td>190261</td>\n",
       "      <td>2010-03-08</td>\n",
       "      <td>0</td>\n",
       "      <td>Delicious ! I tweeked the recipe a bit&gt;&gt;substi...</td>\n",
       "    </tr>\n",
       "    <tr>\n",
       "      <th>1132323</th>\n",
       "      <td>2405600</td>\n",
       "      <td>290157</td>\n",
       "      <td>2014-11-10</td>\n",
       "      <td>0</td>\n",
       "      <td>Just added this mix to a homemade beef &amp;amp; s...</td>\n",
       "    </tr>\n",
       "    <tr>\n",
       "      <th>1132325</th>\n",
       "      <td>2000650711</td>\n",
       "      <td>290157</td>\n",
       "      <td>2017-04-10</td>\n",
       "      <td>0</td>\n",
       "      <td>Would this make a good hamburger patty seasoning?</td>\n",
       "    </tr>\n",
       "    <tr>\n",
       "      <th>1132361</th>\n",
       "      <td>102526</td>\n",
       "      <td>54493</td>\n",
       "      <td>2007-04-26</td>\n",
       "      <td>0</td>\n",
       "      <td>I am not going to rate this because I did have...</td>\n",
       "    </tr>\n",
       "    <tr>\n",
       "      <th>1132362</th>\n",
       "      <td>116593</td>\n",
       "      <td>72730</td>\n",
       "      <td>2003-12-09</td>\n",
       "      <td>0</td>\n",
       "      <td>Another approach is to start making sauce with...</td>\n",
       "    </tr>\n",
       "  </tbody>\n",
       "</table>\n",
       "<p>60847 rows × 5 columns</p>\n",
       "</div>"
      ],
      "text/plain": [
       "            user_id  recipe_id        date  rating  \\\n",
       "6            124416     120345  2011-08-06       0   \n",
       "12           468945     134728  2008-02-20       0   \n",
       "23           681408     225241  2008-03-14       0   \n",
       "39       2002068522      29093  2018-03-26       0   \n",
       "56           980899      79222  2010-10-18       0   \n",
       "...             ...        ...         ...     ...   \n",
       "1132318     1197076     190261  2010-03-08       0   \n",
       "1132323     2405600     290157  2014-11-10       0   \n",
       "1132325  2000650711     290157  2017-04-10       0   \n",
       "1132361      102526      54493  2007-04-26       0   \n",
       "1132362      116593      72730  2003-12-09       0   \n",
       "\n",
       "                                                    review  \n",
       "6        Just an observation, so I will not rate.  I fo...  \n",
       "12       Made my own buttermilk w/ vinegar and milk.  U...  \n",
       "23       This is a very good recipe.  We also want to c...  \n",
       "39                            i made it and it was amazing  \n",
       "56       I used half cream and half 1% milk, added anot...  \n",
       "...                                                    ...  \n",
       "1132318  Delicious ! I tweeked the recipe a bit>>substi...  \n",
       "1132323  Just added this mix to a homemade beef &amp; s...  \n",
       "1132325  Would this make a good hamburger patty seasoning?  \n",
       "1132361  I am not going to rate this because I did have...  \n",
       "1132362  Another approach is to start making sauce with...  \n",
       "\n",
       "[60847 rows x 5 columns]"
      ]
     },
     "execution_count": 44,
     "metadata": {},
     "output_type": "execute_result"
    }
   ],
   "source": [
    "df_interactions.loc[df_interactions['rating']==0]"
   ]
  },
  {
   "cell_type": "code",
   "execution_count": null,
   "metadata": {},
   "outputs": [],
   "source": []
  },
  {
   "cell_type": "code",
   "execution_count": 45,
   "metadata": {},
   "outputs": [
    {
     "name": "stdout",
     "output_type": "stream",
     "text": [
      "percent of users that have rated only 1 recipe: 73.37952950523017 %\n",
      "percent of users that have rated at least 25 recipes: 2.310102837975019 %\n"
     ]
    }
   ],
   "source": [
    "df_g_u = df_interactions['user_id'].value_counts().to_frame().reset_index()\n",
    "\n",
    "percent1 = df_g_u.loc[df_g_u['user_id']==1].shape[0]/df_interactions['user_id'].value_counts().to_frame().shape[0]*100\n",
    "print('percent of users that have rated only 1 recipe:', percent1,'%') \n",
    "\n",
    "percent25 = df_g_u.loc[df_g_u['user_id']>25].shape[0]/df_interactions['user_id'].value_counts().to_frame().shape[0]*100\n",
    "print('percent of users that have rated at least 25 recipes:', percent25,'%') "
   ]
  },
  {
   "cell_type": "code",
   "execution_count": 46,
   "metadata": {},
   "outputs": [
    {
     "name": "stdout",
     "output_type": "stream",
     "text": [
      "percent of recipes that have only 1 rating: 39.697025950085695 %\n",
      "percent of recipes that have at least 25 ratings: 2.3942634380517793 %\n"
     ]
    }
   ],
   "source": [
    "df_g_i = df_interactions['recipe_id'].value_counts().to_frame().reset_index()\n",
    "\n",
    "percent1 = df_g_i.loc[df_g_i['recipe_id']==1].shape[0]/df_interactions['recipe_id'].value_counts().to_frame().shape[0]*100\n",
    "print('percent of recipes that have only 1 rating:', percent1,'%') \n",
    "\n",
    "percent25 = df_g_i.loc[df_g_i['recipe_id']>25].shape[0]/df_interactions['recipe_id'].value_counts().to_frame().shape[0]*100\n",
    "print('percent of recipes that have at least 25 ratings:',percent25,'%') "
   ]
  },
  {
   "cell_type": "code",
   "execution_count": null,
   "metadata": {},
   "outputs": [],
   "source": []
  },
  {
   "cell_type": "code",
   "execution_count": null,
   "metadata": {},
   "outputs": [],
   "source": []
  },
  {
   "cell_type": "markdown",
   "metadata": {},
   "source": [
    "## EDA Recipes"
   ]
  },
  {
   "cell_type": "code",
   "execution_count": 47,
   "metadata": {},
   "outputs": [
    {
     "name": "stdout",
     "output_type": "stream",
     "text": [
      "<class 'pandas.core.frame.DataFrame'>\n",
      "RangeIndex: 231637 entries, 0 to 231636\n",
      "Data columns (total 12 columns):\n",
      " #   Column          Non-Null Count   Dtype \n",
      "---  ------          --------------   ----- \n",
      " 0   name            231636 non-null  object\n",
      " 1   id              231637 non-null  int64 \n",
      " 2   minutes         231637 non-null  int64 \n",
      " 3   contributor_id  231637 non-null  int64 \n",
      " 4   submitted       231637 non-null  object\n",
      " 5   tags            231637 non-null  object\n",
      " 6   nutrition       231637 non-null  object\n",
      " 7   n_steps         231637 non-null  int64 \n",
      " 8   steps           231637 non-null  object\n",
      " 9   description     226658 non-null  object\n",
      " 10  ingredients     231637 non-null  object\n",
      " 11  n_ingredients   231637 non-null  int64 \n",
      "dtypes: int64(5), object(7)\n",
      "memory usage: 21.2+ MB\n"
     ]
    }
   ],
   "source": [
    "df_raw_recipes.info()"
   ]
  },
  {
   "cell_type": "code",
   "execution_count": 48,
   "metadata": {},
   "outputs": [
    {
     "data": {
      "image/png": "[encoded data removed]",
      "text/plain": [
       "<Figure size 432x288 with 1 Axes>"
      ]
     },
     "metadata": {
      "needs_background": "light"
     },
     "output_type": "display_data"
    }
   ],
   "source": [
    "plt.boxplot(df_raw_recipes['minutes'], showfliers=False);\n",
    "plt.title('Recipes by Minutes to Prepare');"
   ]
  },
  {
   "cell_type": "code",
   "execution_count": 49,
   "metadata": {},
   "outputs": [
    {
     "data": {
      "image/png": "[encoded data removed]",
      "text/plain": [
       "<Figure size 432x288 with 1 Axes>"
      ]
     },
     "metadata": {
      "needs_background": "light"
     },
     "output_type": "display_data"
    }
   ],
   "source": [
    "plt.boxplot(df_raw_recipes['n_steps'], showfliers=False);\n",
    "plt.title('Recipes by Number of Steps');"
   ]
  },
  {
   "cell_type": "code",
   "execution_count": 50,
   "metadata": {},
   "outputs": [
    {
     "data": {
      "image/png": "[encoded data removed]",
      "text/plain": [
       "<Figure size 432x288 with 1 Axes>"
      ]
     },
     "metadata": {
      "needs_background": "light"
     },
     "output_type": "display_data"
    }
   ],
   "source": [
    "plt.boxplot(df_raw_recipes['n_ingredients'], showfliers=False);\n",
    "plt.title('Recipes by Number of Ingredients');"
   ]
  },
  {
   "cell_type": "code",
   "execution_count": 51,
   "metadata": {},
   "outputs": [
    {
     "data": {
      "text/html": [
       "<div>\n",
       "<style scoped>\n",
       "    .dataframe tbody tr th:only-of-type {\n",
       "        vertical-align: middle;\n",
       "    }\n",
       "\n",
       "    .dataframe tbody tr th {\n",
       "        vertical-align: top;\n",
       "    }\n",
       "\n",
       "    .dataframe thead th {\n",
       "        text-align: right;\n",
       "    }\n",
       "</style>\n",
       "<table border=\"1\" class=\"dataframe\">\n",
       "  <thead>\n",
       "    <tr style=\"text-align: right;\">\n",
       "      <th></th>\n",
       "      <th>id</th>\n",
       "      <th>minutes</th>\n",
       "      <th>contributor_id</th>\n",
       "      <th>n_steps</th>\n",
       "      <th>n_ingredients</th>\n",
       "    </tr>\n",
       "  </thead>\n",
       "  <tbody>\n",
       "    <tr>\n",
       "      <th>count</th>\n",
       "      <td>231,637</td>\n",
       "      <td>231,637</td>\n",
       "      <td>231,637</td>\n",
       "      <td>231,637</td>\n",
       "      <td>231,637</td>\n",
       "    </tr>\n",
       "    <tr>\n",
       "      <th>mean</th>\n",
       "      <td>222,015</td>\n",
       "      <td>9,399</td>\n",
       "      <td>5,534,885</td>\n",
       "      <td>10</td>\n",
       "      <td>9</td>\n",
       "    </tr>\n",
       "    <tr>\n",
       "      <th>std</th>\n",
       "      <td>141,207</td>\n",
       "      <td>4,461,963</td>\n",
       "      <td>99,791,408</td>\n",
       "      <td>6</td>\n",
       "      <td>4</td>\n",
       "    </tr>\n",
       "    <tr>\n",
       "      <th>min</th>\n",
       "      <td>38</td>\n",
       "      <td>0</td>\n",
       "      <td>27</td>\n",
       "      <td>0</td>\n",
       "      <td>1</td>\n",
       "    </tr>\n",
       "    <tr>\n",
       "      <th>25%</th>\n",
       "      <td>99,944</td>\n",
       "      <td>20</td>\n",
       "      <td>56,905</td>\n",
       "      <td>6</td>\n",
       "      <td>6</td>\n",
       "    </tr>\n",
       "    <tr>\n",
       "      <th>50%</th>\n",
       "      <td>207,249</td>\n",
       "      <td>40</td>\n",
       "      <td>173,614</td>\n",
       "      <td>9</td>\n",
       "      <td>9</td>\n",
       "    </tr>\n",
       "    <tr>\n",
       "      <th>75%</th>\n",
       "      <td>333,816</td>\n",
       "      <td>65</td>\n",
       "      <td>398,275</td>\n",
       "      <td>12</td>\n",
       "      <td>11</td>\n",
       "    </tr>\n",
       "    <tr>\n",
       "      <th>max</th>\n",
       "      <td>537,716</td>\n",
       "      <td>2,147,483,647</td>\n",
       "      <td>2,002,289,981</td>\n",
       "      <td>145</td>\n",
       "      <td>43</td>\n",
       "    </tr>\n",
       "  </tbody>\n",
       "</table>\n",
       "</div>"
      ],
      "text/plain": [
       "                        id              minutes       contributor_id  \\\n",
       "count              231,637              231,637              231,637   \n",
       "mean               222,015                9,399            5,534,885   \n",
       "std                141,207            4,461,963           99,791,408   \n",
       "min                     38                    0                   27   \n",
       "25%                 99,944                   20               56,905   \n",
       "50%                207,249                   40              173,614   \n",
       "75%                333,816                   65              398,275   \n",
       "max                537,716        2,147,483,647        2,002,289,981   \n",
       "\n",
       "                   n_steps        n_ingredients  \n",
       "count              231,637              231,637  \n",
       "mean                    10                    9  \n",
       "std                      6                    4  \n",
       "min                      0                    1  \n",
       "25%                      6                    6  \n",
       "50%                      9                    9  \n",
       "75%                     12                   11  \n",
       "max                    145                   43  "
      ]
     },
     "execution_count": 51,
     "metadata": {},
     "output_type": "execute_result"
    }
   ],
   "source": [
    "pd.options.display.float_format = '{:20,.0f}'.format\n",
    "df_raw_recipes.describe()"
   ]
  },
  {
   "cell_type": "code",
   "execution_count": null,
   "metadata": {},
   "outputs": [],
   "source": []
  },
  {
   "cell_type": "markdown",
   "metadata": {},
   "source": [
    "## EDA Ingredient Categories "
   ]
  },
  {
   "cell_type": "code",
   "execution_count": 52,
   "metadata": {},
   "outputs": [
    {
     "data": {
      "text/html": [
       "<div>\n",
       "<style scoped>\n",
       "    .dataframe tbody tr th:only-of-type {\n",
       "        vertical-align: middle;\n",
       "    }\n",
       "\n",
       "    .dataframe tbody tr th {\n",
       "        vertical-align: top;\n",
       "    }\n",
       "\n",
       "    .dataframe thead th {\n",
       "        text-align: right;\n",
       "    }\n",
       "</style>\n",
       "<table border=\"1\" class=\"dataframe\">\n",
       "  <thead>\n",
       "    <tr style=\"text-align: right;\">\n",
       "      <th></th>\n",
       "      <th>replaced</th>\n",
       "      <th>count</th>\n",
       "    </tr>\n",
       "  </thead>\n",
       "  <tbody>\n",
       "    <tr>\n",
       "      <th>0</th>\n",
       "      <td>salt</td>\n",
       "      <td>72848</td>\n",
       "    </tr>\n",
       "    <tr>\n",
       "      <th>1</th>\n",
       "      <td>butter</td>\n",
       "      <td>48039</td>\n",
       "    </tr>\n",
       "    <tr>\n",
       "      <th>2</th>\n",
       "      <td>egg</td>\n",
       "      <td>43350</td>\n",
       "    </tr>\n",
       "    <tr>\n",
       "      <th>3</th>\n",
       "      <td>onion</td>\n",
       "      <td>42631</td>\n",
       "    </tr>\n",
       "    <tr>\n",
       "      <th>4</th>\n",
       "      <td>sugar</td>\n",
       "      <td>37464</td>\n",
       "    </tr>\n",
       "    <tr>\n",
       "      <th>5</th>\n",
       "      <td>olive oil</td>\n",
       "      <td>34402</td>\n",
       "    </tr>\n",
       "    <tr>\n",
       "      <th>6</th>\n",
       "      <td>garlic clove</td>\n",
       "      <td>29815</td>\n",
       "    </tr>\n",
       "    <tr>\n",
       "      <th>7</th>\n",
       "      <td>water</td>\n",
       "      <td>28592</td>\n",
       "    </tr>\n",
       "    <tr>\n",
       "      <th>8</th>\n",
       "      <td>milk</td>\n",
       "      <td>24114</td>\n",
       "    </tr>\n",
       "    <tr>\n",
       "      <th>9</th>\n",
       "      <td>flmy</td>\n",
       "      <td>23078</td>\n",
       "    </tr>\n",
       "  </tbody>\n",
       "</table>\n",
       "</div>"
      ],
      "text/plain": [
       "       replaced  count\n",
       "0          salt  72848\n",
       "1        butter  48039\n",
       "2           egg  43350\n",
       "3         onion  42631\n",
       "4         sugar  37464\n",
       "5     olive oil  34402\n",
       "6  garlic clove  29815\n",
       "7         water  28592\n",
       "8          milk  24114\n",
       "9          flmy  23078"
      ]
     },
     "execution_count": 52,
     "metadata": {},
     "output_type": "execute_result"
    }
   ],
   "source": [
    "item_count = pickle.groupby('replaced')['count'].mean().to_frame().sort_values('count', ascending=False).reset_index()\n",
    "item_count.head(10)"
   ]
  },
  {
   "cell_type": "code",
   "execution_count": null,
   "metadata": {},
   "outputs": [],
   "source": []
  },
  {
   "cell_type": "code",
   "execution_count": 53,
   "metadata": {},
   "outputs": [
    {
     "data": {
      "text/html": [
       "<div>\n",
       "<style scoped>\n",
       "    .dataframe tbody tr th:only-of-type {\n",
       "        vertical-align: middle;\n",
       "    }\n",
       "\n",
       "    .dataframe tbody tr th {\n",
       "        vertical-align: top;\n",
       "    }\n",
       "\n",
       "    .dataframe thead th {\n",
       "        text-align: right;\n",
       "    }\n",
       "</style>\n",
       "<table border=\"1\" class=\"dataframe\">\n",
       "  <thead>\n",
       "    <tr style=\"text-align: right;\">\n",
       "      <th></th>\n",
       "      <th>count</th>\n",
       "    </tr>\n",
       "  </thead>\n",
       "  <tbody>\n",
       "    <tr>\n",
       "      <th>count</th>\n",
       "      <td>8,023</td>\n",
       "    </tr>\n",
       "    <tr>\n",
       "      <th>mean</th>\n",
       "      <td>219</td>\n",
       "    </tr>\n",
       "    <tr>\n",
       "      <th>std</th>\n",
       "      <td>1,674</td>\n",
       "    </tr>\n",
       "    <tr>\n",
       "      <th>min</th>\n",
       "      <td>2</td>\n",
       "    </tr>\n",
       "    <tr>\n",
       "      <th>25%</th>\n",
       "      <td>4</td>\n",
       "    </tr>\n",
       "    <tr>\n",
       "      <th>50%</th>\n",
       "      <td>11</td>\n",
       "    </tr>\n",
       "    <tr>\n",
       "      <th>75%</th>\n",
       "      <td>50</td>\n",
       "    </tr>\n",
       "    <tr>\n",
       "      <th>max</th>\n",
       "      <td>72,848</td>\n",
       "    </tr>\n",
       "  </tbody>\n",
       "</table>\n",
       "</div>"
      ],
      "text/plain": [
       "                     count\n",
       "count                8,023\n",
       "mean                   219\n",
       "std                  1,674\n",
       "min                      2\n",
       "25%                      4\n",
       "50%                     11\n",
       "75%                     50\n",
       "max                 72,848"
      ]
     },
     "execution_count": 53,
     "metadata": {},
     "output_type": "execute_result"
    }
   ],
   "source": [
    "item_count.describe()"
   ]
  },
  {
   "cell_type": "code",
   "execution_count": 54,
   "metadata": {},
   "outputs": [
    {
     "data": {
      "image/png": "[encoded data removed]",
      "text/plain": [
       "<Figure size 432x288 with 1 Axes>"
      ]
     },
     "metadata": {
      "needs_background": "light"
     },
     "output_type": "display_data"
    }
   ],
   "source": [
    "plt.boxplot(item_count['count'], showfliers=False);\n",
    "plt.title('Frequency of Ingredients');"
   ]
  },
  {
   "cell_type": "code",
   "execution_count": null,
   "metadata": {},
   "outputs": [],
   "source": []
  },
  {
   "cell_type": "markdown",
   "metadata": {},
   "source": [
    "# Meal Categories\n",
    "\n",
    "Code from Monica "
   ]
  },
  {
   "cell_type": "code",
   "execution_count": 55,
   "metadata": {},
   "outputs": [],
   "source": [
    "def tag_count(series):\n",
    "    tag_counts = dict()\n",
    "    for recipe_tags in series:\n",
    "        recipe_tags = recipe_tags.strip('[]').replace(\"'\", \"\").split(\", \")\n",
    "        for tag in recipe_tags:\n",
    "            if tag not in tag_counts:\n",
    "                tag_counts[tag] = 0\n",
    "            else:\n",
    "                tag_counts[tag] += 1\n",
    "    return tag_counts\n",
    "        "
   ]
  },
  {
   "cell_type": "code",
   "execution_count": 56,
   "metadata": {},
   "outputs": [],
   "source": [
    "recipes = pd.read_csv('RAW_recipes.csv')\n",
    "tag_count_totals = tag_count(recipes.tags)"
   ]
  },
  {
   "cell_type": "code",
   "execution_count": 57,
   "metadata": {},
   "outputs": [],
   "source": [
    "tag_count_totals = pd.DataFrame({\n",
    "    'tag': tag_count_totals.keys(),\n",
    "    'freq': tag_count_totals.values()\n",
    "})"
   ]
  },
  {
   "cell_type": "code",
   "execution_count": 58,
   "metadata": {},
   "outputs": [
    {
     "data": {
      "text/plain": [
       "552"
      ]
     },
     "execution_count": 58,
     "metadata": {},
     "output_type": "execute_result"
    }
   ],
   "source": [
    "len(tag_count_totals)"
   ]
  },
  {
   "cell_type": "code",
   "execution_count": 59,
   "metadata": {},
   "outputs": [],
   "source": [
    "main_tags = [\n",
    "    'main-dish', \n",
    "    'desserts', \n",
    "    'cakes', \n",
    "    'side-dishes', \n",
    "    'lunch', \n",
    "    'appetizers', \n",
    "    'brunch', \n",
    "    'beverages', \n",
    "    'snacks', \n",
    "    'sandwiches',\n",
    "    'breakfast',\n",
    "    'salads',\n",
    "    'soup',\n",
    "    'soups-stews'\n",
    "    ]\n",
    "\n",
    "others = [\n",
    "    'pasta', \n",
    "    'condiments-etc', \n",
    "    'finger-food', \n",
    "    'sauces', \n",
    "    'pies-and-tarts', \n",
    "    'dips', \n",
    "    'pies', \n",
    "    'spreads', \n",
    "    'omelets-and-frittatas',\n",
    "    'vegetables',\n",
    "    'breads']"
   ]
  },
  {
   "cell_type": "code",
   "execution_count": 553,
   "metadata": {},
   "outputs": [],
   "source": [
    "def assign_main_tag(x):\n",
    "    recipe_tags = x.strip('[]').replace(\"'\", \"\").split(\", \")\n",
    "    for tag in main_tags:\n",
    "        if tag in recipe_tags:\n",
    "            return tag\n",
    "    else:\n",
    "        for tag in others:\n",
    "            if tag in recipe_tags:\n",
    "                return tag"
   ]
  },
  {
   "cell_type": "code",
   "execution_count": null,
   "metadata": {},
   "outputs": [],
   "source": []
  },
  {
   "cell_type": "code",
   "execution_count": 554,
   "metadata": {},
   "outputs": [],
   "source": [
    "recipes['meal_type'] = recipes.tags.apply(assign_main_tag)"
   ]
  },
  {
   "cell_type": "code",
   "execution_count": 555,
   "metadata": {},
   "outputs": [
    {
     "name": "stdout",
     "output_type": "stream",
     "text": [
      "percent missing meal type:\n"
     ]
    },
    {
     "data": {
      "text/plain": [
       "4.595984233952262"
      ]
     },
     "execution_count": 555,
     "metadata": {},
     "output_type": "execute_result"
    }
   ],
   "source": [
    "print('percent missing meal type:')\n",
    "recipes.loc[recipes.meal_type.isnull()].shape[0]/recipes.shape[0]*100"
   ]
  },
  {
   "cell_type": "code",
   "execution_count": 559,
   "metadata": {},
   "outputs": [],
   "source": [
    "recipes['meal_type'].fillna('other', inplace=True)"
   ]
  },
  {
   "cell_type": "code",
   "execution_count": 561,
   "metadata": {},
   "outputs": [
    {
     "data": {
      "text/plain": [
       "main-dish         71786\n",
       "desserts          43164\n",
       "side-dishes       23293\n",
       "lunch             13107\n",
       "appetizers        12464\n",
       "other             10646\n",
       "beverages          9273\n",
       "salads             7975\n",
       "soups-stews        7934\n",
       "condiments-etc     7674\n",
       "breads             7490\n",
       "brunch             7346\n",
       "breakfast          5390\n",
       "vegetables         2437\n",
       "pasta               969\n",
       "snacks              415\n",
       "finger-food         274\n",
       "Name: meal_type, dtype: int64"
      ]
     },
     "execution_count": 561,
     "metadata": {},
     "output_type": "execute_result"
    }
   ],
   "source": [
    "recipes['meal_type'].value_counts()"
   ]
  },
  {
   "cell_type": "code",
   "execution_count": 562,
   "metadata": {},
   "outputs": [
    {
     "data": {
      "text/plain": [
       "main-dish                        0.31\n",
       "desserts                         0.19\n",
       "side-dishes                      0.10\n",
       "lunch                            0.06\n",
       "appetizers                       0.05\n",
       "other                            0.05\n",
       "beverages                        0.04\n",
       "salads                           0.03\n",
       "soups-stews                      0.03\n",
       "condiments-etc                   0.03\n",
       "breads                           0.03\n",
       "brunch                           0.03\n",
       "breakfast                        0.02\n",
       "vegetables                       0.01\n",
       "pasta                            0.00\n",
       "snacks                           0.00\n",
       "finger-food                      0.00\n",
       "Name: meal_type, dtype: float64"
      ]
     },
     "execution_count": 562,
     "metadata": {},
     "output_type": "execute_result"
    }
   ],
   "source": [
    "recipes['meal_type'].value_counts(normalize=True)"
   ]
  },
  {
   "cell_type": "code",
   "execution_count": 560,
   "metadata": {},
   "outputs": [
    {
     "data": {
      "image/png": "[encoded data removed]",
      "text/plain": [
       "<Figure size 432x288 with 1 Axes>"
      ]
     },
     "metadata": {
      "needs_background": "light"
     },
     "output_type": "display_data"
    }
   ],
   "source": [
    "recipes['meal_type'].value_counts(sort=True).plot(kind='bar');\n",
    "plt.title('Types of Meals');"
   ]
  },
  {
   "cell_type": "code",
   "execution_count": null,
   "metadata": {},
   "outputs": [],
   "source": []
  },
  {
   "cell_type": "code",
   "execution_count": null,
   "metadata": {},
   "outputs": [],
   "source": []
  },
  {
   "cell_type": "markdown",
   "metadata": {},
   "source": [
    "# Ratings Data"
   ]
  },
  {
   "cell_type": "code",
   "execution_count": 65,
   "metadata": {},
   "outputs": [
    {
     "data": {
      "text/html": [
       "<div>\n",
       "<style scoped>\n",
       "    .dataframe tbody tr th:only-of-type {\n",
       "        vertical-align: middle;\n",
       "    }\n",
       "\n",
       "    .dataframe tbody tr th {\n",
       "        vertical-align: top;\n",
       "    }\n",
       "\n",
       "    .dataframe thead th {\n",
       "        text-align: right;\n",
       "    }\n",
       "</style>\n",
       "<table border=\"1\" class=\"dataframe\">\n",
       "  <thead>\n",
       "    <tr style=\"text-align: right;\">\n",
       "      <th></th>\n",
       "      <th>user_id</th>\n",
       "      <th>recipe_id</th>\n",
       "      <th>rating</th>\n",
       "    </tr>\n",
       "  </thead>\n",
       "  <tbody>\n",
       "    <tr>\n",
       "      <th>0</th>\n",
       "      <td>38094</td>\n",
       "      <td>40893</td>\n",
       "      <td>4</td>\n",
       "    </tr>\n",
       "    <tr>\n",
       "      <th>1</th>\n",
       "      <td>1293707</td>\n",
       "      <td>40893</td>\n",
       "      <td>5</td>\n",
       "    </tr>\n",
       "    <tr>\n",
       "      <th>2</th>\n",
       "      <td>8937</td>\n",
       "      <td>44394</td>\n",
       "      <td>4</td>\n",
       "    </tr>\n",
       "    <tr>\n",
       "      <th>3</th>\n",
       "      <td>126440</td>\n",
       "      <td>85009</td>\n",
       "      <td>5</td>\n",
       "    </tr>\n",
       "    <tr>\n",
       "      <th>4</th>\n",
       "      <td>57222</td>\n",
       "      <td>85009</td>\n",
       "      <td>5</td>\n",
       "    </tr>\n",
       "  </tbody>\n",
       "</table>\n",
       "</div>"
      ],
      "text/plain": [
       "   user_id  recipe_id  rating\n",
       "0    38094      40893       4\n",
       "1  1293707      40893       5\n",
       "2     8937      44394       4\n",
       "3   126440      85009       5\n",
       "4    57222      85009       5"
      ]
     },
     "execution_count": 65,
     "metadata": {},
     "output_type": "execute_result"
    }
   ],
   "source": [
    "#full dataset \n",
    "df_ratings = df_interactions[['user_id', 'recipe_id', 'rating']]\n",
    "df_ratings.head()"
   ]
  },
  {
   "cell_type": "code",
   "execution_count": 66,
   "metadata": {},
   "outputs": [
    {
     "data": {
      "text/plain": [
       "(1132367, 3)"
      ]
     },
     "execution_count": 66,
     "metadata": {},
     "output_type": "execute_result"
    }
   ],
   "source": [
    "df_ratings.shape"
   ]
  },
  {
   "cell_type": "markdown",
   "metadata": {},
   "source": [
    "### Create smaller dataset to remove less active users and less popular recipes"
   ]
  },
  {
   "cell_type": "code",
   "execution_count": 67,
   "metadata": {},
   "outputs": [
    {
     "data": {
      "text/plain": [
       "(1071520, 3)"
      ]
     },
     "execution_count": 67,
     "metadata": {},
     "output_type": "execute_result"
    }
   ],
   "source": [
    "#drop ratings of \"0\" since these might not reflect bad ratings \n",
    "df_ratings_drop0 = df_ratings[df_ratings['rating'] != 0]\n",
    "df_ratings_drop0.shape"
   ]
  },
  {
   "cell_type": "code",
   "execution_count": null,
   "metadata": {},
   "outputs": [],
   "source": []
  },
  {
   "cell_type": "code",
   "execution_count": 68,
   "metadata": {},
   "outputs": [
    {
     "name": "stdout",
     "output_type": "stream",
     "text": [
      "(5059, 2)\n"
     ]
    }
   ],
   "source": [
    "# how many users have rated at least 25 recipes? \n",
    "df_g_u = df_ratings_drop0['user_id'].value_counts().to_frame().reset_index()\n",
    "print(df_g_u.loc[df_g_u['user_id']>25].shape)"
   ]
  },
  {
   "cell_type": "code",
   "execution_count": 69,
   "metadata": {},
   "outputs": [
    {
     "name": "stdout",
     "output_type": "stream",
     "text": [
      "(5141, 2)\n"
     ]
    }
   ],
   "source": [
    "# how many recipes have rated at least 25 times? \n",
    "df_g_i = df_ratings_drop0['recipe_id'].value_counts().to_frame().reset_index()\n",
    "print(df_g_i.loc[df_g_i['recipe_id']>25].shape)"
   ]
  },
  {
   "cell_type": "code",
   "execution_count": null,
   "metadata": {},
   "outputs": [],
   "source": []
  },
  {
   "cell_type": "code",
   "execution_count": 70,
   "metadata": {},
   "outputs": [
    {
     "name": "stdout",
     "output_type": "stream",
     "text": [
      "Wall time: 1min 15s\n"
     ]
    },
    {
     "data": {
      "text/html": [
       "<div>\n",
       "<style scoped>\n",
       "    .dataframe tbody tr th:only-of-type {\n",
       "        vertical-align: middle;\n",
       "    }\n",
       "\n",
       "    .dataframe tbody tr th {\n",
       "        vertical-align: top;\n",
       "    }\n",
       "\n",
       "    .dataframe thead th {\n",
       "        text-align: right;\n",
       "    }\n",
       "</style>\n",
       "<table border=\"1\" class=\"dataframe\">\n",
       "  <thead>\n",
       "    <tr style=\"text-align: right;\">\n",
       "      <th></th>\n",
       "      <th>user_id</th>\n",
       "      <th>recipe_id</th>\n",
       "      <th>rating</th>\n",
       "    </tr>\n",
       "  </thead>\n",
       "  <tbody>\n",
       "    <tr>\n",
       "      <th>278</th>\n",
       "      <td>1110776</td>\n",
       "      <td>78274</td>\n",
       "      <td>5</td>\n",
       "    </tr>\n",
       "    <tr>\n",
       "      <th>462</th>\n",
       "      <td>28649</td>\n",
       "      <td>33096</td>\n",
       "      <td>5</td>\n",
       "    </tr>\n",
       "    <tr>\n",
       "      <th>463</th>\n",
       "      <td>30298</td>\n",
       "      <td>33096</td>\n",
       "      <td>4</td>\n",
       "    </tr>\n",
       "    <tr>\n",
       "      <th>464</th>\n",
       "      <td>87300</td>\n",
       "      <td>33096</td>\n",
       "      <td>5</td>\n",
       "    </tr>\n",
       "    <tr>\n",
       "      <th>465</th>\n",
       "      <td>22973</td>\n",
       "      <td>33096</td>\n",
       "      <td>5</td>\n",
       "    </tr>\n",
       "    <tr>\n",
       "      <th>...</th>\n",
       "      <td>...</td>\n",
       "      <td>...</td>\n",
       "      <td>...</td>\n",
       "    </tr>\n",
       "    <tr>\n",
       "      <th>1132060</th>\n",
       "      <td>1803509170</td>\n",
       "      <td>55438</td>\n",
       "      <td>5</td>\n",
       "    </tr>\n",
       "    <tr>\n",
       "      <th>1132061</th>\n",
       "      <td>2141785</td>\n",
       "      <td>55438</td>\n",
       "      <td>5</td>\n",
       "    </tr>\n",
       "    <tr>\n",
       "      <th>1132063</th>\n",
       "      <td>2001355112</td>\n",
       "      <td>55438</td>\n",
       "      <td>5</td>\n",
       "    </tr>\n",
       "    <tr>\n",
       "      <th>1132064</th>\n",
       "      <td>2001608972</td>\n",
       "      <td>55438</td>\n",
       "      <td>5</td>\n",
       "    </tr>\n",
       "    <tr>\n",
       "      <th>1132065</th>\n",
       "      <td>2002134109</td>\n",
       "      <td>55438</td>\n",
       "      <td>5</td>\n",
       "    </tr>\n",
       "  </tbody>\n",
       "</table>\n",
       "<p>341547 rows × 3 columns</p>\n",
       "</div>"
      ],
      "text/plain": [
       "            user_id  recipe_id  rating\n",
       "278         1110776      78274       5\n",
       "462           28649      33096       5\n",
       "463           30298      33096       4\n",
       "464           87300      33096       5\n",
       "465           22973      33096       5\n",
       "...             ...        ...     ...\n",
       "1132060  1803509170      55438       5\n",
       "1132061     2141785      55438       5\n",
       "1132063  2001355112      55438       5\n",
       "1132064  2001608972      55438       5\n",
       "1132065  2002134109      55438       5\n",
       "\n",
       "[341547 rows x 3 columns]"
      ]
     },
     "execution_count": 70,
     "metadata": {},
     "output_type": "execute_result"
    }
   ],
   "source": [
    "%%time \n",
    "\n",
    "# keep only recipes with more than 25 ratings \n",
    "df_ratings2 = df_ratings_drop0[df_ratings_drop0.groupby('recipe_id').user_id.transform(len) > 25]\n",
    "df_ratings2"
   ]
  },
  {
   "cell_type": "code",
   "execution_count": 71,
   "metadata": {},
   "outputs": [
    {
     "name": "stdout",
     "output_type": "stream",
     "text": [
      "Wall time: 28 s\n"
     ]
    },
    {
     "data": {
      "text/html": [
       "<div>\n",
       "<style scoped>\n",
       "    .dataframe tbody tr th:only-of-type {\n",
       "        vertical-align: middle;\n",
       "    }\n",
       "\n",
       "    .dataframe tbody tr th {\n",
       "        vertical-align: top;\n",
       "    }\n",
       "\n",
       "    .dataframe thead th {\n",
       "        text-align: right;\n",
       "    }\n",
       "</style>\n",
       "<table border=\"1\" class=\"dataframe\">\n",
       "  <thead>\n",
       "    <tr style=\"text-align: right;\">\n",
       "      <th></th>\n",
       "      <th>user_id</th>\n",
       "      <th>recipe_id</th>\n",
       "      <th>rating</th>\n",
       "    </tr>\n",
       "  </thead>\n",
       "  <tbody>\n",
       "    <tr>\n",
       "      <th>462</th>\n",
       "      <td>28649</td>\n",
       "      <td>33096</td>\n",
       "      <td>5</td>\n",
       "    </tr>\n",
       "    <tr>\n",
       "      <th>465</th>\n",
       "      <td>22973</td>\n",
       "      <td>33096</td>\n",
       "      <td>5</td>\n",
       "    </tr>\n",
       "    <tr>\n",
       "      <th>466</th>\n",
       "      <td>37449</td>\n",
       "      <td>33096</td>\n",
       "      <td>5</td>\n",
       "    </tr>\n",
       "    <tr>\n",
       "      <th>467</th>\n",
       "      <td>89831</td>\n",
       "      <td>33096</td>\n",
       "      <td>5</td>\n",
       "    </tr>\n",
       "    <tr>\n",
       "      <th>468</th>\n",
       "      <td>101034</td>\n",
       "      <td>33096</td>\n",
       "      <td>5</td>\n",
       "    </tr>\n",
       "    <tr>\n",
       "      <th>...</th>\n",
       "      <td>...</td>\n",
       "      <td>...</td>\n",
       "      <td>...</td>\n",
       "    </tr>\n",
       "    <tr>\n",
       "      <th>1131805</th>\n",
       "      <td>2000431901</td>\n",
       "      <td>147458</td>\n",
       "      <td>4</td>\n",
       "    </tr>\n",
       "    <tr>\n",
       "      <th>1131846</th>\n",
       "      <td>86627</td>\n",
       "      <td>55438</td>\n",
       "      <td>5</td>\n",
       "    </tr>\n",
       "    <tr>\n",
       "      <th>1131852</th>\n",
       "      <td>107583</td>\n",
       "      <td>55438</td>\n",
       "      <td>5</td>\n",
       "    </tr>\n",
       "    <tr>\n",
       "      <th>1131853</th>\n",
       "      <td>281132</td>\n",
       "      <td>55438</td>\n",
       "      <td>5</td>\n",
       "    </tr>\n",
       "    <tr>\n",
       "      <th>1131855</th>\n",
       "      <td>177753</td>\n",
       "      <td>55438</td>\n",
       "      <td>5</td>\n",
       "    </tr>\n",
       "  </tbody>\n",
       "</table>\n",
       "<p>133813 rows × 3 columns</p>\n",
       "</div>"
      ],
      "text/plain": [
       "            user_id  recipe_id  rating\n",
       "462           28649      33096       5\n",
       "465           22973      33096       5\n",
       "466           37449      33096       5\n",
       "467           89831      33096       5\n",
       "468          101034      33096       5\n",
       "...             ...        ...     ...\n",
       "1131805  2000431901     147458       4\n",
       "1131846       86627      55438       5\n",
       "1131852      107583      55438       5\n",
       "1131853      281132      55438       5\n",
       "1131855      177753      55438       5\n",
       "\n",
       "[133813 rows x 3 columns]"
      ]
     },
     "execution_count": 71,
     "metadata": {},
     "output_type": "execute_result"
    }
   ],
   "source": [
    "%%time \n",
    "\n",
    "# keep only users with more than 25 ratings \n",
    "df_ratings3 = df_ratings2[df_ratings2.groupby('user_id').recipe_id.transform(len) > 25]\n",
    "df_ratings3"
   ]
  },
  {
   "cell_type": "code",
   "execution_count": null,
   "metadata": {},
   "outputs": [],
   "source": []
  },
  {
   "cell_type": "code",
   "execution_count": 72,
   "metadata": {},
   "outputs": [
    {
     "data": {
      "text/plain": [
       "140132    1440\n",
       "126440     658\n",
       "176615     626\n",
       "173579     572\n",
       "158086     479\n",
       "          ... \n",
       "285867      26\n",
       "209603      26\n",
       "73706       26\n",
       "344938      26\n",
       "954555      26\n",
       "Name: user_id, Length: 2089, dtype: int64"
      ]
     },
     "execution_count": 72,
     "metadata": {},
     "output_type": "execute_result"
    }
   ],
   "source": [
    "df_ratings3['user_id'].value_counts()"
   ]
  },
  {
   "cell_type": "code",
   "execution_count": 73,
   "metadata": {},
   "outputs": [
    {
     "data": {
      "text/plain": [
       "27208     412\n",
       "89204     351\n",
       "39087     314\n",
       "22782     309\n",
       "69173     302\n",
       "         ... \n",
       "384905      1\n",
       "393411      1\n",
       "486496      1\n",
       "501041      1\n",
       "114360      1\n",
       "Name: recipe_id, Length: 5102, dtype: int64"
      ]
     },
     "execution_count": 73,
     "metadata": {},
     "output_type": "execute_result"
    }
   ],
   "source": [
    "df_ratings3['recipe_id'].value_counts()"
   ]
  },
  {
   "cell_type": "code",
   "execution_count": 74,
   "metadata": {},
   "outputs": [
    {
     "data": {
      "text/plain": [
       "(133813, 3)"
      ]
     },
     "execution_count": 74,
     "metadata": {},
     "output_type": "execute_result"
    }
   ],
   "source": [
    "df_ratings3.shape"
   ]
  },
  {
   "cell_type": "code",
   "execution_count": null,
   "metadata": {},
   "outputs": [],
   "source": []
  },
  {
   "cell_type": "code",
   "execution_count": 75,
   "metadata": {},
   "outputs": [
    {
     "name": "stdout",
     "output_type": "stream",
     "text": [
      "Wall time: 1.41 s\n"
     ]
    },
    {
     "data": {
      "text/html": [
       "<div>\n",
       "<style scoped>\n",
       "    .dataframe tbody tr th:only-of-type {\n",
       "        vertical-align: middle;\n",
       "    }\n",
       "\n",
       "    .dataframe tbody tr th {\n",
       "        vertical-align: top;\n",
       "    }\n",
       "\n",
       "    .dataframe thead th {\n",
       "        text-align: right;\n",
       "    }\n",
       "</style>\n",
       "<table border=\"1\" class=\"dataframe\">\n",
       "  <thead>\n",
       "    <tr style=\"text-align: right;\">\n",
       "      <th></th>\n",
       "      <th>user_id</th>\n",
       "      <th>recipe_id</th>\n",
       "      <th>rating</th>\n",
       "    </tr>\n",
       "  </thead>\n",
       "  <tbody>\n",
       "    <tr>\n",
       "      <th>462</th>\n",
       "      <td>28649</td>\n",
       "      <td>33096</td>\n",
       "      <td>5</td>\n",
       "    </tr>\n",
       "    <tr>\n",
       "      <th>465</th>\n",
       "      <td>22973</td>\n",
       "      <td>33096</td>\n",
       "      <td>5</td>\n",
       "    </tr>\n",
       "    <tr>\n",
       "      <th>466</th>\n",
       "      <td>37449</td>\n",
       "      <td>33096</td>\n",
       "      <td>5</td>\n",
       "    </tr>\n",
       "    <tr>\n",
       "      <th>467</th>\n",
       "      <td>89831</td>\n",
       "      <td>33096</td>\n",
       "      <td>5</td>\n",
       "    </tr>\n",
       "    <tr>\n",
       "      <th>468</th>\n",
       "      <td>101034</td>\n",
       "      <td>33096</td>\n",
       "      <td>5</td>\n",
       "    </tr>\n",
       "    <tr>\n",
       "      <th>...</th>\n",
       "      <td>...</td>\n",
       "      <td>...</td>\n",
       "      <td>...</td>\n",
       "    </tr>\n",
       "    <tr>\n",
       "      <th>1131735</th>\n",
       "      <td>535633</td>\n",
       "      <td>32541</td>\n",
       "      <td>5</td>\n",
       "    </tr>\n",
       "    <tr>\n",
       "      <th>1131736</th>\n",
       "      <td>173579</td>\n",
       "      <td>32541</td>\n",
       "      <td>5</td>\n",
       "    </tr>\n",
       "    <tr>\n",
       "      <th>1131740</th>\n",
       "      <td>216999</td>\n",
       "      <td>32541</td>\n",
       "      <td>5</td>\n",
       "    </tr>\n",
       "    <tr>\n",
       "      <th>1131741</th>\n",
       "      <td>107651</td>\n",
       "      <td>32541</td>\n",
       "      <td>4</td>\n",
       "    </tr>\n",
       "    <tr>\n",
       "      <th>1131742</th>\n",
       "      <td>844554</td>\n",
       "      <td>32541</td>\n",
       "      <td>5</td>\n",
       "    </tr>\n",
       "  </tbody>\n",
       "</table>\n",
       "<p>132928 rows × 3 columns</p>\n",
       "</div>"
      ],
      "text/plain": [
       "         user_id  recipe_id  rating\n",
       "462        28649      33096       5\n",
       "465        22973      33096       5\n",
       "466        37449      33096       5\n",
       "467        89831      33096       5\n",
       "468       101034      33096       5\n",
       "...          ...        ...     ...\n",
       "1131735   535633      32541       5\n",
       "1131736   173579      32541       5\n",
       "1131740   216999      32541       5\n",
       "1131741   107651      32541       4\n",
       "1131742   844554      32541       5\n",
       "\n",
       "[132928 rows x 3 columns]"
      ]
     },
     "execution_count": 75,
     "metadata": {},
     "output_type": "execute_result"
    }
   ],
   "source": [
    "%%time \n",
    "\n",
    "# now that recipes have been removed, re-run again to keep only recipes with more than 5 ratings \n",
    "df_ratings4 = df_ratings3[df_ratings3.groupby('recipe_id').user_id.transform(len) > 5]\n",
    "df_ratings4"
   ]
  },
  {
   "cell_type": "code",
   "execution_count": null,
   "metadata": {},
   "outputs": [],
   "source": []
  },
  {
   "cell_type": "code",
   "execution_count": 76,
   "metadata": {},
   "outputs": [
    {
     "data": {
      "text/plain": [
       "140132    1431\n",
       "126440     641\n",
       "176615     624\n",
       "173579     571\n",
       "158086     478\n",
       "          ... \n",
       "167527      25\n",
       "242208      24\n",
       "346221      23\n",
       "954555      23\n",
       "73951       23\n",
       "Name: user_id, Length: 2089, dtype: int64"
      ]
     },
     "execution_count": 76,
     "metadata": {},
     "output_type": "execute_result"
    }
   ],
   "source": [
    "df_ratings4['user_id'].value_counts()"
   ]
  },
  {
   "cell_type": "code",
   "execution_count": 77,
   "metadata": {},
   "outputs": [
    {
     "data": {
      "text/plain": [
       "27208     412\n",
       "89204     351\n",
       "39087     314\n",
       "22782     309\n",
       "69173     302\n",
       "         ... \n",
       "4042        6\n",
       "160307      6\n",
       "32987       6\n",
       "14130       6\n",
       "259393      6\n",
       "Name: recipe_id, Length: 4841, dtype: int64"
      ]
     },
     "execution_count": 77,
     "metadata": {},
     "output_type": "execute_result"
    }
   ],
   "source": [
    "df_ratings4['recipe_id'].value_counts()"
   ]
  },
  {
   "cell_type": "code",
   "execution_count": null,
   "metadata": {},
   "outputs": [],
   "source": []
  },
  {
   "cell_type": "code",
   "execution_count": 78,
   "metadata": {},
   "outputs": [
    {
     "data": {
      "text/html": [
       "<div>\n",
       "<style scoped>\n",
       "    .dataframe tbody tr th:only-of-type {\n",
       "        vertical-align: middle;\n",
       "    }\n",
       "\n",
       "    .dataframe tbody tr th {\n",
       "        vertical-align: top;\n",
       "    }\n",
       "\n",
       "    .dataframe thead th {\n",
       "        text-align: right;\n",
       "    }\n",
       "</style>\n",
       "<table border=\"1\" class=\"dataframe\">\n",
       "  <thead>\n",
       "    <tr style=\"text-align: right;\">\n",
       "      <th></th>\n",
       "      <th>rating</th>\n",
       "    </tr>\n",
       "    <tr>\n",
       "      <th>user_id</th>\n",
       "      <th></th>\n",
       "    </tr>\n",
       "  </thead>\n",
       "  <tbody>\n",
       "    <tr>\n",
       "      <th>716215</th>\n",
       "      <td>73</td>\n",
       "    </tr>\n",
       "    <tr>\n",
       "      <th>314327</th>\n",
       "      <td>86</td>\n",
       "    </tr>\n",
       "    <tr>\n",
       "      <th>59921</th>\n",
       "      <td>100</td>\n",
       "    </tr>\n",
       "    <tr>\n",
       "      <th>603504</th>\n",
       "      <td>101</td>\n",
       "    </tr>\n",
       "    <tr>\n",
       "      <th>1250369</th>\n",
       "      <td>106</td>\n",
       "    </tr>\n",
       "  </tbody>\n",
       "</table>\n",
       "</div>"
      ],
      "text/plain": [
       "         rating\n",
       "user_id        \n",
       "716215       73\n",
       "314327       86\n",
       "59921       100\n",
       "603504      101\n",
       "1250369     106"
      ]
     },
     "execution_count": 78,
     "metadata": {},
     "output_type": "execute_result"
    }
   ],
   "source": [
    "df_ratings4.groupby('user_id')['rating'].sum().to_frame().sort_values('rating').head()"
   ]
  },
  {
   "cell_type": "code",
   "execution_count": null,
   "metadata": {},
   "outputs": [],
   "source": []
  },
  {
   "cell_type": "code",
   "execution_count": 79,
   "metadata": {},
   "outputs": [
    {
     "data": {
      "text/plain": [
       "(1132367, 3)"
      ]
     },
     "execution_count": 79,
     "metadata": {},
     "output_type": "execute_result"
    }
   ],
   "source": [
    "df_ratings.shape"
   ]
  },
  {
   "cell_type": "code",
   "execution_count": 83,
   "metadata": {},
   "outputs": [
    {
     "data": {
      "text/plain": [
       "(132928, 3)"
      ]
     },
     "execution_count": 83,
     "metadata": {},
     "output_type": "execute_result"
    }
   ],
   "source": [
    "df_ratings4.shape"
   ]
  },
  {
   "cell_type": "code",
   "execution_count": 84,
   "metadata": {},
   "outputs": [
    {
     "data": {
      "text/plain": [
       "0.11738950357966985"
      ]
     },
     "execution_count": 84,
     "metadata": {},
     "output_type": "execute_result"
    }
   ],
   "source": [
    "df_ratings4.shape[0]/df_ratings.shape[0]"
   ]
  },
  {
   "cell_type": "code",
   "execution_count": null,
   "metadata": {},
   "outputs": [],
   "source": []
  },
  {
   "cell_type": "markdown",
   "metadata": {},
   "source": [
    "# Prepare data for Surprise package"
   ]
  },
  {
   "cell_type": "code",
   "execution_count": 85,
   "metadata": {},
   "outputs": [],
   "source": [
    "from surprise import Dataset\n",
    "from surprise import Reader"
   ]
  },
  {
   "cell_type": "code",
   "execution_count": 86,
   "metadata": {},
   "outputs": [],
   "source": [
    "reader_recipes = Reader(rating_scale=(0, 5))"
   ]
  },
  {
   "cell_type": "code",
   "execution_count": 87,
   "metadata": {},
   "outputs": [],
   "source": [
    "rateData = Dataset.load_from_df(df_ratings4[['user_id', 'recipe_id', 'rating']], reader_recipes)"
   ]
  },
  {
   "cell_type": "code",
   "execution_count": 131,
   "metadata": {},
   "outputs": [
    {
     "data": {
      "text/plain": [
       "<surprise.dataset.DatasetAutoFolds at 0x1c7bc229700>"
      ]
     },
     "execution_count": 131,
     "metadata": {},
     "output_type": "execute_result"
    }
   ],
   "source": [
    "rateData"
   ]
  },
  {
   "cell_type": "code",
   "execution_count": null,
   "metadata": {},
   "outputs": [],
   "source": []
  },
  {
   "cell_type": "markdown",
   "metadata": {},
   "source": [
    "# Surprise - neighborhood models "
   ]
  },
  {
   "cell_type": "code",
   "execution_count": 89,
   "metadata": {},
   "outputs": [],
   "source": [
    "from surprise import KNNWithMeans, KNNBasic, KNNWithZScore, KNNBaseline, SlopeOne \n",
    "from surprise import similarities, accuracy\n",
    "from surprise.model_selection import cross_validate, KFold, ShuffleSplit, GridSearchCV\n",
    "from time import time"
   ]
  },
  {
   "cell_type": "code",
   "execution_count": null,
   "metadata": {},
   "outputs": [],
   "source": []
  },
  {
   "cell_type": "code",
   "execution_count": 196,
   "metadata": {},
   "outputs": [],
   "source": [
    "k=10\n",
    "min_k=5\n",
    "cv=5\n",
    "measures = ['RMSE', 'MSE', 'MAE']\n",
    "models = (KNNWithMeans, KNNBasic, KNNWithZScore, KNNBaseline)\n",
    "user_based = (True, False) "
   ]
  },
  {
   "cell_type": "code",
   "execution_count": 209,
   "metadata": {
    "scrolled": true
   },
   "outputs": [
    {
     "name": "stdout",
     "output_type": "stream",
     "text": [
      "Computing the msd similarity matrix...\n",
      "Done computing similarity matrix.\n",
      "Computing the msd similarity matrix...\n",
      "Done computing similarity matrix.\n",
      "Computing the msd similarity matrix...\n",
      "Done computing similarity matrix.\n",
      "Computing the msd similarity matrix...\n",
      "Done computing similarity matrix.\n",
      "Computing the msd similarity matrix...\n",
      "Done computing similarity matrix.\n",
      "Computing the msd similarity matrix...\n",
      "Done computing similarity matrix.\n",
      "Computing the msd similarity matrix...\n",
      "Done computing similarity matrix.\n",
      "Computing the msd similarity matrix...\n",
      "Done computing similarity matrix.\n",
      "Computing the msd similarity matrix...\n",
      "Done computing similarity matrix.\n",
      "Computing the msd similarity matrix...\n",
      "Done computing similarity matrix.\n",
      "Computing the msd similarity matrix...\n",
      "Done computing similarity matrix.\n",
      "Computing the msd similarity matrix...\n",
      "Done computing similarity matrix.\n",
      "Computing the msd similarity matrix...\n",
      "Done computing similarity matrix.\n",
      "Computing the msd similarity matrix...\n",
      "Done computing similarity matrix.\n",
      "Computing the msd similarity matrix...\n",
      "Done computing similarity matrix.\n",
      "Computing the msd similarity matrix...\n",
      "Done computing similarity matrix.\n",
      "Computing the msd similarity matrix...\n",
      "Done computing similarity matrix.\n",
      "Computing the msd similarity matrix...\n",
      "Done computing similarity matrix.\n",
      "Computing the msd similarity matrix...\n",
      "Done computing similarity matrix.\n",
      "Computing the msd similarity matrix...\n",
      "Done computing similarity matrix.\n",
      "Computing the msd similarity matrix...\n",
      "Done computing similarity matrix.\n",
      "Computing the msd similarity matrix...\n",
      "Done computing similarity matrix.\n",
      "Computing the msd similarity matrix...\n",
      "Done computing similarity matrix.\n",
      "Computing the msd similarity matrix...\n",
      "Done computing similarity matrix.\n",
      "Computing the msd similarity matrix...\n",
      "Done computing similarity matrix.\n",
      "Computing the msd similarity matrix...\n",
      "Done computing similarity matrix.\n",
      "Computing the msd similarity matrix...\n",
      "Done computing similarity matrix.\n",
      "Computing the msd similarity matrix...\n",
      "Done computing similarity matrix.\n",
      "Computing the msd similarity matrix...\n",
      "Done computing similarity matrix.\n",
      "Computing the msd similarity matrix...\n",
      "Done computing similarity matrix.\n",
      "Estimating biases using als...\n",
      "Computing the msd similarity matrix...\n",
      "Done computing similarity matrix.\n",
      "Estimating biases using als...\n",
      "Computing the msd similarity matrix...\n",
      "Done computing similarity matrix.\n",
      "Estimating biases using als...\n",
      "Computing the msd similarity matrix...\n",
      "Done computing similarity matrix.\n",
      "Estimating biases using als...\n",
      "Computing the msd similarity matrix...\n",
      "Done computing similarity matrix.\n",
      "Estimating biases using als...\n",
      "Computing the msd similarity matrix...\n",
      "Done computing similarity matrix.\n",
      "Estimating biases using als...\n",
      "Computing the msd similarity matrix...\n",
      "Done computing similarity matrix.\n",
      "Estimating biases using als...\n",
      "Computing the msd similarity matrix...\n",
      "Done computing similarity matrix.\n",
      "Estimating biases using als...\n",
      "Computing the msd similarity matrix...\n",
      "Done computing similarity matrix.\n",
      "Estimating biases using als...\n",
      "Computing the msd similarity matrix...\n",
      "Done computing similarity matrix.\n",
      "Estimating biases using als...\n",
      "Computing the msd similarity matrix...\n",
      "Done computing similarity matrix.\n",
      "Wall time: 3min 37s\n"
     ]
    }
   ],
   "source": [
    "%%time \n",
    "\n",
    "df = pd.DataFrame(columns = ['Model', 'User_Based', 'RMSE', 'MSE', 'MAE', 'Fit_Time', 'Test_Time'])\n",
    "\n",
    "for m in models:\n",
    "    for u in user_based:\n",
    "                \n",
    "        #t0 = time()\n",
    "\n",
    "        sim_options = {\"user_based\": u}\n",
    "        knn = m(k = k, min_k=min_k, sim_options=sim_options)\n",
    "        cv_results = cross_validate(knn, rateData, measures=measures, cv=cv, verbose=False)\n",
    "\n",
    "        #runtime = (time() - t0)\n",
    "        \n",
    "        df2 = pd.DataFrame([[str(m)[44:-2], \n",
    "                             u, \n",
    "                             cv_results['test_rmse'].mean(), \n",
    "                             cv_results['test_mse'].mean(), \n",
    "                             cv_results['test_mae'].mean(), \n",
    "                             np.array(cv_results['fit_time']).mean(),\n",
    "                             np.array(cv_results['test_time']).mean()]], \n",
    "                             columns=['Model', 'User_Based', 'RMSE', 'MSE', 'MAE', 'Fit_Time', 'Test_Time'])\n",
    "        df = df.append(df2)\n",
    "        "
   ]
  },
  {
   "cell_type": "code",
   "execution_count": 210,
   "metadata": {},
   "outputs": [],
   "source": [
    "#t0 = time()\n",
    "\n",
    "so = SlopeOne()\n",
    "cv_results = cross_validate(so, rateData, measures=measures, cv=cv, verbose=False)\n",
    "\n",
    "#runtime = (time() - t0)\n",
    "        \n",
    "df2 = pd.DataFrame([[str(SlopeOne)[49:-2], \n",
    "                             None, \n",
    "                             cv_results['test_rmse'].mean(), \n",
    "                             cv_results['test_mse'].mean(), \n",
    "                             cv_results['test_mae'].mean(), \n",
    "                             np.array(cv_results['fit_time']).mean(),\n",
    "                             np.array(cv_results['test_time']).mean()]], \n",
    "                           columns=['Model', 'User_Based', 'RMSE', 'MSE', 'MAE', 'Fit_Time', 'Test_Time'])\n",
    "df = df.append(df2)"
   ]
  },
  {
   "cell_type": "code",
   "execution_count": 211,
   "metadata": {},
   "outputs": [
    {
     "data": {
      "text/html": [
       "<div>\n",
       "<style scoped>\n",
       "    .dataframe tbody tr th:only-of-type {\n",
       "        vertical-align: middle;\n",
       "    }\n",
       "\n",
       "    .dataframe tbody tr th {\n",
       "        vertical-align: top;\n",
       "    }\n",
       "\n",
       "    .dataframe thead th {\n",
       "        text-align: right;\n",
       "    }\n",
       "</style>\n",
       "<table border=\"1\" class=\"dataframe\">\n",
       "  <thead>\n",
       "    <tr style=\"text-align: right;\">\n",
       "      <th></th>\n",
       "      <th>Model</th>\n",
       "      <th>User_Based</th>\n",
       "      <th>RMSE</th>\n",
       "      <th>MSE</th>\n",
       "      <th>MAE</th>\n",
       "      <th>Fit_Time</th>\n",
       "      <th>Test_Time</th>\n",
       "    </tr>\n",
       "  </thead>\n",
       "  <tbody>\n",
       "    <tr>\n",
       "      <th>0</th>\n",
       "      <td>KNNWithMeans</td>\n",
       "      <td>True</td>\n",
       "      <td>0.5579</td>\n",
       "      <td>0.3113</td>\n",
       "      <td>0.3532</td>\n",
       "      <td>0.6082</td>\n",
       "      <td>2.6381</td>\n",
       "    </tr>\n",
       "    <tr>\n",
       "      <th>0</th>\n",
       "      <td>KNNWithMeans</td>\n",
       "      <td>False</td>\n",
       "      <td>0.5675</td>\n",
       "      <td>0.3221</td>\n",
       "      <td>0.3607</td>\n",
       "      <td>1.9140</td>\n",
       "      <td>5.0236</td>\n",
       "    </tr>\n",
       "    <tr>\n",
       "      <th>0</th>\n",
       "      <td>KNNBasic</td>\n",
       "      <td>True</td>\n",
       "      <td>0.6015</td>\n",
       "      <td>0.3618</td>\n",
       "      <td>0.3696</td>\n",
       "      <td>0.5832</td>\n",
       "      <td>2.4392</td>\n",
       "    </tr>\n",
       "    <tr>\n",
       "      <th>0</th>\n",
       "      <td>KNNBasic</td>\n",
       "      <td>False</td>\n",
       "      <td>0.5723</td>\n",
       "      <td>0.3276</td>\n",
       "      <td>0.3463</td>\n",
       "      <td>2.0144</td>\n",
       "      <td>4.2008</td>\n",
       "    </tr>\n",
       "    <tr>\n",
       "      <th>0</th>\n",
       "      <td>KNNWithZScore</td>\n",
       "      <td>True</td>\n",
       "      <td>0.5649</td>\n",
       "      <td>0.3191</td>\n",
       "      <td>0.3489</td>\n",
       "      <td>0.8122</td>\n",
       "      <td>2.7461</td>\n",
       "    </tr>\n",
       "    <tr>\n",
       "      <th>0</th>\n",
       "      <td>KNNWithZScore</td>\n",
       "      <td>False</td>\n",
       "      <td>0.5754</td>\n",
       "      <td>0.3311</td>\n",
       "      <td>0.3574</td>\n",
       "      <td>2.2662</td>\n",
       "      <td>5.1555</td>\n",
       "    </tr>\n",
       "    <tr>\n",
       "      <th>0</th>\n",
       "      <td>KNNBaseline</td>\n",
       "      <td>True</td>\n",
       "      <td>0.5587</td>\n",
       "      <td>0.3121</td>\n",
       "      <td>0.3532</td>\n",
       "      <td>0.9630</td>\n",
       "      <td>2.7681</td>\n",
       "    </tr>\n",
       "    <tr>\n",
       "      <th>0</th>\n",
       "      <td>KNNBaseline</td>\n",
       "      <td>False</td>\n",
       "      <td>0.5603</td>\n",
       "      <td>0.3139</td>\n",
       "      <td>0.3502</td>\n",
       "      <td>2.0202</td>\n",
       "      <td>4.1436</td>\n",
       "    </tr>\n",
       "    <tr>\n",
       "      <th>0</th>\n",
       "      <td>SlopeOne</td>\n",
       "      <td>None</td>\n",
       "      <td>0.5688</td>\n",
       "      <td>0.3235</td>\n",
       "      <td>0.3604</td>\n",
       "      <td>1.7438</td>\n",
       "      <td>2.9611</td>\n",
       "    </tr>\n",
       "  </tbody>\n",
       "</table>\n",
       "</div>"
      ],
      "text/plain": [
       "           Model User_Based                 RMSE                  MSE  \\\n",
       "0   KNNWithMeans       True               0.5579               0.3113   \n",
       "0   KNNWithMeans      False               0.5675               0.3221   \n",
       "0       KNNBasic       True               0.6015               0.3618   \n",
       "0       KNNBasic      False               0.5723               0.3276   \n",
       "0  KNNWithZScore       True               0.5649               0.3191   \n",
       "0  KNNWithZScore      False               0.5754               0.3311   \n",
       "0    KNNBaseline       True               0.5587               0.3121   \n",
       "0    KNNBaseline      False               0.5603               0.3139   \n",
       "0       SlopeOne       None               0.5688               0.3235   \n",
       "\n",
       "                   MAE             Fit_Time            Test_Time  \n",
       "0               0.3532               0.6082               2.6381  \n",
       "0               0.3607               1.9140               5.0236  \n",
       "0               0.3696               0.5832               2.4392  \n",
       "0               0.3463               2.0144               4.2008  \n",
       "0               0.3489               0.8122               2.7461  \n",
       "0               0.3574               2.2662               5.1555  \n",
       "0               0.3532               0.9630               2.7681  \n",
       "0               0.3502               2.0202               4.1436  \n",
       "0               0.3604               1.7438               2.9611  "
      ]
     },
     "execution_count": 211,
     "metadata": {},
     "output_type": "execute_result"
    }
   ],
   "source": [
    "pd.options.display.float_format = '{:20,.4f}'.format\n",
    "df"
   ]
  },
  {
   "cell_type": "code",
   "execution_count": 212,
   "metadata": {},
   "outputs": [
    {
     "data": {
      "text/html": [
       "<div>\n",
       "<style scoped>\n",
       "    .dataframe tbody tr th:only-of-type {\n",
       "        vertical-align: middle;\n",
       "    }\n",
       "\n",
       "    .dataframe tbody tr th {\n",
       "        vertical-align: top;\n",
       "    }\n",
       "\n",
       "    .dataframe thead th {\n",
       "        text-align: right;\n",
       "    }\n",
       "</style>\n",
       "<table border=\"1\" class=\"dataframe\">\n",
       "  <thead>\n",
       "    <tr style=\"text-align: right;\">\n",
       "      <th></th>\n",
       "      <th>Model</th>\n",
       "      <th>User_Based</th>\n",
       "      <th>RMSE</th>\n",
       "      <th>MSE</th>\n",
       "      <th>MAE</th>\n",
       "      <th>Fit_Time</th>\n",
       "      <th>Test_Time</th>\n",
       "    </tr>\n",
       "  </thead>\n",
       "  <tbody>\n",
       "    <tr>\n",
       "      <th>0</th>\n",
       "      <td>KNNWithMeans</td>\n",
       "      <td>True</td>\n",
       "      <td>0.5579</td>\n",
       "      <td>0.3113</td>\n",
       "      <td>0.3532</td>\n",
       "      <td>0.6082</td>\n",
       "      <td>2.6381</td>\n",
       "    </tr>\n",
       "    <tr>\n",
       "      <th>0</th>\n",
       "      <td>KNNBaseline</td>\n",
       "      <td>True</td>\n",
       "      <td>0.5587</td>\n",
       "      <td>0.3121</td>\n",
       "      <td>0.3532</td>\n",
       "      <td>0.9630</td>\n",
       "      <td>2.7681</td>\n",
       "    </tr>\n",
       "    <tr>\n",
       "      <th>0</th>\n",
       "      <td>KNNBaseline</td>\n",
       "      <td>False</td>\n",
       "      <td>0.5603</td>\n",
       "      <td>0.3139</td>\n",
       "      <td>0.3502</td>\n",
       "      <td>2.0202</td>\n",
       "      <td>4.1436</td>\n",
       "    </tr>\n",
       "  </tbody>\n",
       "</table>\n",
       "</div>"
      ],
      "text/plain": [
       "          Model User_Based                 RMSE                  MSE  \\\n",
       "0  KNNWithMeans       True               0.5579               0.3113   \n",
       "0   KNNBaseline       True               0.5587               0.3121   \n",
       "0   KNNBaseline      False               0.5603               0.3139   \n",
       "\n",
       "                   MAE             Fit_Time            Test_Time  \n",
       "0               0.3532               0.6082               2.6381  \n",
       "0               0.3532               0.9630               2.7681  \n",
       "0               0.3502               2.0202               4.1436  "
      ]
     },
     "execution_count": 212,
     "metadata": {},
     "output_type": "execute_result"
    }
   ],
   "source": [
    "df.sort_values('RMSE').head(3)"
   ]
  },
  {
   "cell_type": "code",
   "execution_count": 213,
   "metadata": {},
   "outputs": [
    {
     "data": {
      "text/html": [
       "<div>\n",
       "<style scoped>\n",
       "    .dataframe tbody tr th:only-of-type {\n",
       "        vertical-align: middle;\n",
       "    }\n",
       "\n",
       "    .dataframe tbody tr th {\n",
       "        vertical-align: top;\n",
       "    }\n",
       "\n",
       "    .dataframe thead th {\n",
       "        text-align: right;\n",
       "    }\n",
       "</style>\n",
       "<table border=\"1\" class=\"dataframe\">\n",
       "  <thead>\n",
       "    <tr style=\"text-align: right;\">\n",
       "      <th></th>\n",
       "      <th>Model</th>\n",
       "      <th>User_Based</th>\n",
       "      <th>RMSE</th>\n",
       "      <th>MSE</th>\n",
       "      <th>MAE</th>\n",
       "      <th>Fit_Time</th>\n",
       "      <th>Test_Time</th>\n",
       "    </tr>\n",
       "  </thead>\n",
       "  <tbody>\n",
       "    <tr>\n",
       "      <th>0</th>\n",
       "      <td>KNNWithMeans</td>\n",
       "      <td>True</td>\n",
       "      <td>0.5579</td>\n",
       "      <td>0.3113</td>\n",
       "      <td>0.3532</td>\n",
       "      <td>0.6082</td>\n",
       "      <td>2.6381</td>\n",
       "    </tr>\n",
       "    <tr>\n",
       "      <th>0</th>\n",
       "      <td>KNNBaseline</td>\n",
       "      <td>True</td>\n",
       "      <td>0.5587</td>\n",
       "      <td>0.3121</td>\n",
       "      <td>0.3532</td>\n",
       "      <td>0.9630</td>\n",
       "      <td>2.7681</td>\n",
       "    </tr>\n",
       "    <tr>\n",
       "      <th>0</th>\n",
       "      <td>KNNBaseline</td>\n",
       "      <td>False</td>\n",
       "      <td>0.5603</td>\n",
       "      <td>0.3139</td>\n",
       "      <td>0.3502</td>\n",
       "      <td>2.0202</td>\n",
       "      <td>4.1436</td>\n",
       "    </tr>\n",
       "  </tbody>\n",
       "</table>\n",
       "</div>"
      ],
      "text/plain": [
       "          Model User_Based                 RMSE                  MSE  \\\n",
       "0  KNNWithMeans       True               0.5579               0.3113   \n",
       "0   KNNBaseline       True               0.5587               0.3121   \n",
       "0   KNNBaseline      False               0.5603               0.3139   \n",
       "\n",
       "                   MAE             Fit_Time            Test_Time  \n",
       "0               0.3532               0.6082               2.6381  \n",
       "0               0.3532               0.9630               2.7681  \n",
       "0               0.3502               2.0202               4.1436  "
      ]
     },
     "execution_count": 213,
     "metadata": {},
     "output_type": "execute_result"
    }
   ],
   "source": [
    "df.sort_values('MSE').head(3)"
   ]
  },
  {
   "cell_type": "code",
   "execution_count": 214,
   "metadata": {},
   "outputs": [
    {
     "data": {
      "text/html": [
       "<div>\n",
       "<style scoped>\n",
       "    .dataframe tbody tr th:only-of-type {\n",
       "        vertical-align: middle;\n",
       "    }\n",
       "\n",
       "    .dataframe tbody tr th {\n",
       "        vertical-align: top;\n",
       "    }\n",
       "\n",
       "    .dataframe thead th {\n",
       "        text-align: right;\n",
       "    }\n",
       "</style>\n",
       "<table border=\"1\" class=\"dataframe\">\n",
       "  <thead>\n",
       "    <tr style=\"text-align: right;\">\n",
       "      <th></th>\n",
       "      <th>Model</th>\n",
       "      <th>User_Based</th>\n",
       "      <th>RMSE</th>\n",
       "      <th>MSE</th>\n",
       "      <th>MAE</th>\n",
       "      <th>Fit_Time</th>\n",
       "      <th>Test_Time</th>\n",
       "    </tr>\n",
       "  </thead>\n",
       "  <tbody>\n",
       "    <tr>\n",
       "      <th>0</th>\n",
       "      <td>KNNBasic</td>\n",
       "      <td>False</td>\n",
       "      <td>0.5723</td>\n",
       "      <td>0.3276</td>\n",
       "      <td>0.3463</td>\n",
       "      <td>2.0144</td>\n",
       "      <td>4.2008</td>\n",
       "    </tr>\n",
       "    <tr>\n",
       "      <th>0</th>\n",
       "      <td>KNNWithZScore</td>\n",
       "      <td>True</td>\n",
       "      <td>0.5649</td>\n",
       "      <td>0.3191</td>\n",
       "      <td>0.3489</td>\n",
       "      <td>0.8122</td>\n",
       "      <td>2.7461</td>\n",
       "    </tr>\n",
       "    <tr>\n",
       "      <th>0</th>\n",
       "      <td>KNNBaseline</td>\n",
       "      <td>False</td>\n",
       "      <td>0.5603</td>\n",
       "      <td>0.3139</td>\n",
       "      <td>0.3502</td>\n",
       "      <td>2.0202</td>\n",
       "      <td>4.1436</td>\n",
       "    </tr>\n",
       "  </tbody>\n",
       "</table>\n",
       "</div>"
      ],
      "text/plain": [
       "           Model User_Based                 RMSE                  MSE  \\\n",
       "0       KNNBasic      False               0.5723               0.3276   \n",
       "0  KNNWithZScore       True               0.5649               0.3191   \n",
       "0    KNNBaseline      False               0.5603               0.3139   \n",
       "\n",
       "                   MAE             Fit_Time            Test_Time  \n",
       "0               0.3463               2.0144               4.2008  \n",
       "0               0.3489               0.8122               2.7461  \n",
       "0               0.3502               2.0202               4.1436  "
      ]
     },
     "execution_count": 214,
     "metadata": {},
     "output_type": "execute_result"
    }
   ],
   "source": [
    "df.sort_values('MAE').head(3)"
   ]
  },
  {
   "cell_type": "code",
   "execution_count": null,
   "metadata": {},
   "outputs": [],
   "source": []
  },
  {
   "cell_type": "code",
   "execution_count": null,
   "metadata": {},
   "outputs": [],
   "source": []
  },
  {
   "cell_type": "markdown",
   "metadata": {},
   "source": [
    "# Surprise - latent factor models"
   ]
  },
  {
   "cell_type": "code",
   "execution_count": 90,
   "metadata": {},
   "outputs": [],
   "source": [
    "from surprise import SVD, SVDpp, NMF"
   ]
  },
  {
   "cell_type": "code",
   "execution_count": null,
   "metadata": {},
   "outputs": [],
   "source": []
  },
  {
   "cell_type": "code",
   "execution_count": 152,
   "metadata": {},
   "outputs": [],
   "source": [
    "cv=5\n",
    "measures = ['RMSE', 'MSE', 'MAE']\n",
    "models = (NMF, SVD, SVDpp)\n",
    "bias = [True, False]"
   ]
  },
  {
   "cell_type": "code",
   "execution_count": null,
   "metadata": {},
   "outputs": [],
   "source": []
  },
  {
   "cell_type": "code",
   "execution_count": 153,
   "metadata": {},
   "outputs": [
    {
     "name": "stdout",
     "output_type": "stream",
     "text": [
      "Wall time: 22min 7s\n"
     ]
    }
   ],
   "source": [
    "%%time \n",
    "\n",
    "df2 = pd.DataFrame(columns = ['Model', 'User_Based', 'RMSE', 'MSE', 'MAE', 'Fit_Time', 'Test_Time'])\n",
    "\n",
    "for m in models:\n",
    "    \n",
    "    if str(m)[60:-2] == 'SVDpp':\n",
    "        modelfit = m()\n",
    "        cv_results = cross_validate(modelfit, rateData, measures=measures, cv=cv, verbose=False)\n",
    "\n",
    "        runtime = (time() - t0)\n",
    "\n",
    "        df3 = pd.DataFrame([[str(m)[60:-2], \n",
    "                             None,\n",
    "                             cv_results['test_rmse'].mean(), \n",
    "                             cv_results['test_mse'].mean(), \n",
    "                             cv_results['test_mae'].mean(), \n",
    "                             np.array(cv_results['fit_time']).mean(),\n",
    "                             np.array(cv_results['test_time']).mean()]], \n",
    "                           columns=['Model', 'User_Based', 'RMSE', 'MSE', 'MAE', 'Fit_Time', 'Test_Time'])\n",
    "        df2 = df2.append(df3)\n",
    "        \n",
    "    else:        \n",
    "        \n",
    "        for b in bias: \n",
    "\n",
    "            t0 = time()\n",
    "\n",
    "            modelfit = m(biased=b)\n",
    "            cv_results = cross_validate(modelfit, rateData, measures=measures, cv=cv, verbose=False)\n",
    "\n",
    "            runtime = (time() - t0)\n",
    "\n",
    "            df3 = pd.DataFrame([[str(m)[60:-2], \n",
    "                                 b,\n",
    "                                 cv_results['test_rmse'].mean(), \n",
    "                                 cv_results['test_mse'].mean(), \n",
    "                                 cv_results['test_mae'].mean(), \n",
    "                             np.array(cv_results['fit_time']).mean(),\n",
    "                             np.array(cv_results['test_time']).mean()]], \n",
    "                           columns=['Model', 'User_Based', 'RMSE', 'MSE', 'MAE', 'Fit_Time', 'Test_Time'])\n",
    "            df2 = df2.append(df3)\n",
    "        "
   ]
  },
  {
   "cell_type": "code",
   "execution_count": 154,
   "metadata": {},
   "outputs": [
    {
     "data": {
      "text/html": [
       "<div>\n",
       "<style scoped>\n",
       "    .dataframe tbody tr th:only-of-type {\n",
       "        vertical-align: middle;\n",
       "    }\n",
       "\n",
       "    .dataframe tbody tr th {\n",
       "        vertical-align: top;\n",
       "    }\n",
       "\n",
       "    .dataframe thead th {\n",
       "        text-align: right;\n",
       "    }\n",
       "</style>\n",
       "<table border=\"1\" class=\"dataframe\">\n",
       "  <thead>\n",
       "    <tr style=\"text-align: right;\">\n",
       "      <th></th>\n",
       "      <th>Model</th>\n",
       "      <th>User_Based</th>\n",
       "      <th>RMSE</th>\n",
       "      <th>MSE</th>\n",
       "      <th>MAE</th>\n",
       "      <th>Fit_Time</th>\n",
       "      <th>Test_Time</th>\n",
       "    </tr>\n",
       "  </thead>\n",
       "  <tbody>\n",
       "    <tr>\n",
       "      <th>0</th>\n",
       "      <td>NMF</td>\n",
       "      <td>True</td>\n",
       "      <td>0.5490</td>\n",
       "      <td>0.3014</td>\n",
       "      <td>0.3582</td>\n",
       "      <td>12.8091</td>\n",
       "      <td>0.3830</td>\n",
       "    </tr>\n",
       "    <tr>\n",
       "      <th>0</th>\n",
       "      <td>NMF</td>\n",
       "      <td>False</td>\n",
       "      <td>0.6395</td>\n",
       "      <td>0.4090</td>\n",
       "      <td>0.5066</td>\n",
       "      <td>10.0449</td>\n",
       "      <td>0.2905</td>\n",
       "    </tr>\n",
       "    <tr>\n",
       "      <th>0</th>\n",
       "      <td>SVD</td>\n",
       "      <td>True</td>\n",
       "      <td>0.5512</td>\n",
       "      <td>0.3039</td>\n",
       "      <td>0.3526</td>\n",
       "      <td>8.2764</td>\n",
       "      <td>0.2691</td>\n",
       "    </tr>\n",
       "    <tr>\n",
       "      <th>0</th>\n",
       "      <td>SVD</td>\n",
       "      <td>False</td>\n",
       "      <td>0.6566</td>\n",
       "      <td>0.4312</td>\n",
       "      <td>0.5207</td>\n",
       "      <td>8.4423</td>\n",
       "      <td>0.2540</td>\n",
       "    </tr>\n",
       "    <tr>\n",
       "      <th>0</th>\n",
       "      <td>SVDpp</td>\n",
       "      <td>None</td>\n",
       "      <td>0.5482</td>\n",
       "      <td>0.3005</td>\n",
       "      <td>0.3481</td>\n",
       "      <td>218.3048</td>\n",
       "      <td>4.3317</td>\n",
       "    </tr>\n",
       "  </tbody>\n",
       "</table>\n",
       "</div>"
      ],
      "text/plain": [
       "   Model User_Based                 RMSE                  MSE  \\\n",
       "0    NMF       True               0.5490               0.3014   \n",
       "0    NMF      False               0.6395               0.4090   \n",
       "0    SVD       True               0.5512               0.3039   \n",
       "0    SVD      False               0.6566               0.4312   \n",
       "0  SVDpp       None               0.5482               0.3005   \n",
       "\n",
       "                   MAE             Fit_Time            Test_Time  \n",
       "0               0.3582              12.8091               0.3830  \n",
       "0               0.5066              10.0449               0.2905  \n",
       "0               0.3526               8.2764               0.2691  \n",
       "0               0.5207               8.4423               0.2540  \n",
       "0               0.3481             218.3048               4.3317  "
      ]
     },
     "execution_count": 154,
     "metadata": {},
     "output_type": "execute_result"
    }
   ],
   "source": [
    "pd.options.display.float_format = '{:20,.4f}'.format\n",
    "df2"
   ]
  },
  {
   "cell_type": "code",
   "execution_count": 155,
   "metadata": {},
   "outputs": [
    {
     "data": {
      "text/html": [
       "<div>\n",
       "<style scoped>\n",
       "    .dataframe tbody tr th:only-of-type {\n",
       "        vertical-align: middle;\n",
       "    }\n",
       "\n",
       "    .dataframe tbody tr th {\n",
       "        vertical-align: top;\n",
       "    }\n",
       "\n",
       "    .dataframe thead th {\n",
       "        text-align: right;\n",
       "    }\n",
       "</style>\n",
       "<table border=\"1\" class=\"dataframe\">\n",
       "  <thead>\n",
       "    <tr style=\"text-align: right;\">\n",
       "      <th></th>\n",
       "      <th>Model</th>\n",
       "      <th>User_Based</th>\n",
       "      <th>RMSE</th>\n",
       "      <th>MSE</th>\n",
       "      <th>MAE</th>\n",
       "      <th>Fit_Time</th>\n",
       "      <th>Test_Time</th>\n",
       "    </tr>\n",
       "  </thead>\n",
       "  <tbody>\n",
       "    <tr>\n",
       "      <th>0</th>\n",
       "      <td>SVDpp</td>\n",
       "      <td>None</td>\n",
       "      <td>0.5482</td>\n",
       "      <td>0.3005</td>\n",
       "      <td>0.3481</td>\n",
       "      <td>218.3048</td>\n",
       "      <td>4.3317</td>\n",
       "    </tr>\n",
       "    <tr>\n",
       "      <th>0</th>\n",
       "      <td>NMF</td>\n",
       "      <td>True</td>\n",
       "      <td>0.5490</td>\n",
       "      <td>0.3014</td>\n",
       "      <td>0.3582</td>\n",
       "      <td>12.8091</td>\n",
       "      <td>0.3830</td>\n",
       "    </tr>\n",
       "    <tr>\n",
       "      <th>0</th>\n",
       "      <td>SVD</td>\n",
       "      <td>True</td>\n",
       "      <td>0.5512</td>\n",
       "      <td>0.3039</td>\n",
       "      <td>0.3526</td>\n",
       "      <td>8.2764</td>\n",
       "      <td>0.2691</td>\n",
       "    </tr>\n",
       "    <tr>\n",
       "      <th>0</th>\n",
       "      <td>NMF</td>\n",
       "      <td>False</td>\n",
       "      <td>0.6395</td>\n",
       "      <td>0.4090</td>\n",
       "      <td>0.5066</td>\n",
       "      <td>10.0449</td>\n",
       "      <td>0.2905</td>\n",
       "    </tr>\n",
       "    <tr>\n",
       "      <th>0</th>\n",
       "      <td>SVD</td>\n",
       "      <td>False</td>\n",
       "      <td>0.6566</td>\n",
       "      <td>0.4312</td>\n",
       "      <td>0.5207</td>\n",
       "      <td>8.4423</td>\n",
       "      <td>0.2540</td>\n",
       "    </tr>\n",
       "  </tbody>\n",
       "</table>\n",
       "</div>"
      ],
      "text/plain": [
       "   Model User_Based                 RMSE                  MSE  \\\n",
       "0  SVDpp       None               0.5482               0.3005   \n",
       "0    NMF       True               0.5490               0.3014   \n",
       "0    SVD       True               0.5512               0.3039   \n",
       "0    NMF      False               0.6395               0.4090   \n",
       "0    SVD      False               0.6566               0.4312   \n",
       "\n",
       "                   MAE             Fit_Time            Test_Time  \n",
       "0               0.3481             218.3048               4.3317  \n",
       "0               0.3582              12.8091               0.3830  \n",
       "0               0.3526               8.2764               0.2691  \n",
       "0               0.5066              10.0449               0.2905  \n",
       "0               0.5207               8.4423               0.2540  "
      ]
     },
     "execution_count": 155,
     "metadata": {},
     "output_type": "execute_result"
    }
   ],
   "source": [
    "df2.sort_values('RMSE')"
   ]
  },
  {
   "cell_type": "code",
   "execution_count": 156,
   "metadata": {},
   "outputs": [
    {
     "data": {
      "text/html": [
       "<div>\n",
       "<style scoped>\n",
       "    .dataframe tbody tr th:only-of-type {\n",
       "        vertical-align: middle;\n",
       "    }\n",
       "\n",
       "    .dataframe tbody tr th {\n",
       "        vertical-align: top;\n",
       "    }\n",
       "\n",
       "    .dataframe thead th {\n",
       "        text-align: right;\n",
       "    }\n",
       "</style>\n",
       "<table border=\"1\" class=\"dataframe\">\n",
       "  <thead>\n",
       "    <tr style=\"text-align: right;\">\n",
       "      <th></th>\n",
       "      <th>Model</th>\n",
       "      <th>User_Based</th>\n",
       "      <th>RMSE</th>\n",
       "      <th>MSE</th>\n",
       "      <th>MAE</th>\n",
       "      <th>Fit_Time</th>\n",
       "      <th>Test_Time</th>\n",
       "    </tr>\n",
       "  </thead>\n",
       "  <tbody>\n",
       "    <tr>\n",
       "      <th>0</th>\n",
       "      <td>SVDpp</td>\n",
       "      <td>None</td>\n",
       "      <td>0.5482</td>\n",
       "      <td>0.3005</td>\n",
       "      <td>0.3481</td>\n",
       "      <td>218.3048</td>\n",
       "      <td>4.3317</td>\n",
       "    </tr>\n",
       "    <tr>\n",
       "      <th>0</th>\n",
       "      <td>NMF</td>\n",
       "      <td>True</td>\n",
       "      <td>0.5490</td>\n",
       "      <td>0.3014</td>\n",
       "      <td>0.3582</td>\n",
       "      <td>12.8091</td>\n",
       "      <td>0.3830</td>\n",
       "    </tr>\n",
       "    <tr>\n",
       "      <th>0</th>\n",
       "      <td>SVD</td>\n",
       "      <td>True</td>\n",
       "      <td>0.5512</td>\n",
       "      <td>0.3039</td>\n",
       "      <td>0.3526</td>\n",
       "      <td>8.2764</td>\n",
       "      <td>0.2691</td>\n",
       "    </tr>\n",
       "    <tr>\n",
       "      <th>0</th>\n",
       "      <td>NMF</td>\n",
       "      <td>False</td>\n",
       "      <td>0.6395</td>\n",
       "      <td>0.4090</td>\n",
       "      <td>0.5066</td>\n",
       "      <td>10.0449</td>\n",
       "      <td>0.2905</td>\n",
       "    </tr>\n",
       "    <tr>\n",
       "      <th>0</th>\n",
       "      <td>SVD</td>\n",
       "      <td>False</td>\n",
       "      <td>0.6566</td>\n",
       "      <td>0.4312</td>\n",
       "      <td>0.5207</td>\n",
       "      <td>8.4423</td>\n",
       "      <td>0.2540</td>\n",
       "    </tr>\n",
       "  </tbody>\n",
       "</table>\n",
       "</div>"
      ],
      "text/plain": [
       "   Model User_Based                 RMSE                  MSE  \\\n",
       "0  SVDpp       None               0.5482               0.3005   \n",
       "0    NMF       True               0.5490               0.3014   \n",
       "0    SVD       True               0.5512               0.3039   \n",
       "0    NMF      False               0.6395               0.4090   \n",
       "0    SVD      False               0.6566               0.4312   \n",
       "\n",
       "                   MAE             Fit_Time            Test_Time  \n",
       "0               0.3481             218.3048               4.3317  \n",
       "0               0.3582              12.8091               0.3830  \n",
       "0               0.3526               8.2764               0.2691  \n",
       "0               0.5066              10.0449               0.2905  \n",
       "0               0.5207               8.4423               0.2540  "
      ]
     },
     "execution_count": 156,
     "metadata": {},
     "output_type": "execute_result"
    }
   ],
   "source": [
    "df2.sort_values('MSE')"
   ]
  },
  {
   "cell_type": "code",
   "execution_count": 157,
   "metadata": {},
   "outputs": [
    {
     "data": {
      "text/html": [
       "<div>\n",
       "<style scoped>\n",
       "    .dataframe tbody tr th:only-of-type {\n",
       "        vertical-align: middle;\n",
       "    }\n",
       "\n",
       "    .dataframe tbody tr th {\n",
       "        vertical-align: top;\n",
       "    }\n",
       "\n",
       "    .dataframe thead th {\n",
       "        text-align: right;\n",
       "    }\n",
       "</style>\n",
       "<table border=\"1\" class=\"dataframe\">\n",
       "  <thead>\n",
       "    <tr style=\"text-align: right;\">\n",
       "      <th></th>\n",
       "      <th>Model</th>\n",
       "      <th>User_Based</th>\n",
       "      <th>RMSE</th>\n",
       "      <th>MSE</th>\n",
       "      <th>MAE</th>\n",
       "      <th>Fit_Time</th>\n",
       "      <th>Test_Time</th>\n",
       "    </tr>\n",
       "  </thead>\n",
       "  <tbody>\n",
       "    <tr>\n",
       "      <th>0</th>\n",
       "      <td>SVDpp</td>\n",
       "      <td>None</td>\n",
       "      <td>0.5482</td>\n",
       "      <td>0.3005</td>\n",
       "      <td>0.3481</td>\n",
       "      <td>218.3048</td>\n",
       "      <td>4.3317</td>\n",
       "    </tr>\n",
       "    <tr>\n",
       "      <th>0</th>\n",
       "      <td>SVD</td>\n",
       "      <td>True</td>\n",
       "      <td>0.5512</td>\n",
       "      <td>0.3039</td>\n",
       "      <td>0.3526</td>\n",
       "      <td>8.2764</td>\n",
       "      <td>0.2691</td>\n",
       "    </tr>\n",
       "    <tr>\n",
       "      <th>0</th>\n",
       "      <td>NMF</td>\n",
       "      <td>True</td>\n",
       "      <td>0.5490</td>\n",
       "      <td>0.3014</td>\n",
       "      <td>0.3582</td>\n",
       "      <td>12.8091</td>\n",
       "      <td>0.3830</td>\n",
       "    </tr>\n",
       "    <tr>\n",
       "      <th>0</th>\n",
       "      <td>NMF</td>\n",
       "      <td>False</td>\n",
       "      <td>0.6395</td>\n",
       "      <td>0.4090</td>\n",
       "      <td>0.5066</td>\n",
       "      <td>10.0449</td>\n",
       "      <td>0.2905</td>\n",
       "    </tr>\n",
       "    <tr>\n",
       "      <th>0</th>\n",
       "      <td>SVD</td>\n",
       "      <td>False</td>\n",
       "      <td>0.6566</td>\n",
       "      <td>0.4312</td>\n",
       "      <td>0.5207</td>\n",
       "      <td>8.4423</td>\n",
       "      <td>0.2540</td>\n",
       "    </tr>\n",
       "  </tbody>\n",
       "</table>\n",
       "</div>"
      ],
      "text/plain": [
       "   Model User_Based                 RMSE                  MSE  \\\n",
       "0  SVDpp       None               0.5482               0.3005   \n",
       "0    SVD       True               0.5512               0.3039   \n",
       "0    NMF       True               0.5490               0.3014   \n",
       "0    NMF      False               0.6395               0.4090   \n",
       "0    SVD      False               0.6566               0.4312   \n",
       "\n",
       "                   MAE             Fit_Time            Test_Time  \n",
       "0               0.3481             218.3048               4.3317  \n",
       "0               0.3526               8.2764               0.2691  \n",
       "0               0.3582              12.8091               0.3830  \n",
       "0               0.5066              10.0449               0.2905  \n",
       "0               0.5207               8.4423               0.2540  "
      ]
     },
     "execution_count": 157,
     "metadata": {},
     "output_type": "execute_result"
    }
   ],
   "source": [
    "df2.sort_values('MAE')"
   ]
  },
  {
   "cell_type": "code",
   "execution_count": null,
   "metadata": {},
   "outputs": [],
   "source": []
  },
  {
   "cell_type": "code",
   "execution_count": null,
   "metadata": {},
   "outputs": [],
   "source": []
  },
  {
   "cell_type": "markdown",
   "metadata": {},
   "source": [
    "# Compare top models"
   ]
  },
  {
   "cell_type": "code",
   "execution_count": 99,
   "metadata": {},
   "outputs": [
    {
     "data": {
      "text/html": [
       "<div>\n",
       "<style scoped>\n",
       "    .dataframe tbody tr th:only-of-type {\n",
       "        vertical-align: middle;\n",
       "    }\n",
       "\n",
       "    .dataframe tbody tr th {\n",
       "        vertical-align: top;\n",
       "    }\n",
       "\n",
       "    .dataframe thead th {\n",
       "        text-align: right;\n",
       "    }\n",
       "</style>\n",
       "<table border=\"1\" class=\"dataframe\">\n",
       "  <thead>\n",
       "    <tr style=\"text-align: right;\">\n",
       "      <th></th>\n",
       "      <th>Model</th>\n",
       "      <th>User_Based</th>\n",
       "      <th>RMSE</th>\n",
       "      <th>MSE</th>\n",
       "      <th>MAE</th>\n",
       "      <th>Runtime</th>\n",
       "    </tr>\n",
       "  </thead>\n",
       "  <tbody>\n",
       "    <tr>\n",
       "      <th>0</th>\n",
       "      <td>KNNBasic</td>\n",
       "      <td>False</td>\n",
       "      <td>0.5720</td>\n",
       "      <td>0.3272</td>\n",
       "      <td>0.3465</td>\n",
       "      <td>27.4603</td>\n",
       "    </tr>\n",
       "    <tr>\n",
       "      <th>0</th>\n",
       "      <td>KNNWithZScore</td>\n",
       "      <td>True</td>\n",
       "      <td>0.5652</td>\n",
       "      <td>0.3195</td>\n",
       "      <td>0.3492</td>\n",
       "      <td>15.7718</td>\n",
       "    </tr>\n",
       "    <tr>\n",
       "      <th>0</th>\n",
       "      <td>KNNBaseline</td>\n",
       "      <td>False</td>\n",
       "      <td>0.5594</td>\n",
       "      <td>0.3130</td>\n",
       "      <td>0.3508</td>\n",
       "      <td>73.4879</td>\n",
       "    </tr>\n",
       "    <tr>\n",
       "      <th>0</th>\n",
       "      <td>KNNWithMeans</td>\n",
       "      <td>True</td>\n",
       "      <td>0.5581</td>\n",
       "      <td>0.3115</td>\n",
       "      <td>0.3530</td>\n",
       "      <td>14.7250</td>\n",
       "    </tr>\n",
       "    <tr>\n",
       "      <th>0</th>\n",
       "      <td>KNNBaseline</td>\n",
       "      <td>True</td>\n",
       "      <td>0.5601</td>\n",
       "      <td>0.3138</td>\n",
       "      <td>0.3546</td>\n",
       "      <td>21.5976</td>\n",
       "    </tr>\n",
       "    <tr>\n",
       "      <th>0</th>\n",
       "      <td>KNNWithZScore</td>\n",
       "      <td>False</td>\n",
       "      <td>0.5748</td>\n",
       "      <td>0.3304</td>\n",
       "      <td>0.3577</td>\n",
       "      <td>35.1474</td>\n",
       "    </tr>\n",
       "    <tr>\n",
       "      <th>0</th>\n",
       "      <td>SlopeOne</td>\n",
       "      <td>None</td>\n",
       "      <td>0.5675</td>\n",
       "      <td>0.3221</td>\n",
       "      <td>0.3593</td>\n",
       "      <td>39.9314</td>\n",
       "    </tr>\n",
       "    <tr>\n",
       "      <th>0</th>\n",
       "      <td>KNNWithMeans</td>\n",
       "      <td>False</td>\n",
       "      <td>0.5675</td>\n",
       "      <td>0.3221</td>\n",
       "      <td>0.3605</td>\n",
       "      <td>29.2383</td>\n",
       "    </tr>\n",
       "    <tr>\n",
       "      <th>0</th>\n",
       "      <td>KNNBasic</td>\n",
       "      <td>True</td>\n",
       "      <td>0.6016</td>\n",
       "      <td>0.3620</td>\n",
       "      <td>0.3705</td>\n",
       "      <td>14.0483</td>\n",
       "    </tr>\n",
       "  </tbody>\n",
       "</table>\n",
       "</div>"
      ],
      "text/plain": [
       "           Model User_Based                 RMSE                  MSE  \\\n",
       "0       KNNBasic      False               0.5720               0.3272   \n",
       "0  KNNWithZScore       True               0.5652               0.3195   \n",
       "0    KNNBaseline      False               0.5594               0.3130   \n",
       "0   KNNWithMeans       True               0.5581               0.3115   \n",
       "0    KNNBaseline       True               0.5601               0.3138   \n",
       "0  KNNWithZScore      False               0.5748               0.3304   \n",
       "0       SlopeOne       None               0.5675               0.3221   \n",
       "0   KNNWithMeans      False               0.5675               0.3221   \n",
       "0       KNNBasic       True               0.6016               0.3620   \n",
       "\n",
       "                   MAE              Runtime  \n",
       "0               0.3465              27.4603  \n",
       "0               0.3492              15.7718  \n",
       "0               0.3508              73.4879  \n",
       "0               0.3530              14.7250  \n",
       "0               0.3546              21.5976  \n",
       "0               0.3577              35.1474  \n",
       "0               0.3593              39.9314  \n",
       "0               0.3605              29.2383  \n",
       "0               0.3705              14.0483  "
      ]
     },
     "execution_count": 99,
     "metadata": {},
     "output_type": "execute_result"
    }
   ],
   "source": [
    "df.sort_values('MAE')"
   ]
  },
  {
   "cell_type": "code",
   "execution_count": 100,
   "metadata": {},
   "outputs": [
    {
     "data": {
      "text/html": [
       "<div>\n",
       "<style scoped>\n",
       "    .dataframe tbody tr th:only-of-type {\n",
       "        vertical-align: middle;\n",
       "    }\n",
       "\n",
       "    .dataframe tbody tr th {\n",
       "        vertical-align: top;\n",
       "    }\n",
       "\n",
       "    .dataframe thead th {\n",
       "        text-align: right;\n",
       "    }\n",
       "</style>\n",
       "<table border=\"1\" class=\"dataframe\">\n",
       "  <thead>\n",
       "    <tr style=\"text-align: right;\">\n",
       "      <th></th>\n",
       "      <th>Model</th>\n",
       "      <th>Biased</th>\n",
       "      <th>RMSE</th>\n",
       "      <th>MSE</th>\n",
       "      <th>MAE</th>\n",
       "      <th>Runtime</th>\n",
       "    </tr>\n",
       "  </thead>\n",
       "  <tbody>\n",
       "    <tr>\n",
       "      <th>0</th>\n",
       "      <td>SVDpp</td>\n",
       "      <td>None</td>\n",
       "      <td>0.5476</td>\n",
       "      <td>0.2999</td>\n",
       "      <td>0.3484</td>\n",
       "      <td>1,175.3110</td>\n",
       "    </tr>\n",
       "    <tr>\n",
       "      <th>0</th>\n",
       "      <td>SVD</td>\n",
       "      <td>True</td>\n",
       "      <td>0.5503</td>\n",
       "      <td>0.3029</td>\n",
       "      <td>0.3519</td>\n",
       "      <td>50.9685</td>\n",
       "    </tr>\n",
       "    <tr>\n",
       "      <th>0</th>\n",
       "      <td>NMF</td>\n",
       "      <td>True</td>\n",
       "      <td>0.5486</td>\n",
       "      <td>0.3010</td>\n",
       "      <td>0.3582</td>\n",
       "      <td>75.3300</td>\n",
       "    </tr>\n",
       "    <tr>\n",
       "      <th>0</th>\n",
       "      <td>NMF</td>\n",
       "      <td>False</td>\n",
       "      <td>0.6363</td>\n",
       "      <td>0.4049</td>\n",
       "      <td>0.5027</td>\n",
       "      <td>85.2897</td>\n",
       "    </tr>\n",
       "    <tr>\n",
       "      <th>0</th>\n",
       "      <td>SVD</td>\n",
       "      <td>False</td>\n",
       "      <td>0.6586</td>\n",
       "      <td>0.4338</td>\n",
       "      <td>0.5231</td>\n",
       "      <td>51.5645</td>\n",
       "    </tr>\n",
       "  </tbody>\n",
       "</table>\n",
       "</div>"
      ],
      "text/plain": [
       "   Model Biased                 RMSE                  MSE  \\\n",
       "0  SVDpp   None               0.5476               0.2999   \n",
       "0    SVD   True               0.5503               0.3029   \n",
       "0    NMF   True               0.5486               0.3010   \n",
       "0    NMF  False               0.6363               0.4049   \n",
       "0    SVD  False               0.6586               0.4338   \n",
       "\n",
       "                   MAE              Runtime  \n",
       "0               0.3484           1,175.3110  \n",
       "0               0.3519              50.9685  \n",
       "0               0.3582              75.3300  \n",
       "0               0.5027              85.2897  \n",
       "0               0.5231              51.5645  "
      ]
     },
     "execution_count": 100,
     "metadata": {},
     "output_type": "execute_result"
    }
   ],
   "source": [
    "df2.sort_values('MAE')"
   ]
  },
  {
   "cell_type": "markdown",
   "metadata": {},
   "source": [
    "The neighborhood models performend similarly. \n",
    "- KNNBasic item-based performed best on MAE and had a relatively average runtime compared to other KNN models \n",
    "- KNNWithMeans user-based performed best on RMSE/MSE and had the second quickest runtime. \n",
    "\n",
    "Latent-factor (matrix factorization) models also performed similarly. \n",
    "- SVDpp performed best on MAE, however, it had a significantly longer runtime\n",
    "- SVD with Biased=True was very close on MAE and better on RMSE wtih a shorter runtime\n",
    "\n",
    "Optimize for MAE because we don't need to worry about outliers - all ratings are 1-5. \n"
   ]
  },
  {
   "cell_type": "code",
   "execution_count": null,
   "metadata": {},
   "outputs": [],
   "source": []
  },
  {
   "cell_type": "markdown",
   "metadata": {},
   "source": [
    "# Parameter Optimization"
   ]
  },
  {
   "cell_type": "markdown",
   "metadata": {},
   "source": [
    "##### KNN Basic item-based"
   ]
  },
  {
   "cell_type": "code",
   "execution_count": 101,
   "metadata": {},
   "outputs": [
    {
     "name": "stdout",
     "output_type": "stream",
     "text": [
      "Computing the pearson similarity matrix...\n",
      "Done computing similarity matrix.\n",
      "Computing the pearson similarity matrix...\n",
      "Done computing similarity matrix.\n",
      "Computing the pearson similarity matrix...\n",
      "Done computing similarity matrix.\n",
      "Computing the pearson similarity matrix...\n",
      "Done computing similarity matrix.\n",
      "Computing the pearson similarity matrix...\n",
      "Done computing similarity matrix.\n",
      "Computing the cosine similarity matrix...\n",
      "Done computing similarity matrix.\n",
      "Computing the cosine similarity matrix...\n",
      "Done computing similarity matrix.\n",
      "Computing the cosine similarity matrix...\n",
      "Done computing similarity matrix.\n",
      "Computing the cosine similarity matrix...\n",
      "Done computing similarity matrix.\n",
      "Computing the cosine similarity matrix...\n",
      "Done computing similarity matrix.\n",
      "Computing the msd similarity matrix...\n",
      "Done computing similarity matrix.\n",
      "Computing the msd similarity matrix...\n",
      "Done computing similarity matrix.\n",
      "Computing the msd similarity matrix...\n",
      "Done computing similarity matrix.\n",
      "Computing the msd similarity matrix...\n",
      "Done computing similarity matrix.\n",
      "Computing the msd similarity matrix...\n",
      "Done computing similarity matrix.\n",
      "Computing the pearson similarity matrix...\n",
      "Done computing similarity matrix.\n",
      "Computing the pearson similarity matrix...\n",
      "Done computing similarity matrix.\n",
      "Computing the pearson similarity matrix...\n",
      "Done computing similarity matrix.\n",
      "Computing the pearson similarity matrix...\n",
      "Done computing similarity matrix.\n",
      "Computing the pearson similarity matrix...\n",
      "Done computing similarity matrix.\n",
      "Computing the cosine similarity matrix...\n",
      "Done computing similarity matrix.\n",
      "Computing the cosine similarity matrix...\n",
      "Done computing similarity matrix.\n",
      "Computing the cosine similarity matrix...\n",
      "Done computing similarity matrix.\n",
      "Computing the cosine similarity matrix...\n",
      "Done computing similarity matrix.\n",
      "Computing the cosine similarity matrix...\n",
      "Done computing similarity matrix.\n",
      "Computing the msd similarity matrix...\n",
      "Done computing similarity matrix.\n",
      "Computing the msd similarity matrix...\n",
      "Done computing similarity matrix.\n",
      "Computing the msd similarity matrix...\n",
      "Done computing similarity matrix.\n",
      "Computing the msd similarity matrix...\n",
      "Done computing similarity matrix.\n",
      "Computing the msd similarity matrix...\n",
      "Done computing similarity matrix.\n",
      "Computing the pearson similarity matrix...\n",
      "Done computing similarity matrix.\n",
      "Computing the pearson similarity matrix...\n",
      "Done computing similarity matrix.\n",
      "Computing the pearson similarity matrix...\n",
      "Done computing similarity matrix.\n",
      "Computing the pearson similarity matrix...\n",
      "Done computing similarity matrix.\n",
      "Computing the pearson similarity matrix...\n",
      "Done computing similarity matrix.\n",
      "Computing the cosine similarity matrix...\n",
      "Done computing similarity matrix.\n",
      "Computing the cosine similarity matrix...\n",
      "Done computing similarity matrix.\n",
      "Computing the cosine similarity matrix...\n",
      "Done computing similarity matrix.\n",
      "Computing the cosine similarity matrix...\n",
      "Done computing similarity matrix.\n",
      "Computing the cosine similarity matrix...\n",
      "Done computing similarity matrix.\n",
      "Computing the msd similarity matrix...\n",
      "Done computing similarity matrix.\n",
      "Computing the msd similarity matrix...\n",
      "Done computing similarity matrix.\n",
      "Computing the msd similarity matrix...\n",
      "Done computing similarity matrix.\n",
      "Computing the msd similarity matrix...\n",
      "Done computing similarity matrix.\n",
      "Computing the msd similarity matrix...\n",
      "Done computing similarity matrix.\n",
      "Computing the pearson similarity matrix...\n",
      "Done computing similarity matrix.\n",
      "Computing the pearson similarity matrix...\n",
      "Done computing similarity matrix.\n",
      "Computing the pearson similarity matrix...\n",
      "Done computing similarity matrix.\n",
      "Computing the pearson similarity matrix...\n",
      "Done computing similarity matrix.\n",
      "Computing the pearson similarity matrix...\n",
      "Done computing similarity matrix.\n",
      "Computing the cosine similarity matrix...\n",
      "Done computing similarity matrix.\n",
      "Computing the cosine similarity matrix...\n",
      "Done computing similarity matrix.\n",
      "Computing the cosine similarity matrix...\n",
      "Done computing similarity matrix.\n",
      "Computing the cosine similarity matrix...\n",
      "Done computing similarity matrix.\n",
      "Computing the cosine similarity matrix...\n",
      "Done computing similarity matrix.\n",
      "Computing the msd similarity matrix...\n",
      "Done computing similarity matrix.\n",
      "Computing the msd similarity matrix...\n",
      "Done computing similarity matrix.\n",
      "Computing the msd similarity matrix...\n",
      "Done computing similarity matrix.\n",
      "Computing the msd similarity matrix...\n",
      "Done computing similarity matrix.\n",
      "Computing the msd similarity matrix...\n",
      "Done computing similarity matrix.\n",
      "Computing the pearson similarity matrix...\n",
      "Done computing similarity matrix.\n",
      "Computing the pearson similarity matrix...\n",
      "Done computing similarity matrix.\n",
      "Computing the pearson similarity matrix...\n",
      "Done computing similarity matrix.\n",
      "Computing the pearson similarity matrix...\n",
      "Done computing similarity matrix.\n",
      "Computing the pearson similarity matrix...\n",
      "Done computing similarity matrix.\n",
      "Computing the cosine similarity matrix...\n",
      "Done computing similarity matrix.\n",
      "Computing the cosine similarity matrix...\n",
      "Done computing similarity matrix.\n",
      "Computing the cosine similarity matrix...\n",
      "Done computing similarity matrix.\n",
      "Computing the cosine similarity matrix...\n",
      "Done computing similarity matrix.\n",
      "Computing the cosine similarity matrix...\n",
      "Done computing similarity matrix.\n",
      "Computing the msd similarity matrix...\n",
      "Done computing similarity matrix.\n",
      "Computing the msd similarity matrix...\n",
      "Done computing similarity matrix.\n",
      "Computing the msd similarity matrix...\n",
      "Done computing similarity matrix.\n",
      "Computing the msd similarity matrix...\n",
      "Done computing similarity matrix.\n",
      "Computing the msd similarity matrix...\n",
      "Done computing similarity matrix.\n",
      "done in 786.586s.\n"
     ]
    }
   ],
   "source": [
    "# use GridSearch to find best distance metric \n",
    "\n",
    "t0 = time()\n",
    "\n",
    "sim_options = {\n",
    "    \"name\": [\"pearson\", \"cosine\", \"msd\"],\n",
    "    \"user_based\": [False],\n",
    "}\n",
    "\n",
    "cv = KFold(n_splits = 5, random_state = 22)\n",
    "\n",
    "param_grid = {'k': list(range(10,35,5)),\n",
    "              'sim_options': sim_options}\n",
    "\n",
    "gs_knn = GridSearchCV(KNNBasic, param_grid, measures=[\"mae\"], cv=cv)\n",
    "gs_knn.fit(rateData)\n",
    "\n",
    "print(\"done in %0.3fs.\" % (time() - t0))"
   ]
  },
  {
   "cell_type": "code",
   "execution_count": 102,
   "metadata": {},
   "outputs": [
    {
     "data": {
      "text/html": [
       "<div>\n",
       "<style scoped>\n",
       "    .dataframe tbody tr th:only-of-type {\n",
       "        vertical-align: middle;\n",
       "    }\n",
       "\n",
       "    .dataframe tbody tr th {\n",
       "        vertical-align: top;\n",
       "    }\n",
       "\n",
       "    .dataframe thead th {\n",
       "        text-align: right;\n",
       "    }\n",
       "</style>\n",
       "<table border=\"1\" class=\"dataframe\">\n",
       "  <thead>\n",
       "    <tr style=\"text-align: right;\">\n",
       "      <th></th>\n",
       "      <th>params</th>\n",
       "      <th>mean_test_mae</th>\n",
       "    </tr>\n",
       "  </thead>\n",
       "  <tbody>\n",
       "    <tr>\n",
       "      <th>5</th>\n",
       "      <td>{'k': 15, 'sim_options': {'name': 'msd', 'user_based': False}}</td>\n",
       "      <td>0.3452</td>\n",
       "    </tr>\n",
       "    <tr>\n",
       "      <th>8</th>\n",
       "      <td>{'k': 20, 'sim_options': {'name': 'msd', 'user_based': False}}</td>\n",
       "      <td>0.3455</td>\n",
       "    </tr>\n",
       "    <tr>\n",
       "      <th>11</th>\n",
       "      <td>{'k': 25, 'sim_options': {'name': 'msd', 'user_based': False}}</td>\n",
       "      <td>0.3456</td>\n",
       "    </tr>\n",
       "    <tr>\n",
       "      <th>14</th>\n",
       "      <td>{'k': 30, 'sim_options': {'name': 'msd', 'user_based': False}}</td>\n",
       "      <td>0.3457</td>\n",
       "    </tr>\n",
       "    <tr>\n",
       "      <th>2</th>\n",
       "      <td>{'k': 10, 'sim_options': {'name': 'msd', 'user_based': False}}</td>\n",
       "      <td>0.3459</td>\n",
       "    </tr>\n",
       "  </tbody>\n",
       "</table>\n",
       "</div>"
      ],
      "text/plain": [
       "                                                            params  \\\n",
       "5   {'k': 15, 'sim_options': {'name': 'msd', 'user_based': False}}   \n",
       "8   {'k': 20, 'sim_options': {'name': 'msd', 'user_based': False}}   \n",
       "11  {'k': 25, 'sim_options': {'name': 'msd', 'user_based': False}}   \n",
       "14  {'k': 30, 'sim_options': {'name': 'msd', 'user_based': False}}   \n",
       "2   {'k': 10, 'sim_options': {'name': 'msd', 'user_based': False}}   \n",
       "\n",
       "          mean_test_mae  \n",
       "5                0.3452  \n",
       "8                0.3455  \n",
       "11               0.3456  \n",
       "14               0.3457  \n",
       "2                0.3459  "
      ]
     },
     "execution_count": 102,
     "metadata": {},
     "output_type": "execute_result"
    }
   ],
   "source": [
    "pd.set_option('max_colwidth', 100)\n",
    "\n",
    "df_knn = pd.DataFrame.from_dict(gs_knn.cv_results)\n",
    "cols = ['params', 'mean_test_mae']\n",
    "df_knn[cols].sort_values('mean_test_mae').head(5)"
   ]
  },
  {
   "cell_type": "code",
   "execution_count": null,
   "metadata": {},
   "outputs": [],
   "source": []
  },
  {
   "cell_type": "code",
   "execution_count": 103,
   "metadata": {},
   "outputs": [],
   "source": [
    "# find optimal k for KNNBasic, item based, with msd as similiarit metric \n",
    "\n",
    "def find_opt_k(minK, maxK, step, cv, data, sim_measure, user_based, acc_measure1, acc_measure2, model):\n",
    "    '''find optimal number of K neighbors'''\n",
    "    \n",
    "    mean_arr = np.array([])\n",
    "    k_range = list(range(minK, maxK+1, step))\n",
    "\n",
    "    for k in k_range:\n",
    "        # item-based KNN with cosine similarity\n",
    "        sim_options = {\n",
    "            \"name\": sim_measure,\n",
    "            \"user_based\": user_based,   \n",
    "        }\n",
    "        alg = model(k=k, sim_options=sim_options)\n",
    "\n",
    "        # 5-fold cross-validation \n",
    "        cv_results_item = cross_validate(alg, data, measures=[acc_measure1], cv=cv, verbose=False) \n",
    "    \n",
    "        # find mean of accuracy measure\n",
    "        mean_acc = cv_results_item[acc_measure2].mean()\n",
    "        \n",
    "        if mean_arr.shape[0] == 0:\n",
    "            mean_arr = np.append(mean_arr, [mean_acc])\n",
    "        else:\n",
    "            mean_arr = np.vstack((mean_arr, mean_acc))\n",
    "\n",
    "    return mean_arr"
   ]
  },
  {
   "cell_type": "code",
   "execution_count": 104,
   "metadata": {
    "scrolled": true
   },
   "outputs": [
    {
     "name": "stdout",
     "output_type": "stream",
     "text": [
      "Computing the msd similarity matrix...\n",
      "Done computing similarity matrix.\n",
      "Computing the msd similarity matrix...\n",
      "Done computing similarity matrix.\n",
      "Computing the msd similarity matrix...\n",
      "Done computing similarity matrix.\n",
      "Computing the msd similarity matrix...\n",
      "Done computing similarity matrix.\n",
      "Computing the msd similarity matrix...\n",
      "Done computing similarity matrix.\n",
      "Computing the msd similarity matrix...\n",
      "Done computing similarity matrix.\n",
      "Computing the msd similarity matrix...\n",
      "Done computing similarity matrix.\n",
      "Computing the msd similarity matrix...\n",
      "Done computing similarity matrix.\n",
      "Computing the msd similarity matrix...\n",
      "Done computing similarity matrix.\n",
      "Computing the msd similarity matrix...\n",
      "Done computing similarity matrix.\n",
      "Computing the msd similarity matrix...\n",
      "Done computing similarity matrix.\n",
      "Computing the msd similarity matrix...\n",
      "Done computing similarity matrix.\n",
      "Computing the msd similarity matrix...\n",
      "Done computing similarity matrix.\n",
      "Computing the msd similarity matrix...\n",
      "Done computing similarity matrix.\n",
      "Computing the msd similarity matrix...\n",
      "Done computing similarity matrix.\n",
      "Computing the msd similarity matrix...\n",
      "Done computing similarity matrix.\n",
      "Computing the msd similarity matrix...\n",
      "Done computing similarity matrix.\n",
      "Computing the msd similarity matrix...\n",
      "Done computing similarity matrix.\n",
      "Computing the msd similarity matrix...\n",
      "Done computing similarity matrix.\n",
      "Computing the msd similarity matrix...\n",
      "Done computing similarity matrix.\n",
      "Computing the msd similarity matrix...\n",
      "Done computing similarity matrix.\n",
      "Computing the msd similarity matrix...\n",
      "Done computing similarity matrix.\n",
      "Computing the msd similarity matrix...\n",
      "Done computing similarity matrix.\n",
      "Computing the msd similarity matrix...\n",
      "Done computing similarity matrix.\n",
      "Computing the msd similarity matrix...\n",
      "Done computing similarity matrix.\n",
      "Computing the msd similarity matrix...\n",
      "Done computing similarity matrix.\n",
      "Computing the msd similarity matrix...\n",
      "Done computing similarity matrix.\n",
      "Computing the msd similarity matrix...\n",
      "Done computing similarity matrix.\n",
      "Computing the msd similarity matrix...\n",
      "Done computing similarity matrix.\n",
      "Computing the msd similarity matrix...\n",
      "Done computing similarity matrix.\n",
      "Computing the msd similarity matrix...\n",
      "Done computing similarity matrix.\n",
      "Computing the msd similarity matrix...\n",
      "Done computing similarity matrix.\n",
      "Computing the msd similarity matrix...\n",
      "Done computing similarity matrix.\n",
      "Computing the msd similarity matrix...\n",
      "Done computing similarity matrix.\n",
      "Computing the msd similarity matrix...\n",
      "Done computing similarity matrix.\n",
      "Computing the msd similarity matrix...\n",
      "Done computing similarity matrix.\n",
      "Computing the msd similarity matrix...\n",
      "Done computing similarity matrix.\n",
      "Computing the msd similarity matrix...\n",
      "Done computing similarity matrix.\n",
      "Computing the msd similarity matrix...\n",
      "Done computing similarity matrix.\n",
      "Computing the msd similarity matrix...\n",
      "Done computing similarity matrix.\n",
      "Computing the msd similarity matrix...\n",
      "Done computing similarity matrix.\n",
      "Computing the msd similarity matrix...\n",
      "Done computing similarity matrix.\n",
      "Computing the msd similarity matrix...\n",
      "Done computing similarity matrix.\n",
      "Computing the msd similarity matrix...\n",
      "Done computing similarity matrix.\n",
      "Computing the msd similarity matrix...\n",
      "Done computing similarity matrix.\n",
      "Computing the msd similarity matrix...\n",
      "Done computing similarity matrix.\n",
      "Computing the msd similarity matrix...\n",
      "Done computing similarity matrix.\n",
      "Computing the msd similarity matrix...\n",
      "Done computing similarity matrix.\n",
      "Computing the msd similarity matrix...\n",
      "Done computing similarity matrix.\n",
      "Computing the msd similarity matrix...\n",
      "Done computing similarity matrix.\n",
      "Computing the msd similarity matrix...\n",
      "Done computing similarity matrix.\n",
      "Computing the msd similarity matrix...\n",
      "Done computing similarity matrix.\n",
      "Computing the msd similarity matrix...\n",
      "Done computing similarity matrix.\n",
      "Computing the msd similarity matrix...\n",
      "Done computing similarity matrix.\n",
      "Computing the msd similarity matrix...\n",
      "Done computing similarity matrix.\n",
      "Computing the msd similarity matrix...\n",
      "Done computing similarity matrix.\n",
      "Computing the msd similarity matrix...\n",
      "Done computing similarity matrix.\n",
      "Computing the msd similarity matrix...\n",
      "Done computing similarity matrix.\n",
      "Computing the msd similarity matrix...\n",
      "Done computing similarity matrix.\n",
      "Computing the msd similarity matrix...\n",
      "Done computing similarity matrix.\n",
      "Computing the msd similarity matrix...\n",
      "Done computing similarity matrix.\n",
      "Computing the msd similarity matrix...\n",
      "Done computing similarity matrix.\n",
      "Computing the msd similarity matrix...\n",
      "Done computing similarity matrix.\n",
      "Computing the msd similarity matrix...\n",
      "Done computing similarity matrix.\n",
      "Computing the msd similarity matrix...\n",
      "Done computing similarity matrix.\n",
      "Computing the msd similarity matrix...\n",
      "Done computing similarity matrix.\n",
      "Computing the msd similarity matrix...\n",
      "Done computing similarity matrix.\n",
      "Computing the msd similarity matrix...\n",
      "Done computing similarity matrix.\n",
      "Computing the msd similarity matrix...\n",
      "Done computing similarity matrix.\n",
      "Computing the msd similarity matrix...\n",
      "Done computing similarity matrix.\n",
      "Computing the msd similarity matrix...\n",
      "Done computing similarity matrix.\n",
      "Computing the msd similarity matrix...\n",
      "Done computing similarity matrix.\n",
      "Computing the msd similarity matrix...\n",
      "Done computing similarity matrix.\n",
      "Computing the msd similarity matrix...\n",
      "Done computing similarity matrix.\n",
      "Computing the msd similarity matrix...\n",
      "Done computing similarity matrix.\n",
      "Computing the msd similarity matrix...\n",
      "Done computing similarity matrix.\n",
      "Computing the msd similarity matrix...\n",
      "Done computing similarity matrix.\n",
      "Computing the msd similarity matrix...\n",
      "Done computing similarity matrix.\n",
      "Computing the msd similarity matrix...\n",
      "Done computing similarity matrix.\n",
      "Computing the msd similarity matrix...\n",
      "Done computing similarity matrix.\n",
      "Wall time: 7min 53s\n"
     ]
    }
   ],
   "source": [
    "%%time \n",
    "\n",
    "minK = 5\n",
    "maxK = 35\n",
    "step = 2\n",
    "cv = 5 \n",
    "sim_measure = \"msd\"\n",
    "user_based = False\n",
    "acc_measure1 = \"MAE\"\n",
    "acc_measure2 = \"test_mae\"\n",
    "model = KNNBasic\n",
    "\n",
    "mean_MAE = find_opt_k(minK, maxK, step, cv, rateData, sim_measure, user_based, acc_measure1, acc_measure2, model)"
   ]
  },
  {
   "cell_type": "code",
   "execution_count": 105,
   "metadata": {},
   "outputs": [
    {
     "data": {
      "image/png": "[encoded data removed]",
      "text/plain": [
       "<Figure size 432x288 with 1 Axes>"
      ]
     },
     "metadata": {
      "needs_background": "light"
     },
     "output_type": "display_data"
    }
   ],
   "source": [
    "k_neigh = np.arange(minK,maxK+1,step)\n",
    "k_neigh.shape\n",
    "plt.plot(k_neigh, mean_MAE, marker='o');\n",
    "plt.xlabel('K number of neighbors');\n",
    "plt.ylabel(acc_measure1);"
   ]
  },
  {
   "cell_type": "code",
   "execution_count": 106,
   "metadata": {},
   "outputs": [
    {
     "data": {
      "text/plain": [
       "13"
      ]
     },
     "execution_count": 106,
     "metadata": {},
     "output_type": "execute_result"
    }
   ],
   "source": [
    "k_neigh[np.argmin(mean_MAE)]"
   ]
  },
  {
   "cell_type": "code",
   "execution_count": 160,
   "metadata": {},
   "outputs": [
    {
     "name": "stdout",
     "output_type": "stream",
     "text": [
      "Computing the msd similarity matrix...\n",
      "Done computing similarity matrix.\n",
      "Computing the msd similarity matrix...\n",
      "Done computing similarity matrix.\n",
      "Computing the msd similarity matrix...\n",
      "Done computing similarity matrix.\n",
      "Computing the msd similarity matrix...\n",
      "Done computing similarity matrix.\n",
      "Computing the msd similarity matrix...\n",
      "Done computing similarity matrix.\n",
      "Evaluating MAE of algorithm KNNBasic on 5 split(s).\n",
      "\n",
      "                  Fold 1  Fold 2  Fold 3  Fold 4  Fold 5  Mean    Std     \n",
      "MAE (testset)     0.3538  0.3567  0.3518  0.3534  0.3582  0.3548  0.0023  \n",
      "Fit time          1.98    1.72    1.97    1.51    1.62    1.76    0.19    \n",
      "Test time         4.15    4.27    3.82    3.71    3.70    3.93    0.24    \n",
      "done in 29.970s.\n"
     ]
    }
   ],
   "source": [
    "# optimal KNN model \n",
    "\n",
    "sim_measure = \"msd\"\n",
    "user_based = False\n",
    "acc_measure1 = \"MAE\"\n",
    "acc_measure2 = \"test_mae\"\n",
    "model = KNNBasic\n",
    "k = 13\n",
    "\n",
    "t0 = time()\n",
    "\n",
    "sim_options = {\n",
    "    \"name\": sim_measure,\n",
    "    \"user_based\": user_based,  \n",
    "}\n",
    "knn = model(k=k, min_k=k, sim_options=sim_options)\n",
    "cv_results_knn = cross_validate(knn, rateData, measures=[acc_measure1], cv=5, verbose=True)\n",
    "\n",
    "print(\"done in %0.3fs.\" % (time() - t0))"
   ]
  },
  {
   "cell_type": "code",
   "execution_count": 161,
   "metadata": {},
   "outputs": [
    {
     "data": {
      "text/plain": [
       "0.35476628751040323"
      ]
     },
     "execution_count": 161,
     "metadata": {},
     "output_type": "execute_result"
    }
   ],
   "source": [
    "cv_results_knn[acc_measure2].mean()"
   ]
  },
  {
   "cell_type": "code",
   "execution_count": null,
   "metadata": {},
   "outputs": [],
   "source": []
  },
  {
   "cell_type": "code",
   "execution_count": null,
   "metadata": {},
   "outputs": [],
   "source": []
  },
  {
   "cell_type": "markdown",
   "metadata": {},
   "source": [
    "# Parameter Optimization"
   ]
  },
  {
   "cell_type": "markdown",
   "metadata": {},
   "source": [
    "##### SVD"
   ]
  },
  {
   "cell_type": "code",
   "execution_count": 109,
   "metadata": {},
   "outputs": [
    {
     "name": "stdout",
     "output_type": "stream",
     "text": [
      "done in 1996.456s.\n"
     ]
    }
   ],
   "source": [
    "# use GridSearch to find best parameters \n",
    "\n",
    "t0 = time()\n",
    "\n",
    "cv = KFold(n_splits = 5, random_state = 22)\n",
    "\n",
    "\n",
    "param_grid = {\"n_factors\": [50, 100],\n",
    "                \"n_epochs\": [10, 20],\n",
    "                \"biased\": [True, False],\n",
    "                \"lr_all\": [0.0005, 0.005, 0.05], \n",
    "                \"reg_all\": [0.002, 0.02, 0.2]\n",
    "              }\n",
    "\n",
    "\n",
    "gs_svd = GridSearchCV(SVD, param_grid, measures=[\"mae\"], cv=cv)\n",
    "gs_svd.fit(rateData)\n",
    "\n",
    "print(\"done in %0.3fs.\" % (time() - t0))"
   ]
  },
  {
   "cell_type": "code",
   "execution_count": 110,
   "metadata": {},
   "outputs": [
    {
     "data": {
      "text/html": [
       "<div>\n",
       "<style scoped>\n",
       "    .dataframe tbody tr th:only-of-type {\n",
       "        vertical-align: middle;\n",
       "    }\n",
       "\n",
       "    .dataframe tbody tr th {\n",
       "        vertical-align: top;\n",
       "    }\n",
       "\n",
       "    .dataframe thead th {\n",
       "        text-align: right;\n",
       "    }\n",
       "</style>\n",
       "<table border=\"1\" class=\"dataframe\">\n",
       "  <thead>\n",
       "    <tr style=\"text-align: right;\">\n",
       "      <th></th>\n",
       "      <th>params</th>\n",
       "      <th>mean_test_mae</th>\n",
       "    </tr>\n",
       "  </thead>\n",
       "  <tbody>\n",
       "    <tr>\n",
       "      <th>22</th>\n",
       "      <td>{'n_factors': 50, 'n_epochs': 20, 'biased': True, 'lr_all': 0.005, 'reg_all': 0.02}</td>\n",
       "      <td>0.3495</td>\n",
       "    </tr>\n",
       "    <tr>\n",
       "      <th>21</th>\n",
       "      <td>{'n_factors': 50, 'n_epochs': 20, 'biased': True, 'lr_all': 0.005, 'reg_all': 0.002}</td>\n",
       "      <td>0.3507</td>\n",
       "    </tr>\n",
       "    <tr>\n",
       "      <th>58</th>\n",
       "      <td>{'n_factors': 100, 'n_epochs': 20, 'biased': True, 'lr_all': 0.005, 'reg_all': 0.02}</td>\n",
       "      <td>0.3526</td>\n",
       "    </tr>\n",
       "    <tr>\n",
       "      <th>3</th>\n",
       "      <td>{'n_factors': 50, 'n_epochs': 10, 'biased': True, 'lr_all': 0.005, 'reg_all': 0.002}</td>\n",
       "      <td>0.3527</td>\n",
       "    </tr>\n",
       "    <tr>\n",
       "      <th>4</th>\n",
       "      <td>{'n_factors': 50, 'n_epochs': 10, 'biased': True, 'lr_all': 0.005, 'reg_all': 0.02}</td>\n",
       "      <td>0.3528</td>\n",
       "    </tr>\n",
       "  </tbody>\n",
       "</table>\n",
       "</div>"
      ],
      "text/plain": [
       "                                                                                  params  \\\n",
       "22   {'n_factors': 50, 'n_epochs': 20, 'biased': True, 'lr_all': 0.005, 'reg_all': 0.02}   \n",
       "21  {'n_factors': 50, 'n_epochs': 20, 'biased': True, 'lr_all': 0.005, 'reg_all': 0.002}   \n",
       "58  {'n_factors': 100, 'n_epochs': 20, 'biased': True, 'lr_all': 0.005, 'reg_all': 0.02}   \n",
       "3   {'n_factors': 50, 'n_epochs': 10, 'biased': True, 'lr_all': 0.005, 'reg_all': 0.002}   \n",
       "4    {'n_factors': 50, 'n_epochs': 10, 'biased': True, 'lr_all': 0.005, 'reg_all': 0.02}   \n",
       "\n",
       "          mean_test_mae  \n",
       "22               0.3495  \n",
       "21               0.3507  \n",
       "58               0.3526  \n",
       "3                0.3527  \n",
       "4                0.3528  "
      ]
     },
     "execution_count": 110,
     "metadata": {},
     "output_type": "execute_result"
    }
   ],
   "source": [
    "pd.options.display.float_format = '{:20,.4f}'.format\n",
    "\n",
    "df_svd = pd.DataFrame.from_dict(gs_svd.cv_results)\n",
    "cols = ['params', 'mean_test_mae']\n",
    "df_svd[cols].sort_values('mean_test_mae').head(5)"
   ]
  },
  {
   "cell_type": "code",
   "execution_count": null,
   "metadata": {},
   "outputs": [],
   "source": []
  },
  {
   "cell_type": "code",
   "execution_count": 111,
   "metadata": {},
   "outputs": [
    {
     "name": "stdout",
     "output_type": "stream",
     "text": [
      "Evaluating MAE of algorithm SVD on 5 split(s).\n",
      "\n",
      "                  Fold 1  Fold 2  Fold 3  Fold 4  Fold 5  Mean    Std     \n",
      "MAE (testset)     0.3509  0.3409  0.3508  0.3540  0.3492  0.3491  0.0044  \n",
      "Fit time          5.11    5.04    5.54    5.36    5.53    5.31    0.21    \n",
      "Test time         0.36    0.34    0.25    0.43    0.26    0.33    0.06    \n",
      "done in 29.762s.\n"
     ]
    }
   ],
   "source": [
    "# Optimal SVD model  \n",
    "\n",
    "t0 = time()\n",
    "\n",
    "svd = SVD(n_factors=50, n_epochs=20, biased=True, lr_all=0.005, reg_all=0.02)\n",
    "cv_results_SVD = cross_validate(svd, rateData, measures=['MAE'], cv=5, verbose=True)\n",
    "\n",
    "print(\"done in %0.3fs.\" % (time() - t0))"
   ]
  },
  {
   "cell_type": "code",
   "execution_count": 112,
   "metadata": {},
   "outputs": [
    {
     "data": {
      "text/plain": [
       "0.34914366672819386"
      ]
     },
     "execution_count": 112,
     "metadata": {},
     "output_type": "execute_result"
    }
   ],
   "source": [
    "cv_results_SVD['test_mae'].mean()"
   ]
  },
  {
   "cell_type": "code",
   "execution_count": null,
   "metadata": {},
   "outputs": [],
   "source": []
  },
  {
   "cell_type": "markdown",
   "metadata": {},
   "source": [
    "# Generate Predictions  "
   ]
  },
  {
   "cell_type": "code",
   "execution_count": null,
   "metadata": {},
   "outputs": [],
   "source": []
  },
  {
   "cell_type": "markdown",
   "metadata": {},
   "source": [
    "# Recommender Functions"
   ]
  },
  {
   "cell_type": "code",
   "execution_count": 507,
   "metadata": {},
   "outputs": [],
   "source": [
    "def get_recipe_names(recipe_df, col_name, col_type, col_id):\n",
    "    '''returns recipe names by index'''\n",
    "    \n",
    "    recipe_array_names = np.array(recipe_df[col_name])\n",
    "    recipe_array_types = np.array(recipe_df[col_type])\n",
    "    recipe_array_ids = np.array(recipe_df[col_id])\n",
    "    \n",
    "    return recipe_array_names, recipe_array_types, recipe_array_ids"
   ]
  },
  {
   "cell_type": "code",
   "execution_count": 508,
   "metadata": {},
   "outputs": [],
   "source": [
    "def get_rated_items(user, ratings_df, train_df, UID, RID, rate_col):\n",
    "    '''return an array of the rated items by user and an array of the ratings'''\n",
    "    \n",
    "    # get items rated by user by recipe_id\n",
    "    rated_items_by_user = np.array(ratings_df.loc[ratings_df[UID]==user][RID])\n",
    "    \n",
    "    # get ratings\n",
    "    ratings = np.array(ratings_df.loc[ratings_df[UID]==user][rate_col])\n",
    "    \n",
    "    # convert to trainset indicies\n",
    "    rated_items2 = np.empty((rated_items_by_user.shape[0],))\n",
    "    number_of_items = rated_items_by_user.shape[0]\n",
    "\n",
    "    for i in range(0, number_of_items):\n",
    "        rated_items2[i] = int(train_df.to_inner_iid(rated_items_by_user[i]))\n",
    "        \n",
    "    return rated_items2"
   ]
  },
  {
   "cell_type": "code",
   "execution_count": 509,
   "metadata": {},
   "outputs": [],
   "source": [
    "def get_top_rated_recipes(rating_df, UID, user, rate_col, RID, recipe_df, recipe_col_name, recipe_col_type, recipe_col_id):\n",
    "    '''returns names, types, and ratings of recipes with above-average ratings for that user'''\n",
    "    \n",
    "    # average rating by user\n",
    "    avg_rating = rating_df.loc[rating_df[UID]==user][rate_col].mean()\n",
    "\n",
    "    # get list of recipe IDs sorted by rating \n",
    "    user_ratings = rating_df.loc[rating_df[UID]==user].sort_values(rate_col, ascending=False)\n",
    "\n",
    "    # liked recipes - rating above average \n",
    "    liked_recipes = user_ratings.loc[user_ratings[rate_col] > avg_rating]\n",
    "    top_rated_recipe_ids = np.array(liked_recipes[RID])\n",
    "    top_rated_recipe_ratings = np.array(liked_recipes[rate_col])\n",
    "    \n",
    "    # get list of recipe names and corresponding indices \n",
    "    recipe_array_names, recipe_array_types, recipe_array_ids = get_recipe_names(recipe_df, recipe_col_name, recipe_col_type, recipe_col_id)\n",
    "    \n",
    "    # get list of recipe indices sorted by rating \n",
    "    top_rated_indx = np.where(np.in1d(recipe_array_ids, top_rated_recipe_ids))\n",
    "\n",
    "    # get list of top N recipes by name\n",
    "    recipe_names = recipe_array_names[top_rated_indx]\n",
    "    \n",
    "    # get list of types of top N recipes\n",
    "    recipe_types = recipe_array_types[top_rated_indx]\n",
    "    \n",
    "    return recipe_names, recipe_types, top_rated_recipe_ratings "
   ]
  },
  {
   "cell_type": "code",
   "execution_count": 510,
   "metadata": {},
   "outputs": [],
   "source": [
    "def get_user_predictions(user, train_df, model):\n",
    "    '''return predicted ratings for a user'''\n",
    "        \n",
    "    # get predicted ratings for all recipes for target user \n",
    "    ratings = np.empty((train_df.n_items,))\n",
    "    for i in train_df.all_items():\n",
    "        ratings[i] = model.predict(uid=train_df.to_inner_uid(user), iid=i).est\n",
    "        \n",
    "    # sort indexes of predicted ratings \n",
    "    rate_sort_indx = np.argsort(ratings)[::-1]\n",
    "    \n",
    "    # sort predicted ratings \n",
    "    rate_sort = np.sort(ratings)[::-1]    \n",
    "        \n",
    "    return rate_sort_indx, rate_sort "
   ]
  },
  {
   "cell_type": "code",
   "execution_count": 511,
   "metadata": {},
   "outputs": [],
   "source": [
    "def generate_user_recommendations(user, ratings_df, train_df, UID, RID, N, model, rate_col):\n",
    "    '''return top N recommended items for a user'''\n",
    "    \n",
    "    # generate predictions\n",
    "    rate_sort_indx, rate_sort = get_user_predictions(user, train_df, model)\n",
    "    \n",
    "    # remove already rated items \n",
    "    rated_items_inner = get_rated_items(user, ratings_df, train_df, UID, RID, rate_col)\n",
    "    recs_inner = np.array([i for i in rate_sort_indx if i not in rated_items_inner])\n",
    "    \n",
    "    # get original recipe_id\n",
    "    recs_orig = np.empty((recs_inner.shape[0],))\n",
    "    number_of_recs = recs_inner.shape[0]\n",
    "\n",
    "    for i in range(0, number_of_recs):\n",
    "        recs_orig[i] = train_df.to_raw_iid(recs_inner[i])\n",
    "    \n",
    "    return recs_orig[0:N], rate_sort[0:N]"
   ]
  },
  {
   "cell_type": "code",
   "execution_count": 512,
   "metadata": {},
   "outputs": [],
   "source": [
    "def get_top_predicted_recipes(user, rating_df, train_df, UID, RID, rate_col, \n",
    "                              recipe_df, recipe_col_name, recipe_col_type, recipe_col_id, N, model):\n",
    "    '''returns names of top N recommended recipes'''\n",
    "    \n",
    "    # get list of recipe IDs sorted by recommendation  \n",
    "    recs_indx, rate_sort = generate_user_recommendations(user, rating_df, train_df, UID, RID, N, model, rate_col)\n",
    "    \n",
    "    # get list of recipe names and corresponding indices \n",
    "    recipe_array_names, recipe_array_types, recipe_array_ids = get_recipe_names(recipe_df, recipe_col_name, recipe_col_type, recipe_col_id)\n",
    "    \n",
    "    # get list of recipe indices sorted by predicted rating \n",
    "    top_pred_indx = np.where(np.in1d(recipe_array_ids, recs_indx))\n",
    "\n",
    "    # get list of top N recipes by name\n",
    "    recipe_names = recipe_array_names[top_pred_indx]\n",
    "    \n",
    "    # get list of types of top N recipes \n",
    "    recipe_types = recipe_array_types[top_pred_indx]\n",
    "    \n",
    "    return recipe_names, recipe_types, rate_sort  "
   ]
  },
  {
   "cell_type": "code",
   "execution_count": 513,
   "metadata": {},
   "outputs": [],
   "source": [
    "def recipe_recommender(user, ratings_df, train_df, recipes_df, \n",
    "                       UID, RID, rate_col, recipe_col_name, recipe_col_type, recipe_col_id, N, model):\n",
    "    '''created dataframe with above average rated recipes and top N recommended recipes for a user'''\n",
    "        \n",
    "    # get top rated recipes \n",
    "    recipe_names_rated, recipe_types_rated, top_rated_recipe_ratings = get_top_rated_recipes(ratings_df, UID, user, \n",
    "                                     rate_col, RID, recipes_df, recipe_col_name, recipe_col_type, recipe_col_id)\n",
    "    \n",
    "    # get recommended recipes\n",
    "    recipe_names_rec, recipe_types_rec, rate_sort_rec = get_top_predicted_recipes(user, ratings_df, trainset, UID, RID, \n",
    "                                     rate_col, recipes_df, recipe_col_name, recipe_col_type, recipe_col_id, N, model)\n",
    "    \n",
    "        \n",
    "    #format into dataframes \n",
    "    df_rated1 = pd.DataFrame(recipe_names_rated, columns = ['Name'])\n",
    "    df_rated2 = pd.DataFrame(recipe_types_rated, columns = ['Type'])\n",
    "    df_rated3 = pd.DataFrame(top_rated_recipe_ratings, columns = ['Ratings'])\n",
    "    df_temp1 = df_rated1.join(df_rated2)\n",
    "    df_rated = df_temp1.join(df_rated3)\n",
    "    df_rated\n",
    "\n",
    "    df_pred1 = pd.DataFrame(recipe_names_rec, columns = ['Name'])\n",
    "    df_pred2 = pd.DataFrame(recipe_types_rec, columns = ['Type'])\n",
    "    df_pred3 = pd.DataFrame(rate_sort_rec, columns = ['Ratings'])\n",
    "    df_temp1 = df_pred1.join(df_pred2)\n",
    "    df_preds = df_temp1.join(df_pred3)\n",
    "\n",
    "    return df_rated, df_preds    "
   ]
  },
  {
   "cell_type": "code",
   "execution_count": null,
   "metadata": {},
   "outputs": [],
   "source": []
  },
  {
   "cell_type": "code",
   "execution_count": 514,
   "metadata": {},
   "outputs": [
    {
     "data": {
      "text/html": [
       "<div>\n",
       "<style scoped>\n",
       "    .dataframe tbody tr th:only-of-type {\n",
       "        vertical-align: middle;\n",
       "    }\n",
       "\n",
       "    .dataframe tbody tr th {\n",
       "        vertical-align: top;\n",
       "    }\n",
       "\n",
       "    .dataframe thead th {\n",
       "        text-align: right;\n",
       "    }\n",
       "</style>\n",
       "<table border=\"1\" class=\"dataframe\">\n",
       "  <thead>\n",
       "    <tr style=\"text-align: right;\">\n",
       "      <th></th>\n",
       "      <th>rating</th>\n",
       "    </tr>\n",
       "    <tr>\n",
       "      <th>user_id</th>\n",
       "      <th></th>\n",
       "    </tr>\n",
       "  </thead>\n",
       "  <tbody>\n",
       "    <tr>\n",
       "      <th>716215</th>\n",
       "      <td>73</td>\n",
       "    </tr>\n",
       "    <tr>\n",
       "      <th>314327</th>\n",
       "      <td>86</td>\n",
       "    </tr>\n",
       "    <tr>\n",
       "      <th>59921</th>\n",
       "      <td>100</td>\n",
       "    </tr>\n",
       "    <tr>\n",
       "      <th>603504</th>\n",
       "      <td>101</td>\n",
       "    </tr>\n",
       "    <tr>\n",
       "      <th>1250369</th>\n",
       "      <td>106</td>\n",
       "    </tr>\n",
       "  </tbody>\n",
       "</table>\n",
       "</div>"
      ],
      "text/plain": [
       "         rating\n",
       "user_id        \n",
       "716215       73\n",
       "314327       86\n",
       "59921       100\n",
       "603504      101\n",
       "1250369     106"
      ]
     },
     "execution_count": 514,
     "metadata": {},
     "output_type": "execute_result"
    }
   ],
   "source": [
    "#users wtih the fewest ratings\n",
    "df_ratings4.groupby('user_id')['rating'].sum().to_frame().sort_values('rating').head()"
   ]
  },
  {
   "cell_type": "code",
   "execution_count": 515,
   "metadata": {},
   "outputs": [
    {
     "data": {
      "text/html": [
       "<div>\n",
       "<style scoped>\n",
       "    .dataframe tbody tr th:only-of-type {\n",
       "        vertical-align: middle;\n",
       "    }\n",
       "\n",
       "    .dataframe tbody tr th {\n",
       "        vertical-align: top;\n",
       "    }\n",
       "\n",
       "    .dataframe thead th {\n",
       "        text-align: right;\n",
       "    }\n",
       "</style>\n",
       "<table border=\"1\" class=\"dataframe\">\n",
       "  <thead>\n",
       "    <tr style=\"text-align: right;\">\n",
       "      <th></th>\n",
       "      <th>rating</th>\n",
       "    </tr>\n",
       "    <tr>\n",
       "      <th>user_id</th>\n",
       "      <th></th>\n",
       "    </tr>\n",
       "  </thead>\n",
       "  <tbody>\n",
       "    <tr>\n",
       "      <th>158086</th>\n",
       "      <td>2346</td>\n",
       "    </tr>\n",
       "    <tr>\n",
       "      <th>173579</th>\n",
       "      <td>2813</td>\n",
       "    </tr>\n",
       "    <tr>\n",
       "      <th>176615</th>\n",
       "      <td>3094</td>\n",
       "    </tr>\n",
       "    <tr>\n",
       "      <th>126440</th>\n",
       "      <td>3132</td>\n",
       "    </tr>\n",
       "    <tr>\n",
       "      <th>140132</th>\n",
       "      <td>6765</td>\n",
       "    </tr>\n",
       "  </tbody>\n",
       "</table>\n",
       "</div>"
      ],
      "text/plain": [
       "         rating\n",
       "user_id        \n",
       "158086     2346\n",
       "173579     2813\n",
       "176615     3094\n",
       "126440     3132\n",
       "140132     6765"
      ]
     },
     "execution_count": 515,
     "metadata": {},
     "output_type": "execute_result"
    }
   ],
   "source": [
    "#users with the most ratings \n",
    "df_ratings4.groupby('user_id')['rating'].sum().to_frame().sort_values('rating').tail()"
   ]
  },
  {
   "cell_type": "code",
   "execution_count": 516,
   "metadata": {},
   "outputs": [],
   "source": [
    "trainset = rateData.build_full_trainset()"
   ]
  },
  {
   "cell_type": "code",
   "execution_count": 517,
   "metadata": {},
   "outputs": [
    {
     "data": {
      "text/plain": [
       "<surprise.prediction_algorithms.matrix_factorization.SVD at 0x1c7a6f6ee50>"
      ]
     },
     "execution_count": 517,
     "metadata": {},
     "output_type": "execute_result"
    }
   ],
   "source": [
    "# optimal SVD\n",
    "\n",
    "svd = SVD(n_factors=50, n_epochs=20, biased=True, lr_all=0.005, reg_all=0.02)\n",
    "svd.fit(trainset)"
   ]
  },
  {
   "cell_type": "code",
   "execution_count": 518,
   "metadata": {},
   "outputs": [
    {
     "name": "stdout",
     "output_type": "stream",
     "text": [
      "Computing the msd similarity matrix...\n",
      "Done computing similarity matrix.\n"
     ]
    },
    {
     "data": {
      "text/plain": [
       "<surprise.prediction_algorithms.knns.KNNBasic at 0x1c7a7169df0>"
      ]
     },
     "execution_count": 518,
     "metadata": {},
     "output_type": "execute_result"
    }
   ],
   "source": [
    "# optimal KNN model \n",
    "\n",
    "sim_options = {\"name\": \"msd\", \"user_based\": False}\n",
    "knn = KNNBasic(k=13, min_k=13, sim_options=sim_options)\n",
    "knn.fit(trainset)"
   ]
  },
  {
   "cell_type": "code",
   "execution_count": null,
   "metadata": {},
   "outputs": [],
   "source": []
  },
  {
   "cell_type": "markdown",
   "metadata": {},
   "source": [
    "# Generate Predictions"
   ]
  },
  {
   "cell_type": "code",
   "execution_count": 519,
   "metadata": {},
   "outputs": [],
   "source": [
    "N = 10\n",
    "model = svd\n",
    "user = 716215\n",
    "\n",
    "df_rated, df_preds = recipe_recommender(user, df_ratings4, trainset, recipes, \n",
    "                   'user_id', 'recipe_id', 'rating', 'name', 'meal_type', 'id', N, model)"
   ]
  },
  {
   "cell_type": "code",
   "execution_count": 520,
   "metadata": {},
   "outputs": [
    {
     "name": "stdout",
     "output_type": "stream",
     "text": [
      "10 of the top 14 recipes rated by user 716215 :\n"
     ]
    },
    {
     "data": {
      "text/html": [
       "<div>\n",
       "<style scoped>\n",
       "    .dataframe tbody tr th:only-of-type {\n",
       "        vertical-align: middle;\n",
       "    }\n",
       "\n",
       "    .dataframe tbody tr th {\n",
       "        vertical-align: top;\n",
       "    }\n",
       "\n",
       "    .dataframe thead th {\n",
       "        text-align: right;\n",
       "    }\n",
       "</style>\n",
       "<table border=\"1\" class=\"dataframe\">\n",
       "  <thead>\n",
       "    <tr style=\"text-align: right;\">\n",
       "      <th></th>\n",
       "      <th>Name</th>\n",
       "      <th>Type</th>\n",
       "      <th>Ratings</th>\n",
       "    </tr>\n",
       "  </thead>\n",
       "  <tbody>\n",
       "    <tr>\n",
       "      <th>0</th>\n",
       "      <td>awesome blueberry muffins</td>\n",
       "      <td>lunch</td>\n",
       "      <td>5</td>\n",
       "    </tr>\n",
       "    <tr>\n",
       "      <th>1</th>\n",
       "      <td>bacon and lettuce stuffed cherry tomatoes</td>\n",
       "      <td>side-dishes</td>\n",
       "      <td>5</td>\n",
       "    </tr>\n",
       "    <tr>\n",
       "      <th>2</th>\n",
       "      <td>beer  n bbq braised country style pork ribs</td>\n",
       "      <td>main-dish</td>\n",
       "      <td>5</td>\n",
       "    </tr>\n",
       "    <tr>\n",
       "      <th>3</th>\n",
       "      <td>chicken pesto</td>\n",
       "      <td>main-dish</td>\n",
       "      <td>4</td>\n",
       "    </tr>\n",
       "    <tr>\n",
       "      <th>4</th>\n",
       "      <td>clam chowder   stew</td>\n",
       "      <td>main-dish</td>\n",
       "      <td>4</td>\n",
       "    </tr>\n",
       "    <tr>\n",
       "      <th>5</th>\n",
       "      <td>creamy cajun chicken pasta</td>\n",
       "      <td>main-dish</td>\n",
       "      <td>4</td>\n",
       "    </tr>\n",
       "    <tr>\n",
       "      <th>6</th>\n",
       "      <td>mashed red potatoes with garlic and parmesan</td>\n",
       "      <td>side-dishes</td>\n",
       "      <td>3</td>\n",
       "    </tr>\n",
       "    <tr>\n",
       "      <th>7</th>\n",
       "      <td>microwave poached egg on toast</td>\n",
       "      <td>breakfast</td>\n",
       "      <td>3</td>\n",
       "    </tr>\n",
       "    <tr>\n",
       "      <th>8</th>\n",
       "      <td>mini tacos</td>\n",
       "      <td>main-dish</td>\n",
       "      <td>3</td>\n",
       "    </tr>\n",
       "    <tr>\n",
       "      <th>9</th>\n",
       "      <td>pork chops yum yum</td>\n",
       "      <td>main-dish</td>\n",
       "      <td>3</td>\n",
       "    </tr>\n",
       "  </tbody>\n",
       "</table>\n",
       "</div>"
      ],
      "text/plain": [
       "                                           Name         Type  Ratings\n",
       "0                     awesome blueberry muffins        lunch        5\n",
       "1     bacon and lettuce stuffed cherry tomatoes  side-dishes        5\n",
       "2   beer  n bbq braised country style pork ribs    main-dish        5\n",
       "3                                 chicken pesto    main-dish        4\n",
       "4                           clam chowder   stew    main-dish        4\n",
       "5                    creamy cajun chicken pasta    main-dish        4\n",
       "6  mashed red potatoes with garlic and parmesan  side-dishes        3\n",
       "7                microwave poached egg on toast    breakfast        3\n",
       "8                                    mini tacos    main-dish        3\n",
       "9                            pork chops yum yum    main-dish        3"
      ]
     },
     "execution_count": 520,
     "metadata": {},
     "output_type": "execute_result"
    }
   ],
   "source": [
    "print('10 of the top', df_rated.shape[0], 'recipes rated by user', user,':')\n",
    "pd.options.display.float_format = '{:20,.0f}'.format\n",
    "df_rated.head(10)"
   ]
  },
  {
   "cell_type": "code",
   "execution_count": 521,
   "metadata": {},
   "outputs": [
    {
     "name": "stdout",
     "output_type": "stream",
     "text": [
      "Top 14 recipes rated by user 716215 \n",
      " by % of meal type:\n"
     ]
    },
    {
     "data": {
      "text/html": [
       "<div>\n",
       "<style scoped>\n",
       "    .dataframe tbody tr th:only-of-type {\n",
       "        vertical-align: middle;\n",
       "    }\n",
       "\n",
       "    .dataframe tbody tr th {\n",
       "        vertical-align: top;\n",
       "    }\n",
       "\n",
       "    .dataframe thead th {\n",
       "        text-align: right;\n",
       "    }\n",
       "</style>\n",
       "<table border=\"1\" class=\"dataframe\">\n",
       "  <thead>\n",
       "    <tr style=\"text-align: right;\">\n",
       "      <th></th>\n",
       "      <th>Type</th>\n",
       "    </tr>\n",
       "  </thead>\n",
       "  <tbody>\n",
       "    <tr>\n",
       "      <th>main-dish</th>\n",
       "      <td>61.54</td>\n",
       "    </tr>\n",
       "    <tr>\n",
       "      <th>side-dishes</th>\n",
       "      <td>15.38</td>\n",
       "    </tr>\n",
       "    <tr>\n",
       "      <th>breakfast</th>\n",
       "      <td>7.69</td>\n",
       "    </tr>\n",
       "    <tr>\n",
       "      <th>lunch</th>\n",
       "      <td>7.69</td>\n",
       "    </tr>\n",
       "    <tr>\n",
       "      <th>soups-stews</th>\n",
       "      <td>7.69</td>\n",
       "    </tr>\n",
       "  </tbody>\n",
       "</table>\n",
       "</div>"
      ],
      "text/plain": [
       "                            Type\n",
       "main-dish                  61.54\n",
       "side-dishes                15.38\n",
       "breakfast                   7.69\n",
       "lunch                       7.69\n",
       "soups-stews                 7.69"
      ]
     },
     "execution_count": 521,
     "metadata": {},
     "output_type": "execute_result"
    }
   ],
   "source": [
    "print('Top', df_rated.shape[0], 'recipes rated by user', user,'\\n by % of meal type:')\n",
    "pd.options.display.float_format = '{:20,.2f}'.format\n",
    "(df_rated['Type'].value_counts(normalize=True)*100).to_frame()"
   ]
  },
  {
   "cell_type": "code",
   "execution_count": 522,
   "metadata": {},
   "outputs": [
    {
     "name": "stdout",
     "output_type": "stream",
     "text": [
      "Top 10 recommended recipes:\n"
     ]
    },
    {
     "data": {
      "text/html": [
       "<div>\n",
       "<style scoped>\n",
       "    .dataframe tbody tr th:only-of-type {\n",
       "        vertical-align: middle;\n",
       "    }\n",
       "\n",
       "    .dataframe tbody tr th {\n",
       "        vertical-align: top;\n",
       "    }\n",
       "\n",
       "    .dataframe thead th {\n",
       "        text-align: right;\n",
       "    }\n",
       "</style>\n",
       "<table border=\"1\" class=\"dataframe\">\n",
       "  <thead>\n",
       "    <tr style=\"text-align: right;\">\n",
       "      <th></th>\n",
       "      <th>Name</th>\n",
       "      <th>Type</th>\n",
       "      <th>Ratings</th>\n",
       "    </tr>\n",
       "  </thead>\n",
       "  <tbody>\n",
       "    <tr>\n",
       "      <th>0</th>\n",
       "      <td>3 packet roast</td>\n",
       "      <td>main-dish</td>\n",
       "      <td>4.94</td>\n",
       "    </tr>\n",
       "    <tr>\n",
       "      <th>1</th>\n",
       "      <td>50  whole wheat bread</td>\n",
       "      <td>breads</td>\n",
       "      <td>4.93</td>\n",
       "    </tr>\n",
       "    <tr>\n",
       "      <th>2</th>\n",
       "      <td>baby pacifiers  shower favors</td>\n",
       "      <td>None</td>\n",
       "      <td>4.92</td>\n",
       "    </tr>\n",
       "    <tr>\n",
       "      <th>3</th>\n",
       "      <td>delicious corn muffins</td>\n",
       "      <td>vegetables</td>\n",
       "      <td>4.92</td>\n",
       "    </tr>\n",
       "    <tr>\n",
       "      <th>4</th>\n",
       "      <td>grilled balsamic asparagus</td>\n",
       "      <td>side-dishes</td>\n",
       "      <td>4.91</td>\n",
       "    </tr>\n",
       "    <tr>\n",
       "      <th>5</th>\n",
       "      <td>grilled pork chops marinade</td>\n",
       "      <td>main-dish</td>\n",
       "      <td>4.90</td>\n",
       "    </tr>\n",
       "    <tr>\n",
       "      <th>6</th>\n",
       "      <td>key west key lime cake</td>\n",
       "      <td>desserts</td>\n",
       "      <td>4.90</td>\n",
       "    </tr>\n",
       "    <tr>\n",
       "      <th>7</th>\n",
       "      <td>lawry s taco spices   seasoning mix by todd wi...</td>\n",
       "      <td>condiments-etc</td>\n",
       "      <td>4.89</td>\n",
       "    </tr>\n",
       "    <tr>\n",
       "      <th>8</th>\n",
       "      <td>melt in your mouth pumpkin bread</td>\n",
       "      <td>lunch</td>\n",
       "      <td>4.89</td>\n",
       "    </tr>\n",
       "    <tr>\n",
       "      <th>9</th>\n",
       "      <td>sticky soy wings</td>\n",
       "      <td>appetizers</td>\n",
       "      <td>4.89</td>\n",
       "    </tr>\n",
       "  </tbody>\n",
       "</table>\n",
       "</div>"
      ],
      "text/plain": [
       "                                                Name            Type  \\\n",
       "0                                     3 packet roast       main-dish   \n",
       "1                              50  whole wheat bread          breads   \n",
       "2                      baby pacifiers  shower favors            None   \n",
       "3                             delicious corn muffins      vegetables   \n",
       "4                         grilled balsamic asparagus     side-dishes   \n",
       "5                        grilled pork chops marinade       main-dish   \n",
       "6                             key west key lime cake        desserts   \n",
       "7  lawry s taco spices   seasoning mix by todd wi...  condiments-etc   \n",
       "8                   melt in your mouth pumpkin bread           lunch   \n",
       "9                                   sticky soy wings      appetizers   \n",
       "\n",
       "               Ratings  \n",
       "0                 4.94  \n",
       "1                 4.93  \n",
       "2                 4.92  \n",
       "3                 4.92  \n",
       "4                 4.91  \n",
       "5                 4.90  \n",
       "6                 4.90  \n",
       "7                 4.89  \n",
       "8                 4.89  \n",
       "9                 4.89  "
      ]
     },
     "execution_count": 522,
     "metadata": {},
     "output_type": "execute_result"
    }
   ],
   "source": [
    "print('Top', N, 'recommended recipes:')\n",
    "pd.options.display.float_format = '{:20,.2f}'.format\n",
    "df_preds"
   ]
  },
  {
   "cell_type": "code",
   "execution_count": null,
   "metadata": {},
   "outputs": [],
   "source": []
  },
  {
   "cell_type": "code",
   "execution_count": 523,
   "metadata": {},
   "outputs": [],
   "source": [
    "user = 173579\n",
    "\n",
    "df_rated, df_preds = recipe_recommender(user, df_ratings4, trainset, recipes, \n",
    "                   'user_id', 'recipe_id', 'rating', 'name', 'meal_type', 'id', N, model)"
   ]
  },
  {
   "cell_type": "code",
   "execution_count": 524,
   "metadata": {},
   "outputs": [
    {
     "name": "stdout",
     "output_type": "stream",
     "text": [
      "10 of the top 535 recipes rated by user 173579 :\n"
     ]
    },
    {
     "data": {
      "text/html": [
       "<div>\n",
       "<style scoped>\n",
       "    .dataframe tbody tr th:only-of-type {\n",
       "        vertical-align: middle;\n",
       "    }\n",
       "\n",
       "    .dataframe tbody tr th {\n",
       "        vertical-align: top;\n",
       "    }\n",
       "\n",
       "    .dataframe thead th {\n",
       "        text-align: right;\n",
       "    }\n",
       "</style>\n",
       "<table border=\"1\" class=\"dataframe\">\n",
       "  <thead>\n",
       "    <tr style=\"text-align: right;\">\n",
       "      <th></th>\n",
       "      <th>Name</th>\n",
       "      <th>Type</th>\n",
       "      <th>Ratings</th>\n",
       "    </tr>\n",
       "  </thead>\n",
       "  <tbody>\n",
       "    <tr>\n",
       "      <th>0</th>\n",
       "      <td>ant  kelly s london broil marinade</td>\n",
       "      <td>None</td>\n",
       "      <td>5</td>\n",
       "    </tr>\n",
       "    <tr>\n",
       "      <th>1</th>\n",
       "      <td>kelly s creamy cheddar pea salad</td>\n",
       "      <td>side-dishes</td>\n",
       "      <td>5</td>\n",
       "    </tr>\n",
       "    <tr>\n",
       "      <th>2</th>\n",
       "      <td>swiss  round steak with onion gravy</td>\n",
       "      <td>main-dish</td>\n",
       "      <td>5</td>\n",
       "    </tr>\n",
       "    <tr>\n",
       "      <th>3</th>\n",
       "      <td>panera bread  black bean soup</td>\n",
       "      <td>main-dish</td>\n",
       "      <td>5</td>\n",
       "    </tr>\n",
       "    <tr>\n",
       "      <th>4</th>\n",
       "      <td>1 pan fudge cake</td>\n",
       "      <td>desserts</td>\n",
       "      <td>5</td>\n",
       "    </tr>\n",
       "    <tr>\n",
       "      <th>5</th>\n",
       "      <td>24k carrots</td>\n",
       "      <td>side-dishes</td>\n",
       "      <td>5</td>\n",
       "    </tr>\n",
       "    <tr>\n",
       "      <th>6</th>\n",
       "      <td>30 minute cheesy baked ravioli</td>\n",
       "      <td>main-dish</td>\n",
       "      <td>5</td>\n",
       "    </tr>\n",
       "    <tr>\n",
       "      <th>7</th>\n",
       "      <td>4 minute spicy garlic shrimp</td>\n",
       "      <td>main-dish</td>\n",
       "      <td>5</td>\n",
       "    </tr>\n",
       "    <tr>\n",
       "      <th>8</th>\n",
       "      <td>4th of july grilled salmon  or chicken</td>\n",
       "      <td>main-dish</td>\n",
       "      <td>5</td>\n",
       "    </tr>\n",
       "    <tr>\n",
       "      <th>9</th>\n",
       "      <td>55 house salad</td>\n",
       "      <td>brunch</td>\n",
       "      <td>5</td>\n",
       "    </tr>\n",
       "  </tbody>\n",
       "</table>\n",
       "</div>"
      ],
      "text/plain": [
       "                                     Name         Type  Ratings\n",
       "0      ant  kelly s london broil marinade         None        5\n",
       "1        kelly s creamy cheddar pea salad  side-dishes        5\n",
       "2     swiss  round steak with onion gravy    main-dish        5\n",
       "3           panera bread  black bean soup    main-dish        5\n",
       "4                        1 pan fudge cake     desserts        5\n",
       "5                             24k carrots  side-dishes        5\n",
       "6          30 minute cheesy baked ravioli    main-dish        5\n",
       "7            4 minute spicy garlic shrimp    main-dish        5\n",
       "8  4th of july grilled salmon  or chicken    main-dish        5\n",
       "9                          55 house salad       brunch        5"
      ]
     },
     "execution_count": 524,
     "metadata": {},
     "output_type": "execute_result"
    }
   ],
   "source": [
    "print('10 of the top', df_rated.shape[0], 'recipes rated by user', user,':')\n",
    "pd.options.display.float_format = '{:20,.0f}'.format\n",
    "df_rated.head(10)"
   ]
  },
  {
   "cell_type": "code",
   "execution_count": 525,
   "metadata": {},
   "outputs": [
    {
     "name": "stdout",
     "output_type": "stream",
     "text": [
      "Top 10 recommended recipes for user 173579 :\n"
     ]
    },
    {
     "data": {
      "text/html": [
       "<div>\n",
       "<style scoped>\n",
       "    .dataframe tbody tr th:only-of-type {\n",
       "        vertical-align: middle;\n",
       "    }\n",
       "\n",
       "    .dataframe tbody tr th {\n",
       "        vertical-align: top;\n",
       "    }\n",
       "\n",
       "    .dataframe thead th {\n",
       "        text-align: right;\n",
       "    }\n",
       "</style>\n",
       "<table border=\"1\" class=\"dataframe\">\n",
       "  <thead>\n",
       "    <tr style=\"text-align: right;\">\n",
       "      <th></th>\n",
       "      <th>Name</th>\n",
       "      <th>Type</th>\n",
       "      <th>Ratings</th>\n",
       "    </tr>\n",
       "  </thead>\n",
       "  <tbody>\n",
       "    <tr>\n",
       "      <th>0</th>\n",
       "      <td>3 packet roast</td>\n",
       "      <td>main-dish</td>\n",
       "      <td>4.94</td>\n",
       "    </tr>\n",
       "    <tr>\n",
       "      <th>1</th>\n",
       "      <td>50  whole wheat bread</td>\n",
       "      <td>breads</td>\n",
       "      <td>4.93</td>\n",
       "    </tr>\n",
       "    <tr>\n",
       "      <th>2</th>\n",
       "      <td>baby pacifiers  shower favors</td>\n",
       "      <td>None</td>\n",
       "      <td>4.92</td>\n",
       "    </tr>\n",
       "    <tr>\n",
       "      <th>3</th>\n",
       "      <td>grilled balsamic asparagus</td>\n",
       "      <td>side-dishes</td>\n",
       "      <td>4.92</td>\n",
       "    </tr>\n",
       "    <tr>\n",
       "      <th>4</th>\n",
       "      <td>grilled pork chops marinade</td>\n",
       "      <td>main-dish</td>\n",
       "      <td>4.91</td>\n",
       "    </tr>\n",
       "    <tr>\n",
       "      <th>5</th>\n",
       "      <td>key west key lime cake</td>\n",
       "      <td>desserts</td>\n",
       "      <td>4.90</td>\n",
       "    </tr>\n",
       "    <tr>\n",
       "      <th>6</th>\n",
       "      <td>kittencal s strawberry shortcake</td>\n",
       "      <td>desserts</td>\n",
       "      <td>4.90</td>\n",
       "    </tr>\n",
       "    <tr>\n",
       "      <th>7</th>\n",
       "      <td>lawry s taco spices   seasoning mix by todd wi...</td>\n",
       "      <td>condiments-etc</td>\n",
       "      <td>4.89</td>\n",
       "    </tr>\n",
       "    <tr>\n",
       "      <th>8</th>\n",
       "      <td>melt in your mouth pumpkin bread</td>\n",
       "      <td>lunch</td>\n",
       "      <td>4.89</td>\n",
       "    </tr>\n",
       "    <tr>\n",
       "      <th>9</th>\n",
       "      <td>sticky soy wings</td>\n",
       "      <td>appetizers</td>\n",
       "      <td>4.89</td>\n",
       "    </tr>\n",
       "  </tbody>\n",
       "</table>\n",
       "</div>"
      ],
      "text/plain": [
       "                                                Name            Type  \\\n",
       "0                                     3 packet roast       main-dish   \n",
       "1                              50  whole wheat bread          breads   \n",
       "2                      baby pacifiers  shower favors            None   \n",
       "3                         grilled balsamic asparagus     side-dishes   \n",
       "4                        grilled pork chops marinade       main-dish   \n",
       "5                             key west key lime cake        desserts   \n",
       "6                   kittencal s strawberry shortcake        desserts   \n",
       "7  lawry s taco spices   seasoning mix by todd wi...  condiments-etc   \n",
       "8                   melt in your mouth pumpkin bread           lunch   \n",
       "9                                   sticky soy wings      appetizers   \n",
       "\n",
       "               Ratings  \n",
       "0                 4.94  \n",
       "1                 4.93  \n",
       "2                 4.92  \n",
       "3                 4.92  \n",
       "4                 4.91  \n",
       "5                 4.90  \n",
       "6                 4.90  \n",
       "7                 4.89  \n",
       "8                 4.89  \n",
       "9                 4.89  "
      ]
     },
     "execution_count": 525,
     "metadata": {},
     "output_type": "execute_result"
    }
   ],
   "source": [
    "print('Top', N, 'recommended recipes for user', user,':')\n",
    "pd.options.display.float_format = '{:20,.2f}'.format\n",
    "df_preds"
   ]
  },
  {
   "cell_type": "code",
   "execution_count": null,
   "metadata": {},
   "outputs": [],
   "source": []
  },
  {
   "cell_type": "code",
   "execution_count": null,
   "metadata": {},
   "outputs": [],
   "source": []
  },
  {
   "cell_type": "code",
   "execution_count": null,
   "metadata": {},
   "outputs": [],
   "source": []
  },
  {
   "cell_type": "code",
   "execution_count": 526,
   "metadata": {},
   "outputs": [],
   "source": [
    "user = 314327\n",
    "\n",
    "df_rated, df_preds = recipe_recommender(user, \n",
    "                    df_ratings4, trainset, recipes, \n",
    "                   'user_id', 'recipe_id', 'rating', 'name', 'meal_type', 'id', N, model)"
   ]
  },
  {
   "cell_type": "code",
   "execution_count": 527,
   "metadata": {},
   "outputs": [
    {
     "name": "stdout",
     "output_type": "stream",
     "text": [
      "10 of the top 16 recipes rated by user 314327 :\n"
     ]
    },
    {
     "data": {
      "text/html": [
       "<div>\n",
       "<style scoped>\n",
       "    .dataframe tbody tr th:only-of-type {\n",
       "        vertical-align: middle;\n",
       "    }\n",
       "\n",
       "    .dataframe tbody tr th {\n",
       "        vertical-align: top;\n",
       "    }\n",
       "\n",
       "    .dataframe thead th {\n",
       "        text-align: right;\n",
       "    }\n",
       "</style>\n",
       "<table border=\"1\" class=\"dataframe\">\n",
       "  <thead>\n",
       "    <tr style=\"text-align: right;\">\n",
       "      <th></th>\n",
       "      <th>Name</th>\n",
       "      <th>Type</th>\n",
       "      <th>Ratings</th>\n",
       "    </tr>\n",
       "  </thead>\n",
       "  <tbody>\n",
       "    <tr>\n",
       "      <th>0</th>\n",
       "      <td>anasazi enchiladas</td>\n",
       "      <td>main-dish</td>\n",
       "      <td>5</td>\n",
       "    </tr>\n",
       "    <tr>\n",
       "      <th>1</th>\n",
       "      <td>banana banana bread</td>\n",
       "      <td>breads</td>\n",
       "      <td>5</td>\n",
       "    </tr>\n",
       "    <tr>\n",
       "      <th>2</th>\n",
       "      <td>buttermilk pancakes</td>\n",
       "      <td>breakfast</td>\n",
       "      <td>5</td>\n",
       "    </tr>\n",
       "    <tr>\n",
       "      <th>3</th>\n",
       "      <td>carne guisada  mexican beef stew</td>\n",
       "      <td>main-dish</td>\n",
       "      <td>5</td>\n",
       "    </tr>\n",
       "    <tr>\n",
       "      <th>4</th>\n",
       "      <td>carrabba s house salad dressing  creamy parmes...</td>\n",
       "      <td>salads</td>\n",
       "      <td>5</td>\n",
       "    </tr>\n",
       "    <tr>\n",
       "      <th>5</th>\n",
       "      <td>crock pot chicken with black beans   cream cheese</td>\n",
       "      <td>main-dish</td>\n",
       "      <td>5</td>\n",
       "    </tr>\n",
       "    <tr>\n",
       "      <th>6</th>\n",
       "      <td>lasagna soup</td>\n",
       "      <td>main-dish</td>\n",
       "      <td>4</td>\n",
       "    </tr>\n",
       "    <tr>\n",
       "      <th>7</th>\n",
       "      <td>most incredible no fail pie crust</td>\n",
       "      <td>desserts</td>\n",
       "      <td>4</td>\n",
       "    </tr>\n",
       "    <tr>\n",
       "      <th>8</th>\n",
       "      <td>ooey gooey cinnamon rolls</td>\n",
       "      <td>breads</td>\n",
       "      <td>4</td>\n",
       "    </tr>\n",
       "    <tr>\n",
       "      <th>9</th>\n",
       "      <td>outback steakhouse style steak</td>\n",
       "      <td>main-dish</td>\n",
       "      <td>4</td>\n",
       "    </tr>\n",
       "  </tbody>\n",
       "</table>\n",
       "</div>"
      ],
      "text/plain": [
       "                                                Name       Type  Ratings\n",
       "0                                 anasazi enchiladas  main-dish        5\n",
       "1                                banana banana bread     breads        5\n",
       "2                                buttermilk pancakes  breakfast        5\n",
       "3                   carne guisada  mexican beef stew  main-dish        5\n",
       "4  carrabba s house salad dressing  creamy parmes...     salads        5\n",
       "5  crock pot chicken with black beans   cream cheese  main-dish        5\n",
       "6                                       lasagna soup  main-dish        4\n",
       "7                  most incredible no fail pie crust   desserts        4\n",
       "8                          ooey gooey cinnamon rolls     breads        4\n",
       "9                     outback steakhouse style steak  main-dish        4"
      ]
     },
     "execution_count": 527,
     "metadata": {},
     "output_type": "execute_result"
    }
   ],
   "source": [
    "print('10 of the top', df_rated.shape[0], 'recipes rated by user', user,':')\n",
    "pd.options.display.float_format = '{:20,.0f}'.format\n",
    "df_rated.head(10)"
   ]
  },
  {
   "cell_type": "code",
   "execution_count": 528,
   "metadata": {},
   "outputs": [
    {
     "name": "stdout",
     "output_type": "stream",
     "text": [
      "Top 10 recommended recipes:\n"
     ]
    },
    {
     "data": {
      "text/html": [
       "<div>\n",
       "<style scoped>\n",
       "    .dataframe tbody tr th:only-of-type {\n",
       "        vertical-align: middle;\n",
       "    }\n",
       "\n",
       "    .dataframe tbody tr th {\n",
       "        vertical-align: top;\n",
       "    }\n",
       "\n",
       "    .dataframe thead th {\n",
       "        text-align: right;\n",
       "    }\n",
       "</style>\n",
       "<table border=\"1\" class=\"dataframe\">\n",
       "  <thead>\n",
       "    <tr style=\"text-align: right;\">\n",
       "      <th></th>\n",
       "      <th>Name</th>\n",
       "      <th>Type</th>\n",
       "      <th>Ratings</th>\n",
       "    </tr>\n",
       "  </thead>\n",
       "  <tbody>\n",
       "    <tr>\n",
       "      <th>0</th>\n",
       "      <td>3 packet roast</td>\n",
       "      <td>main-dish</td>\n",
       "      <td>4.94</td>\n",
       "    </tr>\n",
       "    <tr>\n",
       "      <th>1</th>\n",
       "      <td>50  whole wheat bread</td>\n",
       "      <td>breads</td>\n",
       "      <td>4.93</td>\n",
       "    </tr>\n",
       "    <tr>\n",
       "      <th>2</th>\n",
       "      <td>baby pacifiers  shower favors</td>\n",
       "      <td>None</td>\n",
       "      <td>4.92</td>\n",
       "    </tr>\n",
       "    <tr>\n",
       "      <th>3</th>\n",
       "      <td>delicious corn muffins</td>\n",
       "      <td>vegetables</td>\n",
       "      <td>4.92</td>\n",
       "    </tr>\n",
       "    <tr>\n",
       "      <th>4</th>\n",
       "      <td>grilled balsamic asparagus</td>\n",
       "      <td>side-dishes</td>\n",
       "      <td>4.91</td>\n",
       "    </tr>\n",
       "    <tr>\n",
       "      <th>5</th>\n",
       "      <td>grilled pork chops marinade</td>\n",
       "      <td>main-dish</td>\n",
       "      <td>4.90</td>\n",
       "    </tr>\n",
       "    <tr>\n",
       "      <th>6</th>\n",
       "      <td>key west key lime cake</td>\n",
       "      <td>desserts</td>\n",
       "      <td>4.90</td>\n",
       "    </tr>\n",
       "    <tr>\n",
       "      <th>7</th>\n",
       "      <td>lawry s taco spices   seasoning mix by todd wi...</td>\n",
       "      <td>condiments-etc</td>\n",
       "      <td>4.89</td>\n",
       "    </tr>\n",
       "    <tr>\n",
       "      <th>8</th>\n",
       "      <td>melt in your mouth pumpkin bread</td>\n",
       "      <td>lunch</td>\n",
       "      <td>4.89</td>\n",
       "    </tr>\n",
       "    <tr>\n",
       "      <th>9</th>\n",
       "      <td>sticky soy wings</td>\n",
       "      <td>appetizers</td>\n",
       "      <td>4.89</td>\n",
       "    </tr>\n",
       "  </tbody>\n",
       "</table>\n",
       "</div>"
      ],
      "text/plain": [
       "                                                Name            Type  \\\n",
       "0                                     3 packet roast       main-dish   \n",
       "1                              50  whole wheat bread          breads   \n",
       "2                      baby pacifiers  shower favors            None   \n",
       "3                             delicious corn muffins      vegetables   \n",
       "4                         grilled balsamic asparagus     side-dishes   \n",
       "5                        grilled pork chops marinade       main-dish   \n",
       "6                             key west key lime cake        desserts   \n",
       "7  lawry s taco spices   seasoning mix by todd wi...  condiments-etc   \n",
       "8                   melt in your mouth pumpkin bread           lunch   \n",
       "9                                   sticky soy wings      appetizers   \n",
       "\n",
       "               Ratings  \n",
       "0                 4.94  \n",
       "1                 4.93  \n",
       "2                 4.92  \n",
       "3                 4.92  \n",
       "4                 4.91  \n",
       "5                 4.90  \n",
       "6                 4.90  \n",
       "7                 4.89  \n",
       "8                 4.89  \n",
       "9                 4.89  "
      ]
     },
     "execution_count": 528,
     "metadata": {},
     "output_type": "execute_result"
    }
   ],
   "source": [
    "print('Top', N, 'recommended recipes:')\n",
    "pd.options.display.float_format = '{:20,.2f}'.format\n",
    "df_preds"
   ]
  },
  {
   "cell_type": "code",
   "execution_count": null,
   "metadata": {},
   "outputs": [],
   "source": []
  },
  {
   "cell_type": "code",
   "execution_count": 529,
   "metadata": {},
   "outputs": [],
   "source": [
    "user = 20480\n",
    "\n",
    "df_rated, df_preds = recipe_recommender(user, \n",
    "                    df_ratings4, trainset, recipes, \n",
    "                   'user_id', 'recipe_id', 'rating', 'name', 'meal_type', 'id', N, model)"
   ]
  },
  {
   "cell_type": "code",
   "execution_count": 530,
   "metadata": {},
   "outputs": [
    {
     "name": "stdout",
     "output_type": "stream",
     "text": [
      "10 of the top 114 recipes rated by user 20480 :\n"
     ]
    },
    {
     "data": {
      "text/html": [
       "<div>\n",
       "<style scoped>\n",
       "    .dataframe tbody tr th:only-of-type {\n",
       "        vertical-align: middle;\n",
       "    }\n",
       "\n",
       "    .dataframe tbody tr th {\n",
       "        vertical-align: top;\n",
       "    }\n",
       "\n",
       "    .dataframe thead th {\n",
       "        text-align: right;\n",
       "    }\n",
       "</style>\n",
       "<table border=\"1\" class=\"dataframe\">\n",
       "  <thead>\n",
       "    <tr style=\"text-align: right;\">\n",
       "      <th></th>\n",
       "      <th>Name</th>\n",
       "      <th>Type</th>\n",
       "      <th>Ratings</th>\n",
       "    </tr>\n",
       "  </thead>\n",
       "  <tbody>\n",
       "    <tr>\n",
       "      <th>0</th>\n",
       "      <td>land of nod  cinnamon buns</td>\n",
       "      <td>breakfast</td>\n",
       "      <td>5</td>\n",
       "    </tr>\n",
       "    <tr>\n",
       "      <th>1</th>\n",
       "      <td>100  whole wheat bread  bread machine</td>\n",
       "      <td>breads</td>\n",
       "      <td>5</td>\n",
       "    </tr>\n",
       "    <tr>\n",
       "      <th>2</th>\n",
       "      <td>24k carrots</td>\n",
       "      <td>side-dishes</td>\n",
       "      <td>5</td>\n",
       "    </tr>\n",
       "    <tr>\n",
       "      <th>3</th>\n",
       "      <td>55 house salad</td>\n",
       "      <td>brunch</td>\n",
       "      <td>5</td>\n",
       "    </tr>\n",
       "    <tr>\n",
       "      <th>4</th>\n",
       "      <td>african banana coconut bake</td>\n",
       "      <td>desserts</td>\n",
       "      <td>5</td>\n",
       "    </tr>\n",
       "    <tr>\n",
       "      <th>5</th>\n",
       "      <td>antipasto wraps</td>\n",
       "      <td>lunch</td>\n",
       "      <td>5</td>\n",
       "    </tr>\n",
       "    <tr>\n",
       "      <th>6</th>\n",
       "      <td>awesome pan fried potatoes</td>\n",
       "      <td>side-dishes</td>\n",
       "      <td>5</td>\n",
       "    </tr>\n",
       "    <tr>\n",
       "      <th>7</th>\n",
       "      <td>baked ziti from cook s illustrated</td>\n",
       "      <td>main-dish</td>\n",
       "      <td>5</td>\n",
       "    </tr>\n",
       "    <tr>\n",
       "      <th>8</th>\n",
       "      <td>balsamic asparagus</td>\n",
       "      <td>side-dishes</td>\n",
       "      <td>5</td>\n",
       "    </tr>\n",
       "    <tr>\n",
       "      <th>9</th>\n",
       "      <td>balsamic chicken thighs</td>\n",
       "      <td>main-dish</td>\n",
       "      <td>5</td>\n",
       "    </tr>\n",
       "  </tbody>\n",
       "</table>\n",
       "</div>"
      ],
      "text/plain": [
       "                                    Name         Type  Ratings\n",
       "0             land of nod  cinnamon buns    breakfast        5\n",
       "1  100  whole wheat bread  bread machine       breads        5\n",
       "2                            24k carrots  side-dishes        5\n",
       "3                         55 house salad       brunch        5\n",
       "4            african banana coconut bake     desserts        5\n",
       "5                        antipasto wraps        lunch        5\n",
       "6             awesome pan fried potatoes  side-dishes        5\n",
       "7     baked ziti from cook s illustrated    main-dish        5\n",
       "8                     balsamic asparagus  side-dishes        5\n",
       "9                balsamic chicken thighs    main-dish        5"
      ]
     },
     "execution_count": 530,
     "metadata": {},
     "output_type": "execute_result"
    }
   ],
   "source": [
    "print('10 of the top', df_rated.shape[0], 'recipes rated by user', user,':')\n",
    "pd.options.display.float_format = '{:20,.0f}'.format\n",
    "df_rated.head(10)"
   ]
  },
  {
   "cell_type": "code",
   "execution_count": 531,
   "metadata": {},
   "outputs": [
    {
     "name": "stdout",
     "output_type": "stream",
     "text": [
      "Top 10 recommended recipes:\n"
     ]
    },
    {
     "data": {
      "text/html": [
       "<div>\n",
       "<style scoped>\n",
       "    .dataframe tbody tr th:only-of-type {\n",
       "        vertical-align: middle;\n",
       "    }\n",
       "\n",
       "    .dataframe tbody tr th {\n",
       "        vertical-align: top;\n",
       "    }\n",
       "\n",
       "    .dataframe thead th {\n",
       "        text-align: right;\n",
       "    }\n",
       "</style>\n",
       "<table border=\"1\" class=\"dataframe\">\n",
       "  <thead>\n",
       "    <tr style=\"text-align: right;\">\n",
       "      <th></th>\n",
       "      <th>Name</th>\n",
       "      <th>Type</th>\n",
       "      <th>Ratings</th>\n",
       "    </tr>\n",
       "  </thead>\n",
       "  <tbody>\n",
       "    <tr>\n",
       "      <th>0</th>\n",
       "      <td>3 packet roast</td>\n",
       "      <td>main-dish</td>\n",
       "      <td>4.94</td>\n",
       "    </tr>\n",
       "    <tr>\n",
       "      <th>1</th>\n",
       "      <td>50  whole wheat bread</td>\n",
       "      <td>breads</td>\n",
       "      <td>4.93</td>\n",
       "    </tr>\n",
       "    <tr>\n",
       "      <th>2</th>\n",
       "      <td>baby pacifiers  shower favors</td>\n",
       "      <td>None</td>\n",
       "      <td>4.92</td>\n",
       "    </tr>\n",
       "    <tr>\n",
       "      <th>3</th>\n",
       "      <td>delicious corn muffins</td>\n",
       "      <td>vegetables</td>\n",
       "      <td>4.92</td>\n",
       "    </tr>\n",
       "    <tr>\n",
       "      <th>4</th>\n",
       "      <td>grilled balsamic asparagus</td>\n",
       "      <td>side-dishes</td>\n",
       "      <td>4.91</td>\n",
       "    </tr>\n",
       "    <tr>\n",
       "      <th>5</th>\n",
       "      <td>grilled pork chops marinade</td>\n",
       "      <td>main-dish</td>\n",
       "      <td>4.90</td>\n",
       "    </tr>\n",
       "    <tr>\n",
       "      <th>6</th>\n",
       "      <td>key west key lime cake</td>\n",
       "      <td>desserts</td>\n",
       "      <td>4.90</td>\n",
       "    </tr>\n",
       "    <tr>\n",
       "      <th>7</th>\n",
       "      <td>lawry s taco spices   seasoning mix by todd wi...</td>\n",
       "      <td>condiments-etc</td>\n",
       "      <td>4.89</td>\n",
       "    </tr>\n",
       "    <tr>\n",
       "      <th>8</th>\n",
       "      <td>melt in your mouth pumpkin bread</td>\n",
       "      <td>lunch</td>\n",
       "      <td>4.89</td>\n",
       "    </tr>\n",
       "    <tr>\n",
       "      <th>9</th>\n",
       "      <td>sticky soy wings</td>\n",
       "      <td>appetizers</td>\n",
       "      <td>4.89</td>\n",
       "    </tr>\n",
       "  </tbody>\n",
       "</table>\n",
       "</div>"
      ],
      "text/plain": [
       "                                                Name            Type  \\\n",
       "0                                     3 packet roast       main-dish   \n",
       "1                              50  whole wheat bread          breads   \n",
       "2                      baby pacifiers  shower favors            None   \n",
       "3                             delicious corn muffins      vegetables   \n",
       "4                         grilled balsamic asparagus     side-dishes   \n",
       "5                        grilled pork chops marinade       main-dish   \n",
       "6                             key west key lime cake        desserts   \n",
       "7  lawry s taco spices   seasoning mix by todd wi...  condiments-etc   \n",
       "8                   melt in your mouth pumpkin bread           lunch   \n",
       "9                                   sticky soy wings      appetizers   \n",
       "\n",
       "               Ratings  \n",
       "0                 4.94  \n",
       "1                 4.93  \n",
       "2                 4.92  \n",
       "3                 4.92  \n",
       "4                 4.91  \n",
       "5                 4.90  \n",
       "6                 4.90  \n",
       "7                 4.89  \n",
       "8                 4.89  \n",
       "9                 4.89  "
      ]
     },
     "execution_count": 531,
     "metadata": {},
     "output_type": "execute_result"
    }
   ],
   "source": [
    "print('Top', N, 'recommended recipes:')\n",
    "pd.options.display.float_format = '{:20,.2f}'.format\n",
    "df_preds"
   ]
  },
  {
   "cell_type": "code",
   "execution_count": null,
   "metadata": {},
   "outputs": [],
   "source": []
  },
  {
   "cell_type": "code",
   "execution_count": null,
   "metadata": {},
   "outputs": [],
   "source": []
  },
  {
   "cell_type": "code",
   "execution_count": 532,
   "metadata": {},
   "outputs": [],
   "source": [
    "user = 176615\n",
    "\n",
    "df_rated, df_preds = recipe_recommender(user, \n",
    "                    df_ratings4, trainset, recipes, \n",
    "                   'user_id', 'recipe_id', 'rating', 'name', 'meal_type', 'id', N, model)"
   ]
  },
  {
   "cell_type": "code",
   "execution_count": 533,
   "metadata": {},
   "outputs": [
    {
     "name": "stdout",
     "output_type": "stream",
     "text": [
      "10 of the top 602 recipes rated by user 176615 :\n"
     ]
    },
    {
     "data": {
      "text/html": [
       "<div>\n",
       "<style scoped>\n",
       "    .dataframe tbody tr th:only-of-type {\n",
       "        vertical-align: middle;\n",
       "    }\n",
       "\n",
       "    .dataframe tbody tr th {\n",
       "        vertical-align: top;\n",
       "    }\n",
       "\n",
       "    .dataframe thead th {\n",
       "        text-align: right;\n",
       "    }\n",
       "</style>\n",
       "<table border=\"1\" class=\"dataframe\">\n",
       "  <thead>\n",
       "    <tr style=\"text-align: right;\">\n",
       "      <th></th>\n",
       "      <th>Name</th>\n",
       "      <th>Type</th>\n",
       "      <th>Ratings</th>\n",
       "    </tr>\n",
       "  </thead>\n",
       "  <tbody>\n",
       "    <tr>\n",
       "      <th>0</th>\n",
       "      <td>land of nod  cinnamon buns</td>\n",
       "      <td>breakfast</td>\n",
       "      <td>5</td>\n",
       "    </tr>\n",
       "    <tr>\n",
       "      <th>1</th>\n",
       "      <td>never weep  whipped cream</td>\n",
       "      <td>condiments-etc</td>\n",
       "      <td>5</td>\n",
       "    </tr>\n",
       "    <tr>\n",
       "      <th>2</th>\n",
       "      <td>whatever floats your boat  brownies</td>\n",
       "      <td>desserts</td>\n",
       "      <td>5</td>\n",
       "    </tr>\n",
       "    <tr>\n",
       "      <th>3</th>\n",
       "      <td>1 2 3 apple crisp</td>\n",
       "      <td>desserts</td>\n",
       "      <td>5</td>\n",
       "    </tr>\n",
       "    <tr>\n",
       "      <th>4</th>\n",
       "      <td>1 hour ham and bean soup</td>\n",
       "      <td>main-dish</td>\n",
       "      <td>5</td>\n",
       "    </tr>\n",
       "    <tr>\n",
       "      <th>5</th>\n",
       "      <td>100  whole wheat blueberry muffins</td>\n",
       "      <td>lunch</td>\n",
       "      <td>5</td>\n",
       "    </tr>\n",
       "    <tr>\n",
       "      <th>6</th>\n",
       "      <td>24k carrots</td>\n",
       "      <td>side-dishes</td>\n",
       "      <td>5</td>\n",
       "    </tr>\n",
       "    <tr>\n",
       "      <th>7</th>\n",
       "      <td>30 minute cheesy baked ravioli</td>\n",
       "      <td>main-dish</td>\n",
       "      <td>5</td>\n",
       "    </tr>\n",
       "    <tr>\n",
       "      <th>8</th>\n",
       "      <td>40 minute hamburger buns</td>\n",
       "      <td>breads</td>\n",
       "      <td>5</td>\n",
       "    </tr>\n",
       "    <tr>\n",
       "      <th>9</th>\n",
       "      <td>allrighty then scrambled eggs   paula deen</td>\n",
       "      <td>brunch</td>\n",
       "      <td>5</td>\n",
       "    </tr>\n",
       "  </tbody>\n",
       "</table>\n",
       "</div>"
      ],
      "text/plain": [
       "                                         Name            Type  Ratings\n",
       "0                  land of nod  cinnamon buns       breakfast        5\n",
       "1                   never weep  whipped cream  condiments-etc        5\n",
       "2         whatever floats your boat  brownies        desserts        5\n",
       "3                           1 2 3 apple crisp        desserts        5\n",
       "4                    1 hour ham and bean soup       main-dish        5\n",
       "5          100  whole wheat blueberry muffins           lunch        5\n",
       "6                                 24k carrots     side-dishes        5\n",
       "7              30 minute cheesy baked ravioli       main-dish        5\n",
       "8                    40 minute hamburger buns          breads        5\n",
       "9  allrighty then scrambled eggs   paula deen          brunch        5"
      ]
     },
     "execution_count": 533,
     "metadata": {},
     "output_type": "execute_result"
    }
   ],
   "source": [
    "print('10 of the top', df_rated.shape[0], 'recipes rated by user', user,':')\n",
    "pd.options.display.float_format = '{:20,.0f}'.format\n",
    "df_rated.head(10)"
   ]
  },
  {
   "cell_type": "code",
   "execution_count": 534,
   "metadata": {},
   "outputs": [
    {
     "name": "stdout",
     "output_type": "stream",
     "text": [
      "Top 10 recommended recipes:\n"
     ]
    },
    {
     "data": {
      "text/html": [
       "<div>\n",
       "<style scoped>\n",
       "    .dataframe tbody tr th:only-of-type {\n",
       "        vertical-align: middle;\n",
       "    }\n",
       "\n",
       "    .dataframe tbody tr th {\n",
       "        vertical-align: top;\n",
       "    }\n",
       "\n",
       "    .dataframe thead th {\n",
       "        text-align: right;\n",
       "    }\n",
       "</style>\n",
       "<table border=\"1\" class=\"dataframe\">\n",
       "  <thead>\n",
       "    <tr style=\"text-align: right;\">\n",
       "      <th></th>\n",
       "      <th>Name</th>\n",
       "      <th>Type</th>\n",
       "      <th>Ratings</th>\n",
       "    </tr>\n",
       "  </thead>\n",
       "  <tbody>\n",
       "    <tr>\n",
       "      <th>0</th>\n",
       "      <td>3 packet roast</td>\n",
       "      <td>main-dish</td>\n",
       "      <td>4.94</td>\n",
       "    </tr>\n",
       "    <tr>\n",
       "      <th>1</th>\n",
       "      <td>50  whole wheat bread</td>\n",
       "      <td>breads</td>\n",
       "      <td>4.93</td>\n",
       "    </tr>\n",
       "    <tr>\n",
       "      <th>2</th>\n",
       "      <td>baby pacifiers  shower favors</td>\n",
       "      <td>None</td>\n",
       "      <td>4.92</td>\n",
       "    </tr>\n",
       "    <tr>\n",
       "      <th>3</th>\n",
       "      <td>grilled balsamic asparagus</td>\n",
       "      <td>side-dishes</td>\n",
       "      <td>4.92</td>\n",
       "    </tr>\n",
       "    <tr>\n",
       "      <th>4</th>\n",
       "      <td>grilled pork chops marinade</td>\n",
       "      <td>main-dish</td>\n",
       "      <td>4.91</td>\n",
       "    </tr>\n",
       "    <tr>\n",
       "      <th>5</th>\n",
       "      <td>key west key lime cake</td>\n",
       "      <td>desserts</td>\n",
       "      <td>4.90</td>\n",
       "    </tr>\n",
       "    <tr>\n",
       "      <th>6</th>\n",
       "      <td>kittencal s strawberry shortcake</td>\n",
       "      <td>desserts</td>\n",
       "      <td>4.90</td>\n",
       "    </tr>\n",
       "    <tr>\n",
       "      <th>7</th>\n",
       "      <td>lawry s taco spices   seasoning mix by todd wi...</td>\n",
       "      <td>condiments-etc</td>\n",
       "      <td>4.89</td>\n",
       "    </tr>\n",
       "    <tr>\n",
       "      <th>8</th>\n",
       "      <td>melt in your mouth pumpkin bread</td>\n",
       "      <td>lunch</td>\n",
       "      <td>4.89</td>\n",
       "    </tr>\n",
       "    <tr>\n",
       "      <th>9</th>\n",
       "      <td>sticky soy wings</td>\n",
       "      <td>appetizers</td>\n",
       "      <td>4.89</td>\n",
       "    </tr>\n",
       "  </tbody>\n",
       "</table>\n",
       "</div>"
      ],
      "text/plain": [
       "                                                Name            Type  \\\n",
       "0                                     3 packet roast       main-dish   \n",
       "1                              50  whole wheat bread          breads   \n",
       "2                      baby pacifiers  shower favors            None   \n",
       "3                         grilled balsamic asparagus     side-dishes   \n",
       "4                        grilled pork chops marinade       main-dish   \n",
       "5                             key west key lime cake        desserts   \n",
       "6                   kittencal s strawberry shortcake        desserts   \n",
       "7  lawry s taco spices   seasoning mix by todd wi...  condiments-etc   \n",
       "8                   melt in your mouth pumpkin bread           lunch   \n",
       "9                                   sticky soy wings      appetizers   \n",
       "\n",
       "               Ratings  \n",
       "0                 4.94  \n",
       "1                 4.93  \n",
       "2                 4.92  \n",
       "3                 4.92  \n",
       "4                 4.91  \n",
       "5                 4.90  \n",
       "6                 4.90  \n",
       "7                 4.89  \n",
       "8                 4.89  \n",
       "9                 4.89  "
      ]
     },
     "execution_count": 534,
     "metadata": {},
     "output_type": "execute_result"
    }
   ],
   "source": [
    "print('Top', N, 'recommended recipes:')\n",
    "pd.options.display.float_format = '{:20,.2f}'.format\n",
    "df_preds"
   ]
  },
  {
   "cell_type": "code",
   "execution_count": null,
   "metadata": {},
   "outputs": [],
   "source": []
  },
  {
   "cell_type": "code",
   "execution_count": null,
   "metadata": {},
   "outputs": [],
   "source": []
  },
  {
   "cell_type": "code",
   "execution_count": null,
   "metadata": {},
   "outputs": [],
   "source": []
  }
 ],
 "metadata": {
  "kernelspec": {
   "display_name": "Python 3",
   "language": "python",
   "name": "python3"
  },
  "language_info": {
   "codemirror_mode": {
    "name": "ipython",
    "version": 3
   },
   "file_extension": ".py",
   "mimetype": "text/x-python",
   "name": "python",
   "nbconvert_exporter": "python",
   "pygments_lexer": "ipython3",
   "version": "3.8.3"
  }
 },
 "nbformat": 4,
 "nbformat_minor": 4
}
